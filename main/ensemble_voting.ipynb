{
 "cells": [
  {
   "cell_type": "code",
   "execution_count": 1,
   "metadata": {
    "collapsed": true
   },
   "outputs": [],
   "source": [
    "# required package import\n",
    "import numpy as np\n",
    "import pandas as pd\n",
    "import time\n",
    "\n",
    "from sklearn.metrics import accuracy_score\n",
    "from sklearn.metrics import f1_score\n",
    "from sklearn.ensemble import AdaBoostClassifier\n",
    "from sklearn.ensemble import RandomForestClassifier\n",
    "import xgboost as xgb\n",
    "#from lightgbm import LGBMClassifier\n",
    "\n",
    "from sklearn.ensemble import VotingClassifier\n",
    "from lime import lime_tabular\n",
    "from lime import submodular_pick\n"
   ]
  },
  {
   "cell_type": "code",
   "execution_count": 2,
   "outputs": [],
   "source": [
    "x_train = pd.read_csv('../data/fill_data/x_train.csv')\n",
    "x_valid = pd.read_csv('../data/fill_data/x_valid.csv')\n",
    "y_train = pd.read_csv('../data/fill_data/y_train.csv')\n",
    "y_valid = pd.read_csv('../data/fill_data/y_valid.csv')\n",
    "x_test = pd.read_csv('../data/fill_data/x_test.csv')\n",
    "y_test = pd.read_csv('../data/fill_data/y_test.csv')"
   ],
   "metadata": {
    "collapsed": false
   }
  },
  {
   "cell_type": "code",
   "execution_count": 3,
   "outputs": [
    {
     "name": "stdout",
     "output_type": "stream",
     "text": [
      "y_train.unique:  [1. 0.]\n",
      "y_valid.unique:  [1. 0.]\n",
      "y_test.unique:  [1. 0.]\n"
     ]
    }
   ],
   "source": [
    "class2idx = {-1:0, 1:1}\n",
    "idx2class = {v: k for k, v, in class2idx.items()}\n",
    "\n",
    "y_train.replace(class2idx, inplace = True)\n",
    "y_valid.replace(class2idx, inplace = True)\n",
    "y_test.replace(class2idx, inplace = True)\n",
    "\n",
    "print(\"y_train.unique: \", y_train.label.unique())\n",
    "print(\"y_valid.unique: \", y_valid.label.unique())\n",
    "print(\"y_test.unique: \", y_test.label.unique())"
   ],
   "metadata": {
    "collapsed": false
   }
  },
  {
   "cell_type": "code",
   "execution_count": 4,
   "outputs": [],
   "source": [
    "y_train = np.array(y_train).ravel()\n",
    "y_valid = np.array(y_valid).ravel()\n",
    "y_test = np.array(y_test).ravel()"
   ],
   "metadata": {
    "collapsed": false
   }
  },
  {
   "cell_type": "code",
   "execution_count": 5,
   "outputs": [
    {
     "name": "stdout",
     "output_type": "stream",
     "text": [
      "x_train.shape:  (99157, 83)\n",
      "y_train.shape:  (99157,)\n",
      "x_valid.shape:  (7990, 83)\n",
      "y_valid.shape:  (7990,)\n",
      "x_test.shape:  (7912, 83)\n",
      "y_test.shape:  (7912,)\n"
     ]
    }
   ],
   "source": [
    "# check data shape\n",
    "print(\"x_train.shape: \", x_train.shape)\n",
    "print(\"y_train.shape: \", y_train.shape)\n",
    "print(\"x_valid.shape: \", x_valid.shape)\n",
    "print(\"y_valid.shape: \", y_valid.shape)\n",
    "print(\"x_test.shape: \", x_test.shape)\n",
    "print(\"y_test.shape: \", y_test.shape)"
   ],
   "metadata": {
    "collapsed": false
   }
  },
  {
   "cell_type": "markdown",
   "source": [
    "### adaboost"
   ],
   "metadata": {
    "collapsed": false
   }
  },
  {
   "cell_type": "code",
   "execution_count": 6,
   "outputs": [
    {
     "name": "stdout",
     "output_type": "stream",
     "text": [
      "model training time:  345.27329993247986\n",
      "Accuracy:  0.8756819992537087\n",
      "fl-score:  0.9255809179983457\n",
      "Accuracy:  0.8659574468085106\n",
      "fl-score:  0.9198173242494572\n",
      "Accuracy:  0.8814459049544995\n",
      "fl-score:  0.9288099574984822\n"
     ]
    }
   ],
   "source": [
    "# final_model\n",
    "start_T = time.time()\n",
    "adaboost = AdaBoostClassifier(n_estimators=1126, learning_rate=1.496)\n",
    "adaboost.fit(x_train, y_train)\n",
    "end_T = time.time()\n",
    "print(\"model training time: \", end_T - start_T)\n",
    "\n",
    "# prediction and evaluation\n",
    "# train data\n",
    "ada_train_pred_y = adaboost.predict(x_train)\n",
    "print('Accuracy: ', (accuracy_score(y_train, ada_train_pred_y)))\n",
    "print('fl-score: ', (f1_score(y_train, ada_train_pred_y)))\n",
    "\n",
    "# valid data\n",
    "ada_valid_pred_y = adaboost.predict(x_valid)\n",
    "print('Accuracy: ', (accuracy_score(y_valid, ada_valid_pred_y)))\n",
    "print('fl-score: ', (f1_score(y_valid, ada_valid_pred_y)))\n",
    "\n",
    "# test data\n",
    "ada_test_pred_y = adaboost.predict(x_test)\n",
    "print('Accuracy: ', (accuracy_score(y_test, ada_test_pred_y)))\n",
    "print('fl-score: ', (f1_score(y_test, ada_test_pred_y)))"
   ],
   "metadata": {
    "collapsed": false
   }
  },
  {
   "cell_type": "markdown",
   "source": [
    "### random forest"
   ],
   "metadata": {
    "collapsed": false
   }
  },
  {
   "cell_type": "code",
   "execution_count": 7,
   "outputs": [
    {
     "name": "stdout",
     "output_type": "stream",
     "text": [
      "model training time:  252.29882311820984\n",
      "Accuracy:  0.9996772794658975\n",
      "fl-score:  0.999800064978882\n",
      "Accuracy:  0.8846057571964956\n",
      "fl-score:  0.9304885404101326\n",
      "Accuracy:  0.8938321536905965\n",
      "fl-score:  0.9359072180680603\n"
     ]
    }
   ],
   "source": [
    "# final_model\n",
    "start_T = time.time()\n",
    "rf = RandomForestClassifier(max_samples= 0.9206 ,n_estimators=75 ,max_features=0.9854)\n",
    "rf.fit(x_train, y_train)\n",
    "end_T = time.time()\n",
    "print(\"model training time: \", end_T - start_T)\n",
    "\n",
    "# prediction and evaluation\n",
    "# train data\n",
    "rf_train_pred_y = rf.predict(x_train)\n",
    "print('Accuracy: ', (accuracy_score(y_train, rf_train_pred_y)))\n",
    "print('fl-score: ', (f1_score(y_train, rf_train_pred_y)))\n",
    "\n",
    "# valid data\n",
    "rf_valid_pred_y = rf.predict(x_valid)\n",
    "print('Accuracy: ', (accuracy_score(y_valid, rf_valid_pred_y)))\n",
    "print('fl-score: ', (f1_score(y_valid, rf_valid_pred_y)))\n",
    "\n",
    "# test data\n",
    "rf_test_pred_y = rf.predict(x_test)\n",
    "print('Accuracy: ', (accuracy_score(y_test, rf_test_pred_y)))\n",
    "print('fl-score: ', (f1_score(y_test, rf_test_pred_y)))"
   ],
   "metadata": {
    "collapsed": false
   }
  },
  {
   "cell_type": "markdown",
   "source": [
    "### XGBoost"
   ],
   "metadata": {
    "collapsed": false
   }
  },
  {
   "cell_type": "code",
   "execution_count": 8,
   "outputs": [
    {
     "name": "stdout",
     "output_type": "stream",
     "text": [
      "model training time:  5.984353065490723\n",
      "Accuracy:  0.8856661657775043\n",
      "fl-score:  0.9317282619823313\n",
      "Accuracy:  0.8821026282853567\n",
      "fl-score:  0.9296174536760312\n",
      "Accuracy:  0.893958543983822\n",
      "fl-score:  0.9363767346629256\n"
     ]
    }
   ],
   "source": [
    "# final_model\n",
    "start_T = time.time()\n",
    "xgb_m = xgb.XGBClassifier(max_depth = 6, learning_rate=0.1614, n_estimators = 30, gamma=10.95, min_child_weight=2.061, subsample=0.601, colsample_bytree=0.8121)\n",
    "xgb_m.fit(x_train, y_train)\n",
    "end_T = time.time()\n",
    "print(\"model training time: \", end_T - start_T)\n",
    "\n",
    "# prediction and evaluation\n",
    "# train data\n",
    "xgb_train_pred_y = xgb_m.predict(x_train)\n",
    "print('Accuracy: ', (accuracy_score(y_train, xgb_train_pred_y)))\n",
    "print('fl-score: ', (f1_score(y_train, xgb_train_pred_y)))\n",
    "\n",
    "# valid data\n",
    "xgb_valid_pred_y = xgb_m.predict(x_valid)\n",
    "print('Accuracy: ', (accuracy_score(y_valid, xgb_valid_pred_y)))\n",
    "print('fl-score: ', (f1_score(y_valid, xgb_valid_pred_y)))\n",
    "\n",
    "# test data\n",
    "xgb_test_pred_y = xgb_m.predict(x_test)\n",
    "print('Accuracy: ', (accuracy_score(y_test, xgb_test_pred_y)))\n",
    "print('fl-score: ', (f1_score(y_test, xgb_test_pred_y)))"
   ],
   "metadata": {
    "collapsed": false
   }
  },
  {
   "cell_type": "markdown",
   "source": [
    "### LGBM"
   ],
   "metadata": {
    "collapsed": false
   }
  },
  {
   "cell_type": "code",
   "execution_count": 9,
   "outputs": [],
   "source": [
    "# # final_model\n",
    "# start_T = time.time()\n",
    "# lgbm = LGBMClassifier(n_estimators = 378, min_data_in_leaf = 36, learning_rate =0.2430823373157657,\n",
    "#                         max_depth = 2, num_leaves = 49)\n",
    "# lgbm.fit(x_train, y_train)\n",
    "# end_T = time.time()\n",
    "# print(\"model training time: \", end_T - start_T)\n",
    "#\n",
    "# # prediction and evaluation\n",
    "# # train data\n",
    "# lgbm_train_pred_y = lgbm.predict(x_train)\n",
    "# print('Accuracy: ', (accuracy_score(y_train, lgbm_train_pred_y)))\n",
    "# print('fl-score: ', (f1_score(y_train, lgbm_train_pred_y)))\n",
    "#\n",
    "# # valid data\n",
    "# lgbm_valid_pred_y = lgbm.predict(x_valid)\n",
    "# print('Accuracy: ', (accuracy_score(y_valid, lgbm_valid_pred_y)))\n",
    "# print('fl-score: ', (f1_score(y_valid, lgbm_valid_pred_y)))\n",
    "#\n",
    "# # test data\n",
    "# lgbm_test_pred_y = lgbm.predict(x_test)\n",
    "# print('Accuracy: ', (accuracy_score(y_test, lgbm_test_pred_y)))\n",
    "# print('fl-score: ', (f1_score(y_test, lgbm_test_pred_y)))"
   ],
   "metadata": {
    "collapsed": false
   }
  },
  {
   "cell_type": "markdown",
   "source": [
    "### voting"
   ],
   "metadata": {
    "collapsed": false
   }
  },
  {
   "cell_type": "markdown",
   "source": [
    "#### 1. hard voting"
   ],
   "metadata": {
    "collapsed": false
   }
  },
  {
   "cell_type": "code",
   "execution_count": 10,
   "outputs": [],
   "source": [
    "# hard_voting_model = VotingClassifier(estimators = [('Adaboost', adaboost), ('RandomForest', rf), ('XGBoost', xgb_m), ('LGBM', lgbm)], voting = 'hard')\n",
    "#\n",
    "# start_T = time.time()\n",
    "# hard_voting_model.fit(x_train, y_train)\n",
    "# end_T = time.time()\n",
    "# print(\"model training time: \", end_T - start_T)\n",
    "#\n",
    "# # prediction and evaluation\n",
    "# # train data\n",
    "# hard_train_pred_y = hard_voting_model.predict(x_train)\n",
    "# print('Accuracy: ', (accuracy_score(y_train, hard_train_pred_y)))\n",
    "# print('fl-score: ', (f1_score(y_train, hard_train_pred_y)))\n",
    "#\n",
    "# # valid data\n",
    "# hard_valid_pred_y = hard_voting_model.predict(x_valid)\n",
    "# print('Accuracy: ', (accuracy_score(y_valid, hard_valid_pred_y)))\n",
    "# print('fl-score: ', (f1_score(y_valid, hard_valid_pred_y)))\n",
    "#\n",
    "# # test data\n",
    "# hard_test_pred_y = hard_voting_model.predict(x_test)\n",
    "# print('Accuracy: ', (accuracy_score(y_test, hard_test_pred_y)))\n",
    "# print('fl-score: ', (f1_score(y_test, hard_test_pred_y)))"
   ],
   "metadata": {
    "collapsed": false
   }
  },
  {
   "cell_type": "markdown",
   "source": [
    "### soft voting"
   ],
   "metadata": {
    "collapsed": false
   }
  },
  {
   "cell_type": "code",
   "execution_count": 11,
   "outputs": [
    {
     "name": "stdout",
     "output_type": "stream",
     "text": [
      "model training time:  596.0949280261993\n",
      "Accuracy:  0.9453392095363918\n",
      "fl-score:  0.966935897123057\n",
      "Accuracy:  0.8852315394242803\n",
      "fl-score:  0.931233595800525\n",
      "Accuracy:  0.8956016177957533\n",
      "fl-score:  0.9372721749696235\n"
     ]
    }
   ],
   "source": [
    "soft_voting_model = VotingClassifier(estimators = [('Adaboost', adaboost), ('RandomForest', rf), ('XGBoost', xgb_m)], voting = 'soft')\n",
    "\n",
    "start_T = time.time()\n",
    "soft_voting_model.fit(x_train, y_train)\n",
    "end_T = time.time()\n",
    "print(\"model training time: \", end_T - start_T)\n",
    "\n",
    "# prediction and evaluation\n",
    "# train data\n",
    "soft_train_pred_y = soft_voting_model.predict(x_train)\n",
    "print('Accuracy: ', (accuracy_score(y_train, soft_train_pred_y)))\n",
    "print('fl-score: ', (f1_score(y_train, soft_train_pred_y)))\n",
    "\n",
    "# valid data\n",
    "soft_valid_pred_y = soft_voting_model.predict(x_valid)\n",
    "print('Accuracy: ', (accuracy_score(y_valid, soft_valid_pred_y)))\n",
    "print('fl-score: ', (f1_score(y_valid, soft_valid_pred_y)))\n",
    "\n",
    "# test data\n",
    "soft_test_pred_y = soft_voting_model.predict(x_test)\n",
    "print('Accuracy: ', (accuracy_score(y_test, soft_test_pred_y)))\n",
    "print('fl-score: ', (f1_score(y_test, soft_test_pred_y)))"
   ],
   "metadata": {
    "collapsed": false
   }
  },
  {
   "cell_type": "markdown",
   "source": [
    "### save ensemble model's predict proba"
   ],
   "metadata": {
    "collapsed": false
   }
  },
  {
   "cell_type": "code",
   "execution_count": 12,
   "outputs": [],
   "source": [
    "# predict proba save\n",
    "full_data = pd.read_csv('../data/fill_data/full_data.csv')"
   ],
   "metadata": {
    "collapsed": false
   }
  },
  {
   "cell_type": "code",
   "execution_count": 13,
   "outputs": [],
   "source": [
    "full_data_predict_proba = soft_voting_model.predict_proba(full_data.drop(columns = ['Unnamed: 0', 'label', 'cust_no']))"
   ],
   "metadata": {
    "collapsed": false
   }
  },
  {
   "cell_type": "code",
   "execution_count": 14,
   "outputs": [],
   "source": [
    "pd.DataFrame(full_data_predict_proba).iloc[:,1].to_csv('../data/tableau_data/churn_proba.csv', index = None)"
   ],
   "metadata": {
    "collapsed": false
   }
  },
  {
   "cell_type": "markdown",
   "source": [
    "### permutation importance"
   ],
   "metadata": {
    "collapsed": false
   }
  },
  {
   "cell_type": "code",
   "execution_count": 17,
   "outputs": [],
   "source": [
    "from sklearn.inspection import permutation_importance\n",
    "from sklearn.metrics import make_scorer\n",
    "import datetime"
   ],
   "metadata": {
    "collapsed": false
   }
  },
  {
   "cell_type": "markdown",
   "source": [
    "- adaboost"
   ],
   "metadata": {
    "collapsed": false
   }
  },
  {
   "cell_type": "code",
   "execution_count": 18,
   "outputs": [
    {
     "name": "stdout",
     "output_type": "stream",
     "text": [
      "2:21:19.377602\n"
     ]
    }
   ],
   "source": [
    "start = time.time()\n",
    "\n",
    "result = permutation_importance(adaboost, x_test, y_test, n_repeats = 30,\n",
    "                           scoring = make_scorer(f1_score), random_state= 1004)\n",
    "\n",
    "end = time.time()\n",
    "print(datetime.timedelta(seconds = end-start))"
   ],
   "metadata": {
    "collapsed": false
   }
  },
  {
   "cell_type": "code",
   "execution_count": 19,
   "outputs": [],
   "source": [
    "sorted_result = result.importances_mean.argsort()\n",
    "importances = pd.DataFrame(result.importances[sorted_result].T,\n",
    "                          columns = x_test.columns[sorted_result])"
   ],
   "metadata": {
    "collapsed": false
   }
  },
  {
   "cell_type": "code",
   "execution_count": 20,
   "outputs": [],
   "source": [
    "imp_mean = importances.T.mean(axis=1)\n",
    "imp_std = importances.T.std(axis=1)"
   ],
   "metadata": {
    "collapsed": false
   }
  },
  {
   "cell_type": "code",
   "execution_count": 21,
   "outputs": [
    {
     "data": {
      "text/plain": "       imp_mean   imp_std\nC1_m3  0.038080  0.001732\nC2_m3  0.019775  0.001063\nC2_m1  0.016040  0.001117\nI3     0.014410  0.000781\nX4_m3  0.009892  0.000625\n...         ...       ...\nB2_m2 -0.000038  0.000218\nI6    -0.000176  0.000329\nB4_m1 -0.000181  0.000145\nI11   -0.000327  0.000237\nX3_m2 -0.000653  0.000631\n\n[83 rows x 2 columns]",
      "text/html": "<div>\n<style scoped>\n    .dataframe tbody tr th:only-of-type {\n        vertical-align: middle;\n    }\n\n    .dataframe tbody tr th {\n        vertical-align: top;\n    }\n\n    .dataframe thead th {\n        text-align: right;\n    }\n</style>\n<table border=\"1\" class=\"dataframe\">\n  <thead>\n    <tr style=\"text-align: right;\">\n      <th></th>\n      <th>imp_mean</th>\n      <th>imp_std</th>\n    </tr>\n  </thead>\n  <tbody>\n    <tr>\n      <th>C1_m3</th>\n      <td>0.038080</td>\n      <td>0.001732</td>\n    </tr>\n    <tr>\n      <th>C2_m3</th>\n      <td>0.019775</td>\n      <td>0.001063</td>\n    </tr>\n    <tr>\n      <th>C2_m1</th>\n      <td>0.016040</td>\n      <td>0.001117</td>\n    </tr>\n    <tr>\n      <th>I3</th>\n      <td>0.014410</td>\n      <td>0.000781</td>\n    </tr>\n    <tr>\n      <th>X4_m3</th>\n      <td>0.009892</td>\n      <td>0.000625</td>\n    </tr>\n    <tr>\n      <th>...</th>\n      <td>...</td>\n      <td>...</td>\n    </tr>\n    <tr>\n      <th>B2_m2</th>\n      <td>-0.000038</td>\n      <td>0.000218</td>\n    </tr>\n    <tr>\n      <th>I6</th>\n      <td>-0.000176</td>\n      <td>0.000329</td>\n    </tr>\n    <tr>\n      <th>B4_m1</th>\n      <td>-0.000181</td>\n      <td>0.000145</td>\n    </tr>\n    <tr>\n      <th>I11</th>\n      <td>-0.000327</td>\n      <td>0.000237</td>\n    </tr>\n    <tr>\n      <th>X3_m2</th>\n      <td>-0.000653</td>\n      <td>0.000631</td>\n    </tr>\n  </tbody>\n</table>\n<p>83 rows × 2 columns</p>\n</div>"
     },
     "execution_count": 21,
     "metadata": {},
     "output_type": "execute_result"
    }
   ],
   "source": [
    "pd.DataFrame([imp_mean, imp_std], index = ['imp_mean', 'imp_std']).T.sort_values('imp_mean', ascending = False)\n"
   ],
   "metadata": {
    "collapsed": false
   }
  },
  {
   "cell_type": "markdown",
   "source": [
    "- xgboost"
   ],
   "metadata": {
    "collapsed": false
   }
  },
  {
   "cell_type": "code",
   "execution_count": 22,
   "outputs": [
    {
     "name": "stdout",
     "output_type": "stream",
     "text": [
      "0:01:06.320979\n"
     ]
    }
   ],
   "source": [
    "start = time.time()\n",
    "\n",
    "result = permutation_importance(xgb_m, x_test, y_test, n_repeats = 30,\n",
    "                           scoring = make_scorer(f1_score), random_state= 1004)\n",
    "\n",
    "end = time.time()\n",
    "print(datetime.timedelta(seconds = end-start))"
   ],
   "metadata": {
    "collapsed": false
   }
  },
  {
   "cell_type": "code",
   "execution_count": 23,
   "outputs": [],
   "source": [
    "sorted_result = result.importances_mean.argsort()\n",
    "importances = pd.DataFrame(result.importances[sorted_result].T,\n",
    "                          columns = x_test.columns[sorted_result])"
   ],
   "metadata": {
    "collapsed": false
   }
  },
  {
   "cell_type": "code",
   "execution_count": 24,
   "outputs": [],
   "source": [
    "imp_mean = importances.T.mean(axis=1)\n",
    "imp_std = importances.T.std(axis=1)"
   ],
   "metadata": {
    "collapsed": false
   }
  },
  {
   "cell_type": "code",
   "execution_count": 25,
   "outputs": [
    {
     "data": {
      "text/plain": "       imp_mean   imp_std\nC1_m3  0.105680  0.002151\nC1_m1  0.019328  0.001420\nI3     0.011521  0.000927\nX4_m3  0.011396  0.000801\nB6_m3  0.009674  0.001027\n...         ...       ...\nE17   -0.000065  0.000526\nX2_m3 -0.000081  0.000000\nB4_m1 -0.000087  0.000032\nX7_m1 -0.000101  0.000093\nI1    -0.000115  0.000107\n\n[83 rows x 2 columns]",
      "text/html": "<div>\n<style scoped>\n    .dataframe tbody tr th:only-of-type {\n        vertical-align: middle;\n    }\n\n    .dataframe tbody tr th {\n        vertical-align: top;\n    }\n\n    .dataframe thead th {\n        text-align: right;\n    }\n</style>\n<table border=\"1\" class=\"dataframe\">\n  <thead>\n    <tr style=\"text-align: right;\">\n      <th></th>\n      <th>imp_mean</th>\n      <th>imp_std</th>\n    </tr>\n  </thead>\n  <tbody>\n    <tr>\n      <th>C1_m3</th>\n      <td>0.105680</td>\n      <td>0.002151</td>\n    </tr>\n    <tr>\n      <th>C1_m1</th>\n      <td>0.019328</td>\n      <td>0.001420</td>\n    </tr>\n    <tr>\n      <th>I3</th>\n      <td>0.011521</td>\n      <td>0.000927</td>\n    </tr>\n    <tr>\n      <th>X4_m3</th>\n      <td>0.011396</td>\n      <td>0.000801</td>\n    </tr>\n    <tr>\n      <th>B6_m3</th>\n      <td>0.009674</td>\n      <td>0.001027</td>\n    </tr>\n    <tr>\n      <th>...</th>\n      <td>...</td>\n      <td>...</td>\n    </tr>\n    <tr>\n      <th>E17</th>\n      <td>-0.000065</td>\n      <td>0.000526</td>\n    </tr>\n    <tr>\n      <th>X2_m3</th>\n      <td>-0.000081</td>\n      <td>0.000000</td>\n    </tr>\n    <tr>\n      <th>B4_m1</th>\n      <td>-0.000087</td>\n      <td>0.000032</td>\n    </tr>\n    <tr>\n      <th>X7_m1</th>\n      <td>-0.000101</td>\n      <td>0.000093</td>\n    </tr>\n    <tr>\n      <th>I1</th>\n      <td>-0.000115</td>\n      <td>0.000107</td>\n    </tr>\n  </tbody>\n</table>\n<p>83 rows × 2 columns</p>\n</div>"
     },
     "execution_count": 25,
     "metadata": {},
     "output_type": "execute_result"
    }
   ],
   "source": [
    "pd.DataFrame([imp_mean, imp_std], index = ['imp_mean', 'imp_std']).T.sort_values('imp_mean', ascending = False)"
   ],
   "metadata": {
    "collapsed": false
   }
  },
  {
   "cell_type": "markdown",
   "source": [
    "- rf"
   ],
   "metadata": {
    "collapsed": false
   }
  },
  {
   "cell_type": "code",
   "execution_count": 26,
   "outputs": [
    {
     "name": "stdout",
     "output_type": "stream",
     "text": [
      "0:00:58.145022\n"
     ]
    }
   ],
   "source": [
    "start = time.time()\n",
    "\n",
    "result = permutation_importance(xgb_m, x_test, y_test, n_repeats = 30,\n",
    "                           scoring = make_scorer(f1_score), random_state= 1004)\n",
    "\n",
    "end = time.time()\n",
    "print(datetime.timedelta(seconds = end-start))"
   ],
   "metadata": {
    "collapsed": false
   }
  },
  {
   "cell_type": "code",
   "execution_count": 27,
   "outputs": [],
   "source": [
    "sorted_result = result.importances_mean.argsort()\n",
    "importances = pd.DataFrame(result.importances[sorted_result].T,\n",
    "                          columns = x_test.columns[sorted_result])"
   ],
   "metadata": {
    "collapsed": false
   }
  },
  {
   "cell_type": "code",
   "execution_count": 28,
   "outputs": [],
   "source": [
    "imp_mean = importances.T.mean(axis=1)\n",
    "imp_std = importances.T.std(axis=1)"
   ],
   "metadata": {
    "collapsed": false
   }
  },
  {
   "cell_type": "code",
   "execution_count": 29,
   "outputs": [
    {
     "data": {
      "text/plain": "       imp_mean   imp_std\nC1_m3  0.105680  0.002151\nC1_m1  0.019328  0.001420\nI3     0.011521  0.000927\nX4_m3  0.011396  0.000801\nB6_m3  0.009674  0.001027\n...         ...       ...\nE17   -0.000065  0.000526\nX2_m3 -0.000081  0.000000\nB4_m1 -0.000087  0.000032\nX7_m1 -0.000101  0.000093\nI1    -0.000115  0.000107\n\n[83 rows x 2 columns]",
      "text/html": "<div>\n<style scoped>\n    .dataframe tbody tr th:only-of-type {\n        vertical-align: middle;\n    }\n\n    .dataframe tbody tr th {\n        vertical-align: top;\n    }\n\n    .dataframe thead th {\n        text-align: right;\n    }\n</style>\n<table border=\"1\" class=\"dataframe\">\n  <thead>\n    <tr style=\"text-align: right;\">\n      <th></th>\n      <th>imp_mean</th>\n      <th>imp_std</th>\n    </tr>\n  </thead>\n  <tbody>\n    <tr>\n      <th>C1_m3</th>\n      <td>0.105680</td>\n      <td>0.002151</td>\n    </tr>\n    <tr>\n      <th>C1_m1</th>\n      <td>0.019328</td>\n      <td>0.001420</td>\n    </tr>\n    <tr>\n      <th>I3</th>\n      <td>0.011521</td>\n      <td>0.000927</td>\n    </tr>\n    <tr>\n      <th>X4_m3</th>\n      <td>0.011396</td>\n      <td>0.000801</td>\n    </tr>\n    <tr>\n      <th>B6_m3</th>\n      <td>0.009674</td>\n      <td>0.001027</td>\n    </tr>\n    <tr>\n      <th>...</th>\n      <td>...</td>\n      <td>...</td>\n    </tr>\n    <tr>\n      <th>E17</th>\n      <td>-0.000065</td>\n      <td>0.000526</td>\n    </tr>\n    <tr>\n      <th>X2_m3</th>\n      <td>-0.000081</td>\n      <td>0.000000</td>\n    </tr>\n    <tr>\n      <th>B4_m1</th>\n      <td>-0.000087</td>\n      <td>0.000032</td>\n    </tr>\n    <tr>\n      <th>X7_m1</th>\n      <td>-0.000101</td>\n      <td>0.000093</td>\n    </tr>\n    <tr>\n      <th>I1</th>\n      <td>-0.000115</td>\n      <td>0.000107</td>\n    </tr>\n  </tbody>\n</table>\n<p>83 rows × 2 columns</p>\n</div>"
     },
     "execution_count": 29,
     "metadata": {},
     "output_type": "execute_result"
    }
   ],
   "source": [
    "pd.DataFrame([imp_mean, imp_std], index = ['imp_mean', 'imp_std']).T.sort_values('imp_mean', ascending = False)"
   ],
   "metadata": {
    "collapsed": false
   }
  },
  {
   "cell_type": "code",
   "execution_count": null,
   "outputs": [],
   "source": [
    "# explainer = lime_tabular.LimeTabularExplainer(\n",
    "#     training_data=np.array(x_train),\n",
    "#     feature_names=x_train.columns,\n",
    "#     class_names=['0', '1'],\n",
    "#     mode='classification'\n",
    "# )"
   ],
   "metadata": {
    "collapsed": false
   }
  },
  {
   "cell_type": "code",
   "execution_count": null,
   "outputs": [],
   "source": [
    "# sp_exp = submodular_pick.SubmodularPick(explainer,\n",
    "#                                         x_train.values,\n",
    "#                                         predict_fn=soft_voting_model.predict_proba,\n",
    "#                                         num_features=83,\n",
    "#                                         num_exps_desired=5)"
   ],
   "metadata": {
    "collapsed": false
   }
  },
  {
   "cell_type": "code",
   "execution_count": null,
   "outputs": [],
   "source": [
    "# # SP-LIME visualization\n",
    "# [exp.show_in_notebook() for exp in sp_exp.sp_explanations]\n",
    "# print('SP-LIME Explanations.')"
   ],
   "metadata": {
    "collapsed": false
   }
  },
  {
   "cell_type": "code",
   "execution_count": null,
   "outputs": [],
   "source": [
    "# [exp.as_pyplot_figure(label=exp.available_labels()[0]) for exp in sp_exp.sp_explanations]\n",
    "# print('SP-LIME Local Explanations')"
   ],
   "metadata": {
    "collapsed": false
   }
  }
 ],
 "metadata": {
  "kernelspec": {
   "display_name": "Python 3",
   "language": "python",
   "name": "python3"
  },
  "language_info": {
   "codemirror_mode": {
    "name": "ipython",
    "version": 2
   },
   "file_extension": ".py",
   "mimetype": "text/x-python",
   "name": "python",
   "nbconvert_exporter": "python",
   "pygments_lexer": "ipython2",
   "version": "2.7.6"
  }
 },
 "nbformat": 4,
 "nbformat_minor": 0
}
