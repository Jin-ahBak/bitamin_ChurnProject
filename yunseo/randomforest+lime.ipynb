{
 "cells": [
  {
   "cell_type": "code",
   "execution_count": null,
   "metadata": {
    "collapsed": true,
    "pycharm": {
     "is_executing": true
    }
   },
   "outputs": [],
   "source": [
    "# require package import\n",
    "import pandas as pd\n",
    "from sklearn.ensemble import RandomForestClassifier\n",
    "from sklearn.metrics import accuracy_score\n",
    "from sklearn.metrics import confusion_matrix\n",
    "from sklearn.metrics import classification_report\n",
    "import time\n",
    "import numpy as np\n",
    "import lime\n",
    "from lime import lime_tabular\n",
    "from lime import submodular_pick"
   ]
  },
  {
   "cell_type": "markdown",
   "source": [
    "### randomforest"
   ],
   "metadata": {
    "collapsed": false
   }
  },
  {
   "cell_type": "code",
   "execution_count": null,
   "outputs": [],
   "source": [
    "# load data\n",
    "train_df = pd.read_csv('../data/preprocessed_data/train_data.csv')\n",
    "valid_df = pd.read_csv('../data/preprocessed_data/valid_data.csv')\n",
    "\n",
    "x_train = train_df.drop(columns = ['cust_no', 'label'])\n",
    "y_train = train_df['label']\n",
    "x_valid = valid_df.drop(columns = ['cust_no', 'label'])\n",
    "y_valid = valid_df['label']\n",
    "\n",
    "x_train.fillna(0, inplace=True)\n",
    "x_valid.fillna(0, inplace=True)"
   ],
   "metadata": {
    "collapsed": false,
    "pycharm": {
     "is_executing": true
    }
   }
  },
  {
   "cell_type": "code",
   "execution_count": null,
   "outputs": [],
   "source": [
    "# define model\n",
    "start_time = time.time()\n",
    "rf = RandomForestClassifier(n_estimators=500, random_state=0)\n",
    "rf.fit(x_train, y_train)\n",
    "end_time = time.time()\n",
    "print('걸린 시간 :', end_time - start_time)\n",
    "y_pred = rf.predict(x_valid)\n",
    "print('Accuracy: {:.2f}'.format(accuracy_score(y_valid, y_pred)))\n",
    "print(confusion_matrix(y_valid, y_pred))\n",
    "print(classification_report(y_valid, y_pred))"
   ],
   "metadata": {
    "collapsed": false,
    "pycharm": {
     "is_executing": true
    }
   }
  },
  {
   "cell_type": "markdown",
   "source": [
    "### lime"
   ],
   "metadata": {
    "collapsed": false
   }
  },
  {
   "cell_type": "code",
   "execution_count": null,
   "outputs": [],
   "source": [
    "# lime\n",
    "explainer = lime_tabular.LimeTabularExplainer(\n",
    "    training_data=np.array(x_train),\n",
    "    feature_names=x_train.columns,\n",
    "    class_names=['-1', '0', '1'],\n",
    "    mode='classification'\n",
    ")\n",
    "\n",
    "exp = explainer.explain_instance(\n",
    "    data_row=x_train.iloc[1], # 확인하고 싶은 데이터의 인덱스\n",
    "    predict_fn=rf.predict_proba,\n",
    "    top_labels=3\n",
    ")\n",
    "\n",
    "exp.show_in_notebook(show_table=True)"
   ],
   "metadata": {
    "collapsed": false,
    "pycharm": {
     "is_executing": true
    }
   }
  },
  {
   "cell_type": "markdown",
   "source": [
    "### SP-LIME"
   ],
   "metadata": {
    "collapsed": false
   }
  },
  {
   "cell_type": "code",
   "execution_count": null,
   "outputs": [],
   "source": [
    "sp_exp = submodular_pick.SubmodularPick(explainer,\n",
    "                                        x_train.values,\n",
    "                                        predict_fn = rf.predict_proba,\n",
    "                                        num_features = 83,\n",
    "                                        num_exps_desired = 5)"
   ],
   "metadata": {
    "collapsed": false,
    "pycharm": {
     "is_executing": true
    }
   }
  },
  {
   "cell_type": "code",
   "execution_count": null,
   "outputs": [],
   "source": [
    "# SP-LIME visualization\n",
    "[exp.show_in_notebook() for exp in sp_exp.sp_explanations]\n",
    "print('SP-LIME Explanations.')"
   ],
   "metadata": {
    "collapsed": false,
    "pycharm": {
     "is_executing": true
    }
   }
  },
  {
   "cell_type": "code",
   "execution_count": null,
   "outputs": [],
   "source": [],
   "metadata": {
    "collapsed": false
   }
  }
 ],
 "metadata": {
  "kernelspec": {
   "display_name": "Python 3",
   "language": "python",
   "name": "python3"
  },
  "language_info": {
   "codemirror_mode": {
    "name": "ipython",
    "version": 2
   },
   "file_extension": ".py",
   "mimetype": "text/x-python",
   "name": "python",
   "nbconvert_exporter": "python",
   "pygments_lexer": "ipython2",
   "version": "2.7.6"
  }
 },
 "nbformat": 4,
 "nbformat_minor": 0
}
