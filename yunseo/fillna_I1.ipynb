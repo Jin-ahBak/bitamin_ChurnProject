{
 "cells": [
  {
   "cell_type": "code",
   "execution_count": 33,
   "metadata": {
    "collapsed": true
   },
   "outputs": [],
   "source": [
    "import pandas as pd\n",
    "import numpy as np\n",
    "import time\n",
    "from sklearn.ensemble import RandomForestClassifier\n",
    "from sklearn.metrics import accuracy_score\n",
    "from sklearn.metrics import f1_score"
   ]
  },
  {
   "cell_type": "code",
   "execution_count": 25,
   "outputs": [],
   "source": [
    "# load data\n",
    "train_df = pd.read_csv('../data/preprocessed_data/train_data.csv')\n",
    "valid_df = pd.read_csv('../data/preprocessed_data/valid_data.csv')\n",
    "test_df = pd.read_csv('../data/preprocessed_data/test_data.csv')"
   ],
   "metadata": {
    "collapsed": false
   }
  },
  {
   "cell_type": "code",
   "execution_count": 26,
   "outputs": [],
   "source": [
    "x_train = train_df.drop(columns = ['cust_no', 'label'])\n",
    "y_train = train_df['label']\n",
    "x_valid = valid_df.drop(columns = ['cust_no', 'label'])\n",
    "y_valid = valid_df['label']\n",
    "x_test = test_df.drop(columns = ['cust_no', 'label'])\n",
    "y_test = test_df['label']"
   ],
   "metadata": {
    "collapsed": false
   }
  },
  {
   "cell_type": "code",
   "execution_count": 27,
   "outputs": [
    {
     "name": "stdout",
     "output_type": "stream",
     "text": [
      "x_train.shape:  (125290, 83)\n",
      "y_train.shape:  (125290,)\n",
      "x_valid.shape:  (10000, 83)\n",
      "y_valid.shape:  (10000,)\n",
      "x_test.shape:  (10000, 83)\n",
      "y_test.shape:  (10000,)\n"
     ]
    }
   ],
   "source": [
    "print('x_train.shape: ', x_train.shape)\n",
    "print(\"y_train.shape: \", y_train.shape)\n",
    "print('x_valid.shape: ', x_valid.shape)\n",
    "print(\"y_valid.shape: \", y_valid.shape)\n",
    "print('x_test.shape: ', x_test.shape)\n",
    "print(\"y_test.shape: \", y_test.shape)"
   ],
   "metadata": {
    "collapsed": false
   }
  },
  {
   "cell_type": "markdown",
   "source": [
    "### I1 결측치 채우기"
   ],
   "metadata": {
    "collapsed": false
   }
  },
  {
   "cell_type": "code",
   "execution_count": 35,
   "outputs": [
    {
     "name": "stdout",
     "output_type": "stream",
     "text": [
      "model training time :  36.02245092391968\n",
      "Accuracy: 0.78\n",
      "f1-score: 0.72\n",
      "Accuracy: 0.64\n",
      "f1-score: 0.56\n"
     ]
    }
   ],
   "source": [
    "# data for train\n",
    "tmp_train = x_train.dropna()\n",
    "tmp_train_x = tmp_train.drop('I1', axis = 1)\n",
    "tmp_train_y = tmp_train['I1']\n",
    "\n",
    "tmp_valid = x_valid.dropna()\n",
    "tmp_valid_x = tmp_valid.drop('I1', axis = 1)\n",
    "tmp_valid_y = tmp_valid['I1']\n",
    "\n",
    "# model training\n",
    "# (train note)\n",
    "# logistic regression : no convergence\n",
    "# random forest(default) : train acc = 1.0 , valid acc = 0.65\n",
    "# random forest(n_estimators = 100, max_depth = 15) : train acc = 0.77, valid acc = 0.63\n",
    "# random forest(n_estimators = 500(default), max_depth = 15) : train acc = 0.77, valid acc = 0.64\n",
    "start_T = time.time()\n",
    "rf = RandomForestClassifier(max_depth = 15)\n",
    "rf.fit(tmp_train_x, tmp_train_y)\n",
    "end_T = time.time()\n",
    "\n",
    "print(\"model training time : \", end_T - start_T)\n",
    "\n",
    "# prediction and evaluation\n",
    "# train data\n",
    "tmp_train_pred_y = rf.predict(tmp_train_x)\n",
    "print('Accuracy: {:.2f}'.format(accuracy_score(tmp_train_y, tmp_train_pred_y)))\n",
    "print('f1-score: {:.2f}'.format(f1_score(tmp_train_y, tmp_train_pred_y)))\n",
    "\n",
    "# valid data\n",
    "tmp_valid_pred_y = rf.predict(tmp_valid_x)\n",
    "print('Accuracy: {:.2f}'.format(accuracy_score(tmp_valid_y, tmp_valid_pred_y)))\n",
    "print('f1-score: {:.2f}'.format(f1_score(tmp_valid_y, tmp_valid_pred_y)))"
   ],
   "metadata": {
    "collapsed": false
   }
  },
  {
   "cell_type": "code",
   "execution_count": 36,
   "outputs": [],
   "source": [
    "# data having null data\n",
    "x_train.loc[x_train.I1.isna(), 'I1'] = rf.predict(x_train[x_train.I1.isna()].drop('I1', axis = 1))\n",
    "x_valid.loc[x_valid.I1.isna(), 'I1'] = rf.predict(x_valid[x_valid.I1.isna()].drop('I1', axis = 1))\n",
    "x_test.loc[x_test.I1.isna(), 'I1']   = rf.predict(x_test[x_test.I1.isna()].drop('I1', axis = 1))"
   ],
   "metadata": {
    "collapsed": false
   }
  },
  {
   "cell_type": "code",
   "execution_count": 37,
   "outputs": [
    {
     "name": "stdout",
     "output_type": "stream",
     "text": [
      "train null data num :  0\n",
      "valid null data num :  0\n",
      "test null data num :  0\n"
     ]
    }
   ],
   "source": [
    "print(\"train null data num : \", x_train.isna().sum().sum())\n",
    "print(\"valid null data num : \", x_valid.isna().sum().sum())\n",
    "print(\"test null data num : \", x_test.isna().sum().sum())"
   ],
   "metadata": {
    "collapsed": false
   }
  },
  {
   "cell_type": "markdown",
   "source": [
    "### label = 0 데이터 제거"
   ],
   "metadata": {
    "collapsed": false
   }
  },
  {
   "cell_type": "code",
   "execution_count": 43,
   "outputs": [],
   "source": [
    "x_train = x_train[~(y_train == 0)]\n",
    "y_train = y_train[~(y_train == 0)]\n",
    "x_valid = x_valid[~(y_valid == 0)]\n",
    "y_valid = y_valid[~(y_valid == 0)]\n",
    "x_test = x_test[~(y_test == 0)]\n",
    "y_test = y_test[~(y_test == 0)]"
   ],
   "metadata": {
    "collapsed": false
   }
  },
  {
   "cell_type": "code",
   "execution_count": 45,
   "outputs": [],
   "source": [
    "x_train.to_csv('../data/fill_data/x_train.csv', index = False)\n",
    "y_train.to_csv('../data/fill_data/y_train.csv', index = False)\n",
    "x_valid.to_csv('../data/fill_data/x_valid.csv', index = False)\n",
    "y_valid.to_csv('../data/fill_data/y_valid.csv', index = False)\n",
    "x_test.to_csv('../data/fill_data/x_test.csv', index = False)\n",
    "y_test.to_csv('../data/fill_data/y_test.csv', index = False)"
   ],
   "metadata": {
    "collapsed": false
   }
  },
  {
   "cell_type": "markdown",
   "source": [
    "### train+valid"
   ],
   "metadata": {
    "collapsed": false
   }
  },
  {
   "cell_type": "code",
   "execution_count": 49,
   "outputs": [],
   "source": [
    "train_full = pd.concat([x_train, y_train], axis = 1)\n",
    "valid_full = pd.concat([x_valid, y_valid], axis = 1)\n",
    "full_data = pd.concat([train_full, valid_full], axis = 0)"
   ],
   "metadata": {
    "collapsed": false
   }
  },
  {
   "cell_type": "code",
   "execution_count": 50,
   "outputs": [],
   "source": [
    "full_data.to_csv('../data/fill_data/full_data.csv')"
   ],
   "metadata": {
    "collapsed": false
   }
  },
  {
   "cell_type": "code",
   "execution_count": null,
   "outputs": [],
   "source": [],
   "metadata": {
    "collapsed": false
   }
  }
 ],
 "metadata": {
  "kernelspec": {
   "display_name": "Python 3",
   "language": "python",
   "name": "python3"
  },
  "language_info": {
   "codemirror_mode": {
    "name": "ipython",
    "version": 2
   },
   "file_extension": ".py",
   "mimetype": "text/x-python",
   "name": "python",
   "nbconvert_exporter": "python",
   "pygments_lexer": "ipython2",
   "version": "2.7.6"
  }
 },
 "nbformat": 4,
 "nbformat_minor": 0
}
