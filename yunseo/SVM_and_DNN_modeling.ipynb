{
 "cells": [
  {
   "cell_type": "code",
   "execution_count": 11,
   "metadata": {
    "collapsed": true
   },
   "outputs": [],
   "source": [
    "# required package import\n",
    "import numpy as np\n",
    "import pandas as pd\n",
    "from sklearn.svm import SVC\n",
    "from sklearn.linear_model import LogisticRegression\n",
    "from sklearn.ensemble import RandomForestClassifier\n",
    "import time\n",
    "from sklearn.metrics import accuracy_score\n",
    "from sklearn.metrics import confusion_matrix\n",
    "from sklearn.metrics import classification_report\n",
    "import random"
   ]
  },
  {
   "cell_type": "markdown",
   "source": [
    "### 데이터 불러오기"
   ],
   "metadata": {
    "collapsed": false
   }
  },
  {
   "cell_type": "code",
   "execution_count": 12,
   "outputs": [],
   "source": [
    "# load data\n",
    "train_df = pd.read_csv('../data/preprocessed_data/train_data.csv')\n",
    "valid_df = pd.read_csv('../data/preprocessed_data/valid_data.csv')"
   ],
   "metadata": {
    "collapsed": false
   }
  },
  {
   "cell_type": "code",
   "execution_count": 13,
   "outputs": [
    {
     "name": "stdout",
     "output_type": "stream",
     "text": [
      "x_train.shape:  (125290, 83)\n",
      "x_valid.shape:  (10000, 83)\n",
      "y_train.shape:  (125290,)\n",
      "y_valid.shape:  (10000,)\n"
     ]
    }
   ],
   "source": [
    "x_train = train_df.drop(columns = ['cust_no', 'label'])\n",
    "x_valid = valid_df.drop(columns = ['cust_no', 'label'])\n",
    "y_train = train_df['label']\n",
    "y_valid = valid_df['label']\n",
    "\n",
    "print(\"x_train.shape: \", x_train.shape)\n",
    "print(\"x_valid.shape: \", x_valid.shape)\n",
    "print(\"y_train.shape: \", y_train.shape)\n",
    "print(\"y_valid.shape: \", y_valid.shape)"
   ],
   "metadata": {
    "collapsed": false
   }
  },
  {
   "cell_type": "markdown",
   "source": [
    "### I1 결측치 채우기\n"
   ],
   "metadata": {
    "collapsed": false
   }
  },
  {
   "cell_type": "code",
   "execution_count": 14,
   "outputs": [
    {
     "name": "stdout",
     "output_type": "stream",
     "text": [
      "model training time :  38.150205850601196\n",
      "Accuracy: 0.78\n",
      "[[60601  7273]\n",
      " [20658 36704]]\n",
      "              precision    recall  f1-score   support\n",
      "\n",
      "         0.0       0.75      0.89      0.81     67874\n",
      "         1.0       0.83      0.64      0.72     57362\n",
      "\n",
      "    accuracy                           0.78    125236\n",
      "   macro avg       0.79      0.77      0.77    125236\n",
      "weighted avg       0.79      0.78      0.77    125236\n",
      "\n",
      "Accuracy: 0.64\n",
      "[[4169 1270]\n",
      " [2297 2261]]\n",
      "              precision    recall  f1-score   support\n",
      "\n",
      "         0.0       0.64      0.77      0.70      5439\n",
      "         1.0       0.64      0.50      0.56      4558\n",
      "\n",
      "    accuracy                           0.64      9997\n",
      "   macro avg       0.64      0.63      0.63      9997\n",
      "weighted avg       0.64      0.64      0.64      9997\n",
      "\n"
     ]
    }
   ],
   "source": [
    "# data for train\n",
    "tmp_train = x_train.dropna()\n",
    "tmp_train_x = tmp_train.drop('I1', axis = 1)\n",
    "tmp_train_y = tmp_train['I1']\n",
    "\n",
    "tmp_valid = x_valid.dropna()\n",
    "tmp_valid_x = tmp_valid.drop('I1', axis = 1)\n",
    "tmp_valid_y = tmp_valid['I1']\n",
    "\n",
    "# model training\n",
    "# (train note)\n",
    "# logistic regression : no convergence\n",
    "# random forest(default) : train acc = 1.0 , valid acc = 0.65\n",
    "# random forest(n_estimators = 100, max_depth = 15) : train acc = 0.77, valid acc = 0.63\n",
    "# random forest(n_estimators = 500(default), max_depth = 15) : train acc = 0.77, valid acc = 0.64\n",
    "start_T = time.time()\n",
    "rf = RandomForestClassifier(max_depth = 15)\n",
    "rf.fit(tmp_train_x, tmp_train_y)\n",
    "end_T = time.time()\n",
    "\n",
    "print(\"model training time : \", end_T - start_T)\n",
    "\n",
    "# prediction and evaluation\n",
    "# train data\n",
    "tmp_train_pred_y = rf.predict(tmp_train_x)\n",
    "print('Accuracy: {:.2f}'.format(accuracy_score(tmp_train_y, tmp_train_pred_y)))\n",
    "print(confusion_matrix(tmp_train_y, tmp_train_pred_y))\n",
    "print(classification_report(tmp_train_y, tmp_train_pred_y))\n",
    "\n",
    "# valid data\n",
    "tmp_valid_pred_y = rf.predict(tmp_valid_x)\n",
    "print('Accuracy: {:.2f}'.format(accuracy_score(tmp_valid_y, tmp_valid_pred_y)))\n",
    "print(confusion_matrix(tmp_valid_y, tmp_valid_pred_y))\n",
    "print(classification_report(tmp_valid_y, tmp_valid_pred_y))"
   ],
   "metadata": {
    "collapsed": false
   }
  },
  {
   "cell_type": "code",
   "execution_count": 15,
   "outputs": [],
   "source": [
    "# data having null data\n",
    "x_train.loc[x_train.I1.isna(), 'I1'] = rf.predict(x_train[x_train.I1.isna()].drop('I1', axis = 1))\n",
    "x_valid.loc[x_valid.I1.isna(), 'I1'] = rf.predict(x_valid[x_valid.I1.isna()].drop('I1', axis = 1))"
   ],
   "metadata": {
    "collapsed": false
   }
  },
  {
   "cell_type": "code",
   "execution_count": 16,
   "outputs": [
    {
     "name": "stdout",
     "output_type": "stream",
     "text": [
      "train null data num :  0\n",
      "valid null data num :  0\n"
     ]
    }
   ],
   "source": [
    "print(\"train null data num : \", x_train.isna().sum().sum())\n",
    "print(\"valid null data num : \", x_valid.isna().sum().sum())"
   ],
   "metadata": {
    "collapsed": false
   }
  },
  {
   "cell_type": "code",
   "execution_count": 17,
   "outputs": [],
   "source": [
    "# tmp data save\n",
    "x_train.to_csv('./tmp_data/x_train.csv', index = None)\n",
    "x_valid.to_csv('./tmp_data/x_valid.csv', index = None)\n",
    "y_train.to_csv('./tmp_data/y_train.csv', index = None)\n",
    "y_valid.to_csv('./tmp_data/y_valid.csv', index = None)"
   ],
   "metadata": {
    "collapsed": false
   }
  },
  {
   "cell_type": "markdown",
   "source": [
    "### modeling"
   ],
   "metadata": {
    "collapsed": false
   }
  },
  {
   "cell_type": "code",
   "execution_count": 2,
   "outputs": [],
   "source": [
    "x_train = pd.read_csv('./tmp_data/x_train.csv')\n",
    "x_valid = pd.read_csv('./tmp_data/x_valid.csv')\n",
    "y_train = pd.read_csv('./tmp_data/y_train.csv')\n",
    "y_valid = pd.read_csv('./tmp_data/y_valid.csv')"
   ],
   "metadata": {
    "collapsed": false
   }
  },
  {
   "cell_type": "markdown",
   "source": [
    "### SVC modeling\n",
    "\n",
    "- time complexity : O(n_sample^2 * feature_dim)"
   ],
   "metadata": {
    "collapsed": false
   }
  },
  {
   "cell_type": "markdown",
   "source": [
    "#### 1. 기본 데이터\n",
    "\n",
    "- sampling을 100개를 해서 돌려도 안 돌아가서 차원축소 후에 돌려보려고 함.\n",
    "- 일단 DNN하고 다시 돌아오는 걸로."
   ],
   "metadata": {
    "collapsed": false
   }
  },
  {
   "cell_type": "code",
   "execution_count": 6,
   "outputs": [],
   "source": [
    "# DataConversionWarning: A column-vector y was passed when a 1d array was expected. Please change the shape of y to (n_samples, ), for example using ravel().\n",
    "y_train = np.array(y_train).ravel()\n",
    "y_valid = np.array(y_valid).ravel()"
   ],
   "metadata": {
    "collapsed": false
   }
  },
  {
   "cell_type": "code",
   "execution_count": 7,
   "outputs": [
    {
     "name": "stdout",
     "output_type": "stream",
     "text": [
      "x_train.shape:  (125290, 83)\n",
      "x_valid.shape:  (10000, 83)\n",
      "y_train.shape:  (125290,)\n",
      "y_valid.shape:  (10000,)\n"
     ]
    }
   ],
   "source": [
    "# check data shape\n",
    "print(\"x_train.shape: \", x_train.shape)\n",
    "print(\"x_valid.shape: \", x_valid.shape)\n",
    "print(\"y_train.shape: \", y_train.shape)\n",
    "print(\"y_valid.shape: \", y_valid.shape)"
   ],
   "metadata": {
    "collapsed": false
   }
  },
  {
   "cell_type": "code",
   "execution_count": 15,
   "outputs": [
    {
     "name": "stdout",
     "output_type": "stream",
     "text": [
      "tmp_x_train:  (100, 83)\n",
      "tmp_y_train:  (100,)\n"
     ]
    }
   ],
   "source": [
    "random.seed(2023)\n",
    "tmp_idx = np.random.choice(np.arange(0,x_train.shape[0]), 100, replace = False)\n",
    "tmp_x_train = x_train.iloc[tmp_idx]\n",
    "tmp_y_train = y_train[tmp_idx]\n",
    "print(\"tmp_x_train: \", tmp_x_train.shape)\n",
    "print(\"tmp_y_train: \", tmp_y_train.shape)"
   ],
   "metadata": {
    "collapsed": false
   }
  },
  {
   "cell_type": "code",
   "execution_count": null,
   "outputs": [],
   "source": [
    "# model training\n",
    "# (training note)\n",
    "# no sampling : 안 돌아감.\n",
    "# sampling_num = 100 , kernel = linear : time : 안 돌아감.\n",
    "# sampling_num = 100 , kernel = rbf : time : 안 돌아가겠지..\n",
    "start_T = time.time()\n",
    "svc = SVC()\n",
    "svc.fit(tmp_x_train, tmp_y_train)\n",
    "end_T = time.time()\n",
    "print(\"model training time: \", end_T - start_T)\n",
    "\n",
    "# prediction and evaluation\n",
    "# train data\n",
    "train_pred_y = rf.predict(tmp_x_train)\n",
    "print('Accuracy: {:.2f}'.format(accuracy_score(y_train, train_pred_y)))\n",
    "print(confusion_matrix(y_train, train_pred_y))\n",
    "print(classification_report(y_train, train_pred_y))\n",
    "\n",
    "# valid data\n",
    "valid_pred_y = rf.predict(x_valid)\n",
    "print('Accuracy: {:.2f}'.format(accuracy_score(y_valid, valid_pred_y)))\n",
    "print(confusion_matrix(y_valid, valid_pred_y))\n",
    "print(classification_report(y_valid, valid_pred_y))\n"
   ],
   "metadata": {
    "collapsed": false,
    "pycharm": {
     "is_executing": true
    }
   }
  },
  {
   "cell_type": "markdown",
   "source": [
    "\"### DNN modeling"
   ],
   "metadata": {
    "collapsed": false
   }
  },
  {
   "cell_type": "markdown",
   "source": [
    "#### 1. 기본 데이터"
   ],
   "metadata": {
    "collapsed": false
   }
  },
  {
   "cell_type": "code",
   "execution_count": null,
   "outputs": [],
   "source": [],
   "metadata": {
    "collapsed": false
   }
  }
 ],
 "metadata": {
  "kernelspec": {
   "display_name": "Python 3",
   "language": "python",
   "name": "python3"
  },
  "language_info": {
   "codemirror_mode": {
    "name": "ipython",
    "version": 2
   },
   "file_extension": ".py",
   "mimetype": "text/x-python",
   "name": "python",
   "nbconvert_exporter": "python",
   "pygments_lexer": "ipython2",
   "version": "2.7.6"
  }
 },
 "nbformat": 4,
 "nbformat_minor": 0
}
