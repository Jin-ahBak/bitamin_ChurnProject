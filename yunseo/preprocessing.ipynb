{
 "cells": [
  {
   "cell_type": "code",
   "execution_count": 1,
   "metadata": {
    "collapsed": true
   },
   "outputs": [
    {
     "name": "stdout",
     "output_type": "stream",
     "text": [
      "/Users/yschoi/bitamin/ChurnProject\r\n"
     ]
    }
   ],
   "source": [
    "import pandas as pd\n",
    "import numpy as np"
   ]
  },
  {
   "cell_type": "code",
   "execution_count": 5,
   "outputs": [
    {
     "name": "stderr",
     "output_type": "stream",
     "text": [
      "/Users/yschoi/bitamin/ChurnProject/venv/lib/python3.7/site-packages/IPython/core/interactiveshell.py:3553: DtypeWarning: Columns (9) have mixed types.Specify dtype option on import or set low_memory=False.\n",
      "  exec(code_obj, self.user_global_ns, self.user_ns)\n"
     ]
    }
   ],
   "source": [
    "# read data\n",
    "aum_m7 = pd.read_csv('./rawdata/aum_train/aum_m7.csv')\n",
    "aum_m8 = pd.read_csv('./rawdata/aum_train/aum_m8.csv')\n",
    "aum_m9 = pd.read_csv('./rawdata/aum_train/aum_m9.csv')\n",
    "aum_m10 = pd.read_csv('./rawdata/aum_train/aum_m10.csv')\n",
    "aum_m11 = pd.read_csv('./rawdata/aum_train/aum_m11.csv')\n",
    "aum_m12 = pd.read_csv('./rawdata/aum_train/aum_m12.csv')\n",
    "\n",
    "behavior_m7 = pd.read_csv('./rawdata/behavior_train/behavior_m7.csv')\n",
    "behavior_m8 = pd.read_csv('./rawdata/behavior_train/behavior_m8.csv')\n",
    "behavior_m9 = pd.read_csv('./rawdata/behavior_train/behavior_m9.csv')\n",
    "behavior_m10 = pd.read_csv('./rawdata/behavior_train/behavior_m10.csv')\n",
    "behavior_m11 = pd.read_csv('./rawdata/behavior_train/behavior_m11.csv')\n",
    "behavior_m12 = pd.read_csv('./rawdata/behavior_train/behavior_m12.csv')\n",
    "\n",
    "big_event_Q3 = pd.read_csv('./rawdata/big_event_train/big_event_Q3.csv')\n",
    "big_event_Q4 = pd.read_csv('./rawdata/big_event_train/big_event_Q4.csv')\n",
    "\n",
    "cunkuan_m7 = pd.read_csv('./rawdata/cunkuan_train/cunkuan_m7.csv')\n",
    "cunkuan_m8 = pd.read_csv('./rawdata/cunkuan_train/cunkuan_m8.csv')\n",
    "cunkuan_m9 = pd.read_csv('./rawdata/cunkuan_train/cunkuan_m9.csv')\n",
    "cunkuan_m10 = pd.read_csv('./rawdata/cunkuan_train/cunkuan_m10.csv')\n",
    "cunkuan_m11 = pd.read_csv('./rawdata/cunkuan_train/cunkuan_m11.csv')\n",
    "cunkuan_m12 = pd.read_csv('./rawdata/cunkuan_train/cunkuan_m12.csv')\n",
    "\n",
    "cust_info_q3 = pd.read_csv('./rawdata/cust_info_train/cust_info_q3.csv')\n",
    "cust_info_q4 = pd.read_csv('./rawdata/cust_info_train/cust_info_q4.csv')\n",
    "\n",
    "y_Q3_3 = pd.read_csv('./rawdata/train_label/y_Q3_3.csv')\n",
    "y_Q4_3 = pd.read_csv('./rawdata/train_label/y_Q4_3.csv')"
   ],
   "metadata": {
    "collapsed": false
   }
  },
  {
   "cell_type": "markdown",
   "source": [],
   "metadata": {
    "collapsed": false
   }
  },
  {
   "cell_type": "code",
   "execution_count": 6,
   "outputs": [
    {
     "name": "stdout",
     "output_type": "stream",
     "text": [
      "aum_m7 shape:  (465441, 9)\n",
      "aum_m8 shape:  (479063, 9)\n",
      "aum_m9 shape:  (493441, 9)\n",
      "aum_m10 shape:  (506513, 9)\n",
      "aum_m11 shape:  (521566, 9)\n",
      "aum_m12 shape:  (543823, 9)\n",
      "behavior_m7 shape:  (465441, 6)\n",
      "behavior_m8 shape:  (479063, 6)\n",
      "behavior_m9 shape:  (493441, 8)\n",
      "behavior_m10 shape:  (506513, 6)\n",
      "behavior_m11 shape:  (521566, 6)\n",
      "behavior_m12 shape:  (543823, 8)\n",
      "big_event_Q3 shape:  (493441, 19)\n",
      "big_event_Q4 shape:  (543823, 19)\n",
      "cunkuan_m7 shape:  (181220, 3)\n",
      "cunkuan_m8 shape:  (190278, 3)\n",
      "cunkuan_m9 shape:  (200711, 3)\n",
      "cunkuan_m10 shape:  (209862, 3)\n",
      "cunkuan_m11 shape:  (219928, 3)\n",
      "cunkuan_m12 shape:  (237042, 3)\n",
      "cust_avil_Q3 shape:  (69126, 1)\n",
      "cust_avil_Q4 shape:  (76170, 1)\n",
      "cust_info_q3 shape:  (493441, 21)\n",
      "cust_info_q4 shape:  (543823, 21)\n",
      "y_Q3_3 shape:  (69126, 2)\n",
      "y_Q4_3 shape:  (76170, 2)\n"
     ]
    }
   ],
   "source": [
    "# print data shape\n",
    "print(\"aum_m7 shape: \", aum_m7.shape)\n",
    "print(\"aum_m8 shape: \", aum_m8.shape)\n",
    "print(\"aum_m9 shape: \", aum_m9.shape)\n",
    "print(\"aum_m10 shape: \", aum_m10.shape)\n",
    "print(\"aum_m11 shape: \", aum_m11.shape)\n",
    "print(\"aum_m12 shape: \", aum_m12.shape)\n",
    "\n",
    "print(\"behavior_m7 shape: \", behavior_m7.shape)\n",
    "print(\"behavior_m8 shape: \", behavior_m8.shape)\n",
    "print(\"behavior_m9 shape: \", behavior_m9.shape)\n",
    "print(\"behavior_m10 shape: \", behavior_m10.shape)\n",
    "print(\"behavior_m11 shape: \", behavior_m11.shape)\n",
    "print(\"behavior_m12 shape: \", behavior_m12.shape)\n",
    "\n",
    "print(\"big_event_Q3 shape: \", big_event_Q3.shape)\n",
    "print(\"big_event_Q4 shape: \", big_event_Q4.shape)\n",
    "\n",
    "print(\"cunkuan_m7 shape: \", cunkuan_m7.shape)\n",
    "print(\"cunkuan_m8 shape: \", cunkuan_m8.shape)\n",
    "print(\"cunkuan_m9 shape: \", cunkuan_m9.shape)\n",
    "print(\"cunkuan_m10 shape: \", cunkuan_m10.shape)\n",
    "print(\"cunkuan_m11 shape: \", cunkuan_m11.shape)\n",
    "print(\"cunkuan_m12 shape: \", cunkuan_m12.shape)\n",
    "\n",
    "print(\"cust_info_q3 shape: \", cust_info_q3.shape)\n",
    "print(\"cust_info_q4 shape: \", cust_info_q4.shape)\n",
    "\n",
    "print(\"y_Q3_3 shape: \", y_Q3_3.shape)\n",
    "print(\"y_Q4_3 shape: \", y_Q4_3.shape)"
   ],
   "metadata": {
    "collapsed": false
   }
  },
  {
   "cell_type": "code",
   "execution_count": 7,
   "outputs": [],
   "source": [
    "# y train data\n",
    "y_train = pd.merge(y_Q3_3, y_Q4_3, on='cust_no', how='outer')\n",
    "y_train_idx = y_train.cust_no\n",
    "\n",
    "# aum_m[7,8,9,10,11,12].cust_no 이 y_train_idx에 존재하는 데이터만 추출\n",
    "aum_m7 = aum_m7[aum_m7.cust_no.isin(y_train_idx)]\n",
    "aum_m8 = aum_m8[aum_m8.cust_no.isin(y_train_idx)]\n",
    "aum_m9 = aum_m9[aum_m9.cust_no.isin(y_train_idx)]\n",
    "aum_m10 = aum_m10[aum_m10.cust_no.isin(y_train_idx)]\n",
    "aum_m11 = aum_m11[aum_m11.cust_no.isin(y_train_idx)]\n",
    "aum_m12 = aum_m12[aum_m12.cust_no.isin(y_train_idx)]\n",
    "\n",
    "# behavior_m[7,8,9,10,11,12].cust_no 이 y_train_idx에 존재하는 데이터만 추출\n",
    "behavior_m7 = behavior_m7[behavior_m7.cust_no.isin(y_train_idx)]\n",
    "behavior_m8 = behavior_m8[behavior_m8.cust_no.isin(y_train_idx)]\n",
    "behavior_m9 = behavior_m9[behavior_m9.cust_no.isin(y_train_idx)]\n",
    "behavior_m10 = behavior_m10[behavior_m10.cust_no.isin(y_train_idx)]\n",
    "behavior_m11 = behavior_m11[behavior_m11.cust_no.isin(y_train_idx)]\n",
    "behavior_m12 = behavior_m12[behavior_m12.cust_no.isin(y_train_idx)]\n",
    "\n",
    "# big_event_Q[3,4].cust_no 이 y_train_idx에 존재하는 데이터만 추출\n",
    "big_event_Q3 = big_event_Q3[big_event_Q3.cust_no.isin(y_train_idx)]\n",
    "big_event_Q4 = big_event_Q4[big_event_Q4.cust_no.isin(y_train_idx)]\n",
    "\n",
    "# cunkuan_m[7,8,9,10,11,12].cust_no 이 y_train_idx에 존재하는 데이터만 추출\n",
    "cunkuan_m7 = cunkuan_m7[cunkuan_m7.cust_no.isin(y_train_idx)]\n",
    "cunkuan_m8 = cunkuan_m8[cunkuan_m8.cust_no.isin(y_train_idx)]\n",
    "cunkuan_m9 = cunkuan_m9[cunkuan_m9.cust_no.isin(y_train_idx)]\n",
    "cunkuan_m10 = cunkuan_m10[cunkuan_m10.cust_no.isin(y_train_idx)]\n",
    "cunkuan_m11 = cunkuan_m11[cunkuan_m11.cust_no.isin(y_train_idx)]\n",
    "cunkuan_m12 = cunkuan_m12[cunkuan_m12.cust_no.isin(y_train_idx)]\n",
    "\n",
    "# cust_info_q[3,4].cust_no 이 y_train_idx에 존재하는 데이터만 추출\n",
    "cust_info_q3 = cust_info_q3[cust_info_q3.cust_no.isin(y_train_idx)]\n",
    "cust_info_q4 = cust_info_q4[cust_info_q4.cust_no.isin(y_train_idx)]\n",
    "\n"
   ],
   "metadata": {
    "collapsed": false
   }
  },
  {
   "cell_type": "code",
   "execution_count": 8,
   "outputs": [
    {
     "name": "stdout",
     "output_type": "stream",
     "text": [
      "aum_m7 shape:  (69414, 9)\n",
      "aum_m8 shape:  (72514, 9)\n",
      "aum_m9 shape:  (75767, 9)\n",
      "aum_m10 shape:  (78225, 9)\n",
      "aum_m11 shape:  (80660, 9)\n",
      "aum_m12 shape:  (82899, 9)\n",
      "behavior_m7 shape:  (69414, 6)\n",
      "behavior_m8 shape:  (72514, 6)\n",
      "behavior_m9 shape:  (75767, 8)\n",
      "behavior_m10 shape:  (78225, 6)\n",
      "behavior_m11 shape:  (80660, 6)\n",
      "behavior_m12 shape:  (82899, 8)\n",
      "big_event_Q3 shape:  (75767, 19)\n",
      "big_event_Q4 shape:  (82899, 19)\n",
      "cunkuan_m7 shape:  (67600, 3)\n",
      "cunkuan_m8 shape:  (70739, 3)\n",
      "cunkuan_m9 shape:  (74273, 3)\n",
      "cunkuan_m10 shape:  (77093, 3)\n",
      "cunkuan_m11 shape:  (80074, 3)\n",
      "cunkuan_m12 shape:  (82896, 3)\n",
      "cust_avil_Q3 shape:  (69126, 1)\n",
      "cust_avil_Q4 shape:  (76170, 1)\n",
      "cust_info_q3 shape:  (75767, 21)\n",
      "cust_info_q4 shape:  (82899, 21)\n",
      "y_Q3_3 shape:  (69126, 2)\n",
      "y_Q4_3 shape:  (76170, 2)\n"
     ]
    }
   ],
   "source": [
    "# print data shape\n",
    "print(\"aum_m7 shape: \", aum_m7.shape)\n",
    "print(\"aum_m8 shape: \", aum_m8.shape)\n",
    "print(\"aum_m9 shape: \", aum_m9.shape)\n",
    "print(\"aum_m10 shape: \", aum_m10.shape)\n",
    "print(\"aum_m11 shape: \", aum_m11.shape)\n",
    "print(\"aum_m12 shape: \", aum_m12.shape)\n",
    "\n",
    "print(\"behavior_m7 shape: \", behavior_m7.shape)\n",
    "print(\"behavior_m8 shape: \", behavior_m8.shape)\n",
    "print(\"behavior_m9 shape: \", behavior_m9.shape)\n",
    "print(\"behavior_m10 shape: \", behavior_m10.shape)\n",
    "print(\"behavior_m11 shape: \", behavior_m11.shape)\n",
    "print(\"behavior_m12 shape: \", behavior_m12.shape)\n",
    "\n",
    "print(\"big_event_Q3 shape: \", big_event_Q3.shape)\n",
    "print(\"big_event_Q4 shape: \", big_event_Q4.shape)\n",
    "\n",
    "print(\"cunkuan_m7 shape: \", cunkuan_m7.shape)\n",
    "print(\"cunkuan_m8 shape: \", cunkuan_m8.shape)\n",
    "print(\"cunkuan_m9 shape: \", cunkuan_m9.shape)\n",
    "print(\"cunkuan_m10 shape: \", cunkuan_m10.shape)\n",
    "print(\"cunkuan_m11 shape: \", cunkuan_m11.shape)\n",
    "print(\"cunkuan_m12 shape: \", cunkuan_m12.shape)\n",
    "\n",
    "print(\"cust_info_q3 shape: \", cust_info_q3.shape)\n",
    "print(\"cust_info_q4 shape: \", cust_info_q4.shape)\n",
    "\n",
    "print(\"y_Q3_3 shape: \", y_Q3_3.shape)\n",
    "print(\"y_Q4_3 shape: \", y_Q4_3.shape)"
   ],
   "metadata": {
    "collapsed": false
   }
  },
  {
   "cell_type": "code",
   "execution_count": null,
   "outputs": [],
   "source": [],
   "metadata": {
    "collapsed": false
   }
  }
 ],
 "metadata": {
  "kernelspec": {
   "display_name": "Python 3",
   "language": "python",
   "name": "python3"
  },
  "language_info": {
   "codemirror_mode": {
    "name": "ipython",
    "version": 2
   },
   "file_extension": ".py",
   "mimetype": "text/x-python",
   "name": "python",
   "nbconvert_exporter": "python",
   "pygments_lexer": "ipython2",
   "version": "2.7.6"
  }
 },
 "nbformat": 4,
 "nbformat_minor": 0
}
