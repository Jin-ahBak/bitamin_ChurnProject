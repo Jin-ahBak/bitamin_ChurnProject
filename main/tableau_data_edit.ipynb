{
 "cells": [
  {
   "cell_type": "code",
   "execution_count": 1,
   "metadata": {
    "collapsed": true
   },
   "outputs": [],
   "source": [
    "import pandas as pd\n",
    "import numpy as np"
   ]
  },
  {
   "cell_type": "code",
   "execution_count": 4,
   "outputs": [
    {
     "name": "stdout",
     "output_type": "stream",
     "text": [
      "churn_proba.shape:  (115059, 1)\n",
      "full_data.shape:  (115059, 85)\n"
     ]
    }
   ],
   "source": [
    "churn_proba = pd.read_csv('../data/tableau_data/churn_proba.csv')\n",
    "full_data = pd.read_csv('../data/fill_data/full_data.csv')\n",
    "\n",
    "print(\"churn_proba.shape: \", churn_proba.shape)\n",
    "print(\"full_data.shape: \", full_data.shape)"
   ],
   "metadata": {
    "collapsed": false
   }
  },
  {
   "cell_type": "markdown",
   "source": [
    "#### set label"
   ],
   "metadata": {
    "collapsed": false
   }
  },
  {
   "cell_type": "code",
   "execution_count": 3,
   "outputs": [],
   "source": [
    "def set_label(prob):\n",
    "    if prob < 0.2:\n",
    "        return \"UnderTwo\"\n",
    "    elif (0.2 <= prob) & (prob < 0.4):\n",
    "        return \"TwotoFour\"\n",
    "    elif (0.4 <= prob) & (prob < 0.6):\n",
    "        return \"FourtoSix\"\n",
    "    elif (0.6 <= prob) & (prob < 0.8):\n",
    "        return \"SixtoEight\"\n",
    "    else:\n",
    "        return \"OverEight\""
   ],
   "metadata": {
    "collapsed": false
   }
  },
  {
   "cell_type": "code",
   "execution_count": 11,
   "outputs": [],
   "source": [
    "churn_proba.columns = ['prob']"
   ],
   "metadata": {
    "collapsed": false
   }
  },
  {
   "cell_type": "code",
   "execution_count": 13,
   "outputs": [],
   "source": [
    "churn_proba['churn_label'] = churn_proba.prob.apply(set_label)"
   ],
   "metadata": {
    "collapsed": false
   }
  },
  {
   "cell_type": "code",
   "execution_count": 15,
   "outputs": [],
   "source": [
    "churn_proba['num'] = 1"
   ],
   "metadata": {
    "collapsed": false
   }
  },
  {
   "cell_type": "code",
   "execution_count": 16,
   "outputs": [
    {
     "data": {
      "text/plain": "            prob churn_label  num\n0       0.791554  SixtoEight    1\n1       0.829057   OverEight    1\n2       0.749934  SixtoEight    1\n3       0.384220   TwotoFour    1\n4       0.718923  SixtoEight    1\n...          ...         ...  ...\n115054  0.622695  SixtoEight    1\n115055  0.788018  SixtoEight    1\n115056  0.818909   OverEight    1\n115057  0.827668   OverEight    1\n115058  0.549302   FourtoSix    1\n\n[115059 rows x 3 columns]",
      "text/html": "<div>\n<style scoped>\n    .dataframe tbody tr th:only-of-type {\n        vertical-align: middle;\n    }\n\n    .dataframe tbody tr th {\n        vertical-align: top;\n    }\n\n    .dataframe thead th {\n        text-align: right;\n    }\n</style>\n<table border=\"1\" class=\"dataframe\">\n  <thead>\n    <tr style=\"text-align: right;\">\n      <th></th>\n      <th>prob</th>\n      <th>churn_label</th>\n      <th>num</th>\n    </tr>\n  </thead>\n  <tbody>\n    <tr>\n      <th>0</th>\n      <td>0.791554</td>\n      <td>SixtoEight</td>\n      <td>1</td>\n    </tr>\n    <tr>\n      <th>1</th>\n      <td>0.829057</td>\n      <td>OverEight</td>\n      <td>1</td>\n    </tr>\n    <tr>\n      <th>2</th>\n      <td>0.749934</td>\n      <td>SixtoEight</td>\n      <td>1</td>\n    </tr>\n    <tr>\n      <th>3</th>\n      <td>0.384220</td>\n      <td>TwotoFour</td>\n      <td>1</td>\n    </tr>\n    <tr>\n      <th>4</th>\n      <td>0.718923</td>\n      <td>SixtoEight</td>\n      <td>1</td>\n    </tr>\n    <tr>\n      <th>...</th>\n      <td>...</td>\n      <td>...</td>\n      <td>...</td>\n    </tr>\n    <tr>\n      <th>115054</th>\n      <td>0.622695</td>\n      <td>SixtoEight</td>\n      <td>1</td>\n    </tr>\n    <tr>\n      <th>115055</th>\n      <td>0.788018</td>\n      <td>SixtoEight</td>\n      <td>1</td>\n    </tr>\n    <tr>\n      <th>115056</th>\n      <td>0.818909</td>\n      <td>OverEight</td>\n      <td>1</td>\n    </tr>\n    <tr>\n      <th>115057</th>\n      <td>0.827668</td>\n      <td>OverEight</td>\n      <td>1</td>\n    </tr>\n    <tr>\n      <th>115058</th>\n      <td>0.549302</td>\n      <td>FourtoSix</td>\n      <td>1</td>\n    </tr>\n  </tbody>\n</table>\n<p>115059 rows × 3 columns</p>\n</div>"
     },
     "execution_count": 16,
     "metadata": {},
     "output_type": "execute_result"
    }
   ],
   "source": [
    "churn_proba"
   ],
   "metadata": {
    "collapsed": false
   }
  },
  {
   "cell_type": "markdown",
   "source": [
    "#### rfm"
   ],
   "metadata": {
    "collapsed": false
   }
  },
  {
   "cell_type": "code",
   "execution_count": 23,
   "outputs": [
    {
     "data": {
      "text/plain": "         E1  C2_m3       C1_m3\n0       965    2.0    50024.17\n1       368    7.0   420114.56\n2       199    2.0    67007.14\n3       120    1.0      610.81\n4        40    1.0     4781.40\n...     ...    ...         ...\n115054  267    2.0    20000.21\n115055   54    2.0    50003.17\n115056   34    2.0    80002.53\n115057   39    2.0   200010.95\n115058  859    1.0  1025322.07\n\n[115059 rows x 3 columns]",
      "text/html": "<div>\n<style scoped>\n    .dataframe tbody tr th:only-of-type {\n        vertical-align: middle;\n    }\n\n    .dataframe tbody tr th {\n        vertical-align: top;\n    }\n\n    .dataframe thead th {\n        text-align: right;\n    }\n</style>\n<table border=\"1\" class=\"dataframe\">\n  <thead>\n    <tr style=\"text-align: right;\">\n      <th></th>\n      <th>E1</th>\n      <th>C2_m3</th>\n      <th>C1_m3</th>\n    </tr>\n  </thead>\n  <tbody>\n    <tr>\n      <th>0</th>\n      <td>965</td>\n      <td>2.0</td>\n      <td>50024.17</td>\n    </tr>\n    <tr>\n      <th>1</th>\n      <td>368</td>\n      <td>7.0</td>\n      <td>420114.56</td>\n    </tr>\n    <tr>\n      <th>2</th>\n      <td>199</td>\n      <td>2.0</td>\n      <td>67007.14</td>\n    </tr>\n    <tr>\n      <th>3</th>\n      <td>120</td>\n      <td>1.0</td>\n      <td>610.81</td>\n    </tr>\n    <tr>\n      <th>4</th>\n      <td>40</td>\n      <td>1.0</td>\n      <td>4781.40</td>\n    </tr>\n    <tr>\n      <th>...</th>\n      <td>...</td>\n      <td>...</td>\n      <td>...</td>\n    </tr>\n    <tr>\n      <th>115054</th>\n      <td>267</td>\n      <td>2.0</td>\n      <td>20000.21</td>\n    </tr>\n    <tr>\n      <th>115055</th>\n      <td>54</td>\n      <td>2.0</td>\n      <td>50003.17</td>\n    </tr>\n    <tr>\n      <th>115056</th>\n      <td>34</td>\n      <td>2.0</td>\n      <td>80002.53</td>\n    </tr>\n    <tr>\n      <th>115057</th>\n      <td>39</td>\n      <td>2.0</td>\n      <td>200010.95</td>\n    </tr>\n    <tr>\n      <th>115058</th>\n      <td>859</td>\n      <td>1.0</td>\n      <td>1025322.07</td>\n    </tr>\n  </tbody>\n</table>\n<p>115059 rows × 3 columns</p>\n</div>"
     },
     "execution_count": 23,
     "metadata": {},
     "output_type": "execute_result"
    }
   ],
   "source": [
    "full_data[['E1', 'C2_m3', 'C1_m3']] # recency, frequency, monetary"
   ],
   "metadata": {
    "collapsed": false
   }
  },
  {
   "cell_type": "code",
   "execution_count": 25,
   "outputs": [],
   "source": [
    "tableau_data = pd.concat([churn_proba, full_data], axis = 1)"
   ],
   "metadata": {
    "collapsed": false
   }
  },
  {
   "cell_type": "code",
   "execution_count": 27,
   "outputs": [],
   "source": [
    "tableau_data.to_csv('../data/tableau_data/tableau_data.csv', index = None)"
   ],
   "metadata": {
    "collapsed": false,
    "pycharm": {
     "name": "#%%ㅇ\n"
    }
   }
  },
  {
   "cell_type": "code",
   "execution_count": null,
   "outputs": [],
   "source": [],
   "metadata": {
    "collapsed": false
   }
  }
 ],
 "metadata": {
  "kernelspec": {
   "display_name": "Python 3",
   "language": "python",
   "name": "python3"
  },
  "language_info": {
   "codemirror_mode": {
    "name": "ipython",
    "version": 2
   },
   "file_extension": ".py",
   "mimetype": "text/x-python",
   "name": "python",
   "nbconvert_exporter": "python",
   "pygments_lexer": "ipython2",
   "version": "2.7.6"
  }
 },
 "nbformat": 4,
 "nbformat_minor": 0
}
