{
 "cells": [
  {
   "cell_type": "code",
   "execution_count": 4,
   "metadata": {
    "collapsed": true
   },
   "outputs": [],
   "source": [
    "# required package import\n",
    "import numpy as np\n",
    "import pandas as pd\n",
    "from sklearn.svm import SVC\n",
    "from sklearn.linear_model import LogisticRegression\n",
    "from sklearn.ensemble import RandomForestClassifier\n",
    "import time\n",
    "from sklearn.metrics import accuracy_score\n",
    "from sklearn.metrics import confusion_matrix\n",
    "from sklearn.metrics import classification_report\n",
    "import random\n",
    "import torch\n",
    "from torch.utils.data import TensorDataset, DataLoader\n",
    "import torch.nn.functional as F\n",
    "import torch.nn as nn\n",
    "import matplotlib.pyplot as plt\n",
    "from sklearn.ensemble import AdaBoostClassifier"
   ]
  },
  {
   "cell_type": "markdown",
   "source": [
    "### 데이터 불러오기"
   ],
   "metadata": {
    "collapsed": false
   }
  },
  {
   "cell_type": "code",
   "execution_count": 12,
   "outputs": [],
   "source": [
    "# load data\n",
    "train_df = pd.read_csv('../data/preprocessed_data/train_data.csv')\n",
    "valid_df = pd.read_csv('../data/preprocessed_data/valid_data.csv')"
   ],
   "metadata": {
    "collapsed": false
   }
  },
  {
   "cell_type": "code",
   "execution_count": 13,
   "outputs": [
    {
     "name": "stdout",
     "output_type": "stream",
     "text": [
      "x_train.shape:  (125290, 83)\n",
      "x_valid.shape:  (10000, 83)\n",
      "y_train.shape:  (125290,)\n",
      "y_valid.shape:  (10000,)\n"
     ]
    }
   ],
   "source": [
    "x_train = train_df.drop(columns = ['cust_no', 'label'])\n",
    "x_valid = valid_df.drop(columns = ['cust_no', 'label'])\n",
    "y_train = train_df['label']\n",
    "y_valid = valid_df['label']\n",
    "\n",
    "print(\"x_train.shape: \", x_train.shape)\n",
    "print(\"x_valid.shape: \", x_valid.shape)\n",
    "print(\"y_train.shape: \", y_train.shape)\n",
    "print(\"y_valid.shape: \", y_valid.shape)"
   ],
   "metadata": {
    "collapsed": false
   }
  },
  {
   "cell_type": "markdown",
   "source": [
    "### I1 결측치 채우기\n"
   ],
   "metadata": {
    "collapsed": false
   }
  },
  {
   "cell_type": "code",
   "execution_count": 14,
   "outputs": [
    {
     "name": "stdout",
     "output_type": "stream",
     "text": [
      "model training time :  38.150205850601196\n",
      "Accuracy: 0.78\n",
      "[[60601  7273]\n",
      " [20658 36704]]\n",
      "              precision    recall  f1-score   support\n",
      "\n",
      "         0.0       0.75      0.89      0.81     67874\n",
      "         1.0       0.83      0.64      0.72     57362\n",
      "\n",
      "    accuracy                           0.78    125236\n",
      "   macro avg       0.79      0.77      0.77    125236\n",
      "weighted avg       0.79      0.78      0.77    125236\n",
      "\n",
      "Accuracy: 0.64\n",
      "[[4169 1270]\n",
      " [2297 2261]]\n",
      "              precision    recall  f1-score   support\n",
      "\n",
      "         0.0       0.64      0.77      0.70      5439\n",
      "         1.0       0.64      0.50      0.56      4558\n",
      "\n",
      "    accuracy                           0.64      9997\n",
      "   macro avg       0.64      0.63      0.63      9997\n",
      "weighted avg       0.64      0.64      0.64      9997\n",
      "\n"
     ]
    }
   ],
   "source": [
    "# data for train\n",
    "tmp_train = x_train.dropna()\n",
    "tmp_train_x = tmp_train.drop('I1', axis = 1)\n",
    "tmp_train_y = tmp_train['I1']\n",
    "\n",
    "tmp_valid = x_valid.dropna()\n",
    "tmp_valid_x = tmp_valid.drop('I1', axis = 1)\n",
    "tmp_valid_y = tmp_valid['I1']\n",
    "\n",
    "# model training\n",
    "# (train note)\n",
    "# logistic regression : no convergence\n",
    "# random forest(default) : train acc = 1.0 , valid acc = 0.65\n",
    "# random forest(n_estimators = 100, max_depth = 15) : train acc = 0.77, valid acc = 0.63\n",
    "# random forest(n_estimators = 500(default), max_depth = 15) : train acc = 0.77, valid acc = 0.64\n",
    "start_T = time.time()\n",
    "rf = RandomForestClassifier(max_depth = 15)\n",
    "rf.fit(tmp_train_x, tmp_train_y)\n",
    "end_T = time.time()\n",
    "\n",
    "print(\"model training time : \", end_T - start_T)\n",
    "\n",
    "# prediction and evaluation\n",
    "# train data\n",
    "tmp_train_pred_y = rf.predict(tmp_train_x)\n",
    "print('Accuracy: {:.2f}'.format(accuracy_score(tmp_train_y, tmp_train_pred_y)))\n",
    "print(confusion_matrix(tmp_train_y, tmp_train_pred_y))\n",
    "print(classification_report(tmp_train_y, tmp_train_pred_y))\n",
    "\n",
    "# valid data\n",
    "tmp_valid_pred_y = rf.predict(tmp_valid_x)\n",
    "print('Accuracy: {:.2f}'.format(accuracy_score(tmp_valid_y, tmp_valid_pred_y)))\n",
    "print(confusion_matrix(tmp_valid_y, tmp_valid_pred_y))\n",
    "print(classification_report(tmp_valid_y, tmp_valid_pred_y))"
   ],
   "metadata": {
    "collapsed": false
   }
  },
  {
   "cell_type": "code",
   "execution_count": 15,
   "outputs": [],
   "source": [
    "# data having null data\n",
    "x_train.loc[x_train.I1.isna(), 'I1'] = rf.predict(x_train[x_train.I1.isna()].drop('I1', axis = 1))\n",
    "x_valid.loc[x_valid.I1.isna(), 'I1'] = rf.predict(x_valid[x_valid.I1.isna()].drop('I1', axis = 1))"
   ],
   "metadata": {
    "collapsed": false
   }
  },
  {
   "cell_type": "code",
   "execution_count": 16,
   "outputs": [
    {
     "name": "stdout",
     "output_type": "stream",
     "text": [
      "train null data num :  0\n",
      "valid null data num :  0\n"
     ]
    }
   ],
   "source": [
    "print(\"train null data num : \", x_train.isna().sum().sum())\n",
    "print(\"valid null data num : \", x_valid.isna().sum().sum())"
   ],
   "metadata": {
    "collapsed": false
   }
  },
  {
   "cell_type": "code",
   "execution_count": 17,
   "outputs": [],
   "source": [
    "# tmp data save\n",
    "x_train.to_csv('./tmp_data/x_train.csv', index = None)\n",
    "x_valid.to_csv('./tmp_data/x_valid.csv', index = None)\n",
    "y_train.to_csv('./tmp_data/y_train.csv', index = None)\n",
    "y_valid.to_csv('./tmp_data/y_valid.csv', index = None)"
   ],
   "metadata": {
    "collapsed": false
   }
  },
  {
   "cell_type": "markdown",
   "source": [
    "### modeling"
   ],
   "metadata": {
    "collapsed": false
   }
  },
  {
   "cell_type": "code",
   "execution_count": 5,
   "outputs": [],
   "source": [
    "x_train = pd.read_csv('./tmp_data/x_train.csv')\n",
    "x_valid = pd.read_csv('./tmp_data/x_valid.csv')\n",
    "y_train = pd.read_csv('./tmp_data/y_train.csv')\n",
    "y_valid = pd.read_csv('./tmp_data/y_valid.csv')"
   ],
   "metadata": {
    "collapsed": false
   }
  },
  {
   "cell_type": "code",
   "execution_count": 12,
   "outputs": [
    {
     "data": {
      "text/plain": "label\n 1.0     80014\n 0.0     26133\n-1.0     19143\ndtype: int64"
     },
     "execution_count": 12,
     "metadata": {},
     "output_type": "execute_result"
    }
   ],
   "source": [
    "y_train.value_counts()"
   ],
   "metadata": {
    "collapsed": false
   }
  },
  {
   "cell_type": "markdown",
   "source": [
    "### SVC modeling\n",
    "\n",
    "- time complexity : O(n_sample^2 * feature_dim)"
   ],
   "metadata": {
    "collapsed": false
   }
  },
  {
   "cell_type": "markdown",
   "source": [
    "#### 1. 기본 데이터\n",
    "\n",
    "- sampling을 100개를 해서 돌려도 안 돌아가서 차원축소 후에 돌려보려고 함.\n",
    "- sampling 해도 안 돌아간다."
   ],
   "metadata": {
    "collapsed": false
   }
  },
  {
   "cell_type": "code",
   "execution_count": 365,
   "outputs": [],
   "source": [
    "# DataConversionWarning: A column-vector y was passed when a 1d array was expected. Please change the shape of y to (n_samples, ), for example using ravel().\n",
    "y_train = np.array(y_train).ravel()\n",
    "y_valid = np.array(y_valid).ravel()"
   ],
   "metadata": {
    "collapsed": false
   }
  },
  {
   "cell_type": "code",
   "execution_count": 366,
   "outputs": [
    {
     "name": "stdout",
     "output_type": "stream",
     "text": [
      "x_train.shape:  (125290, 83)\n",
      "x_valid.shape:  (10000, 83)\n",
      "y_train.shape:  (125290,)\n",
      "y_valid.shape:  (10000,)\n"
     ]
    }
   ],
   "source": [
    "# check data shape\n",
    "print(\"x_train.shape: \", x_train.shape)\n",
    "print(\"x_valid.shape: \", x_valid.shape)\n",
    "print(\"y_train.shape: \", y_train.shape)\n",
    "print(\"y_valid.shape: \", y_valid.shape)"
   ],
   "metadata": {
    "collapsed": false
   }
  },
  {
   "cell_type": "code",
   "execution_count": 367,
   "outputs": [
    {
     "name": "stdout",
     "output_type": "stream",
     "text": [
      "tmp_x_train:  (100, 83)\n",
      "tmp_y_train:  (100,)\n"
     ]
    }
   ],
   "source": [
    "random.seed(2023)\n",
    "tmp_idx = np.random.choice(np.arange(0,x_train.shape[0]), 100, replace = False)\n",
    "tmp_x_train = x_train.iloc[tmp_idx]\n",
    "tmp_y_train = y_train[tmp_idx]\n",
    "print(\"tmp_x_train: \", tmp_x_train.shape)\n",
    "print(\"tmp_y_train: \", tmp_y_train.shape)"
   ],
   "metadata": {
    "collapsed": false
   }
  },
  {
   "cell_type": "code",
   "execution_count": null,
   "outputs": [],
   "source": [
    "# model training\n",
    "# (training note)\n",
    "# no sampling : 안 돌아감.\n",
    "# sampling_num = 100 , kernel = linear : time : 안 돌아감.\n",
    "# sampling_num = 100 , kernel = rbf : time : 안 돌아가겠지..\n",
    "start_T = time.time()\n",
    "svc = SVC()\n",
    "svc.fit(tmp_x_train, tmp_y_train)\n",
    "end_T = time.time()\n",
    "print(\"model training time: \", end_T - start_T)\n",
    "\n",
    "# prediction and evaluation\n",
    "# train data\n",
    "train_pred_y = svc.predict(tmp_x_train)\n",
    "print('Accuracy: {:.2f}'.format(accuracy_score(y_train, train_pred_y)))\n",
    "print(confusion_matrix(y_train, train_pred_y))\n",
    "print(classification_report(y_train, train_pred_y))\n",
    "\n",
    "# valid data\n",
    "valid_pred_y = svc.predict(x_valid)\n",
    "print('Accuracy: {:.2f}'.format(accuracy_score(y_valid, valid_pred_y)))\n",
    "print(confusion_matrix(y_valid, valid_pred_y))\n",
    "print(classification_report(y_valid, valid_pred_y))\n"
   ],
   "metadata": {
    "collapsed": false,
    "pycharm": {
     "is_executing": true
    }
   }
  },
  {
   "cell_type": "markdown",
   "source": [
    "### DNN modeling"
   ],
   "metadata": {
    "collapsed": false
   }
  },
  {
   "cell_type": "markdown",
   "source": [
    "#### 1. 기본 데이터"
   ],
   "metadata": {
    "collapsed": false
   }
  },
  {
   "cell_type": "code",
   "execution_count": 369,
   "outputs": [
    {
     "name": "stdout",
     "output_type": "stream",
     "text": [
      "x_train.shape:  (125290, 83)\n",
      "x_valid.shape:  (10000, 83)\n",
      "y_train.shape:  (125290, 1)\n",
      "y_valid.shape:  (10000, 1)\n"
     ]
    }
   ],
   "source": [
    "# check data shape\n",
    "print(\"x_train.shape: \", x_train.shape)\n",
    "print(\"x_valid.shape: \", x_valid.shape)\n",
    "print(\"y_train.shape: \", y_train.shape)\n",
    "print(\"y_valid.shape: \", y_valid.shape)"
   ],
   "metadata": {
    "collapsed": false
   }
  },
  {
   "cell_type": "code",
   "execution_count": 370,
   "outputs": [],
   "source": [
    "class2idx = {-1:0, 0:1, 1:2}\n",
    "idx2class = {v: k for k, v, in class2idx.items()}\n",
    "\n",
    "y_train.replace(class2idx, inplace = True)\n",
    "y_valid.replace(class2idx, inplace = True)"
   ],
   "metadata": {
    "collapsed": false
   }
  },
  {
   "cell_type": "code",
   "execution_count": 371,
   "outputs": [],
   "source": [
    "x_train = x_train.astype('float32')\n",
    "x_train = x_train.astype('float32')\n",
    "y_train = y_train.astype('int')\n",
    "y_valid = y_valid.astype('int')"
   ],
   "metadata": {
    "collapsed": false
   }
  },
  {
   "cell_type": "markdown",
   "source": [
    "##### data loader"
   ],
   "metadata": {
    "collapsed": false
   }
  },
  {
   "cell_type": "code",
   "execution_count": 372,
   "outputs": [],
   "source": [
    "tensor_train_x = torch.Tensor(x_train.values)\n",
    "tensor_train_y = torch.Tensor(y_train.values.reshape(-1))\n",
    "tensor_valid_x = torch.Tensor(x_valid.values)\n",
    "tensor_valid_y = torch.Tensor(y_valid.values.reshape(-1))"
   ],
   "metadata": {
    "collapsed": false
   }
  },
  {
   "cell_type": "code",
   "execution_count": 373,
   "outputs": [],
   "source": [
    "train_data = TensorDataset(tensor_train_x, tensor_train_y)\n",
    "valid_data = TensorDataset(tensor_valid_x, tensor_valid_y)"
   ],
   "metadata": {
    "collapsed": false
   }
  },
  {
   "cell_type": "code",
   "execution_count": 388,
   "outputs": [],
   "source": [
    "train_loader = DataLoader(train_data, batch_size = 64, shuffle = True, drop_last = True)\n",
    "valid_loader = DataLoader(valid_data, batch_size = 64, shuffle = True, drop_last = True)"
   ],
   "metadata": {
    "collapsed": false
   }
  },
  {
   "cell_type": "markdown",
   "source": [
    "##### required function"
   ],
   "metadata": {
    "collapsed": false
   }
  },
  {
   "cell_type": "code",
   "execution_count": 445,
   "outputs": [],
   "source": [
    "# training\n",
    "def train(model, train_loader, optimizer, i_epoch, device):\n",
    "    accurate = 0\n",
    "    for i, (feature, target) in enumerate(train_loader):\n",
    "        feature = feature.to(device)\n",
    "        output = model(feature)\n",
    "        target = target.type(torch.int64)\n",
    "        loss = F.cross_entropy(output, target)\n",
    "        model.zero_grad()\n",
    "        loss.backward()\n",
    "        optimizer.step()\n",
    "\n",
    "        prediction = torch.argmax(output, dim = 1)\n",
    "        accurate += prediction.eq(target.view_as(prediction)).sum().item()\n",
    "\n",
    "        loss_value.append(loss.detach().numpy())\n",
    "\n",
    "        if i%100 == 0:\n",
    "            print(\"epoch: {}, iteration: {}, loss: {}\".format(i_epoch, i, loss.item()))\n",
    "    accuracy = accurate / len(train_loader.dataset)\n",
    "    train_accuracy_value.append(accuracy)"
   ],
   "metadata": {
    "collapsed": false
   }
  },
  {
   "cell_type": "code",
   "execution_count": 446,
   "outputs": [],
   "source": [
    "# test\n",
    "def test(model, test_loader, i_epoch, device):\n",
    "    model.eval()\n",
    "    accurate = 0\n",
    "    test_loss = 0\n",
    "\n",
    "    with torch.no_grad():\n",
    "        for i, (feature, target) in enumerate(test_loader):\n",
    "            feature = feature.to(device)\n",
    "            output = model(feature)\n",
    "            target = target.type(torch.int64)\n",
    "            test_loss += F.nll_loss(output, target, reduction='sum').item()\n",
    "            prediction = torch.argmax(output, dim=1)\n",
    "            accurate += prediction.eq(target.view_as(prediction)).sum().item()\n",
    "    accuracy = accurate / len(test_loader.dataset)\n",
    "    test_accuracy_value.append(accuracy)\n",
    "    print(\"epoch: {},train_accuracy:{}, test_accuracy: {}\".format(i_epoch, train_accuracy_value[i_epoch], test_accuracy_value[i_epoch]))"
   ],
   "metadata": {
    "collapsed": false
   }
  },
  {
   "cell_type": "code",
   "execution_count": 446,
   "outputs": [],
   "source": [],
   "metadata": {
    "collapsed": false
   }
  },
  {
   "cell_type": "markdown",
   "source": [
    "##### modeling"
   ],
   "metadata": {
    "collapsed": false
   }
  },
  {
   "cell_type": "code",
   "execution_count": 570,
   "outputs": [],
   "source": [
    "_, n_feature = x_train.shape\n",
    "\n",
    "class net(nn.Module):\n",
    "    def __init__(self):\n",
    "        super(net, self).__init__()\n",
    "\n",
    "        self.fc = nn.Sequential(\n",
    "            nn.Linear(n_feature, 16),\n",
    "            nn.ReLU(),\n",
    "            nn.Linear(16, 3),\n",
    "            nn.Sigmoid()\n",
    "        )\n",
    "\n",
    "    def forward(self, x):\n",
    "        x = x.reshape(-1, n_feature)\n",
    "        return self.fc(x)"
   ],
   "metadata": {
    "collapsed": false
   }
  },
  {
   "cell_type": "markdown",
   "source": [
    "##### evaluation"
   ],
   "metadata": {
    "collapsed": false
   }
  },
  {
   "cell_type": "code",
   "execution_count": 571,
   "outputs": [],
   "source": [
    "loss_value = []\n",
    "train_accuracy_value = []\n",
    "test_accuracy_value = []\n",
    "model = net()\n",
    "\n",
    "optimizer = torch.optim.Adam(model.parameters(), lr = 1e-4)\n",
    "device = torch.device('cuda' if torch.cuda.is_available() else 'cpu')"
   ],
   "metadata": {
    "collapsed": false
   }
  },
  {
   "cell_type": "code",
   "execution_count": 572,
   "outputs": [
    {
     "name": "stdout",
     "output_type": "stream",
     "text": [
      "epoch: 0, iteration: 0, loss: 1.1082524061203003\n",
      "epoch: 0, iteration: 100, loss: 1.1234849691390991\n",
      "epoch: 0, iteration: 200, loss: 1.1295756101608276\n",
      "epoch: 0, iteration: 300, loss: 1.1296627521514893\n",
      "epoch: 0, iteration: 400, loss: 0.9890377521514893\n",
      "epoch: 0, iteration: 500, loss: 1.0143674612045288\n",
      "epoch: 0, iteration: 600, loss: 1.0417503118515015\n",
      "epoch: 0, iteration: 700, loss: 1.0067987442016602\n",
      "epoch: 0, iteration: 800, loss: 1.0574581623077393\n",
      "epoch: 0, iteration: 900, loss: 1.0897666215896606\n",
      "epoch: 0, iteration: 1000, loss: 0.9781778454780579\n",
      "epoch: 0, iteration: 1100, loss: 0.9814689755439758\n",
      "epoch: 0, iteration: 1200, loss: 0.8877189755439758\n",
      "epoch: 0, iteration: 1300, loss: 0.9801355600357056\n",
      "epoch: 0, iteration: 1400, loss: 0.9264506101608276\n",
      "epoch: 0, iteration: 1500, loss: 0.9512869715690613\n",
      "epoch: 0, iteration: 1600, loss: 1.0057307481765747\n",
      "epoch: 0, iteration: 1700, loss: 0.9188817739486694\n",
      "epoch: 0, iteration: 1800, loss: 0.9873893857002258\n",
      "epoch: 0, iteration: 1900, loss: 0.9534229636192322\n",
      "epoch: 0,train_accuracy:0.39193072072791124, test_accuracy: 0.4539\n",
      "epoch: 1, iteration: 0, loss: 0.9609916806221008\n",
      "epoch: 1, iteration: 100, loss: 0.9302349090576172\n",
      "epoch: 1, iteration: 200, loss: 0.8838474154472351\n",
      "epoch: 1, iteration: 300, loss: 0.964688777923584\n",
      "epoch: 1, iteration: 400, loss: 0.9954456090927124\n",
      "epoch: 1, iteration: 500, loss: 0.939359188079834\n",
      "epoch: 1, iteration: 600, loss: 0.9765294790267944\n",
      "epoch: 1, iteration: 700, loss: 0.9318776726722717\n",
      "epoch: 1, iteration: 800, loss: 0.9345940351486206\n",
      "epoch: 1, iteration: 900, loss: 0.9599238038063049\n",
      "epoch: 1, iteration: 1000, loss: 0.973900318145752\n",
      "epoch: 1, iteration: 1100, loss: 0.942650318145752\n",
      "epoch: 1, iteration: 1200, loss: 1.0185520648956299\n",
      "epoch: 1, iteration: 1300, loss: 1.0002106428146362\n",
      "epoch: 1, iteration: 1400, loss: 0.9523549675941467\n",
      "epoch: 1, iteration: 1500, loss: 0.9828557968139648\n",
      "epoch: 1, iteration: 1600, loss: 0.970609188079834\n",
      "epoch: 1, iteration: 1700, loss: 1.021181344985962\n",
      "epoch: 1, iteration: 1800, loss: 0.904412031173706\n",
      "epoch: 1, iteration: 1900, loss: 1.0077794790267944\n",
      "epoch: 1,train_accuracy:0.4770133290765424, test_accuracy: 0.5031\n",
      "epoch: 2, iteration: 0, loss: 0.9490638971328735\n",
      "epoch: 2, iteration: 100, loss: 1.075131893157959\n",
      "epoch: 2, iteration: 200, loss: 0.9766167402267456\n",
      "epoch: 2, iteration: 300, loss: 0.9345067739486694\n",
      "epoch: 2, iteration: 400, loss: 0.9828001856803894\n",
      "epoch: 2, iteration: 500, loss: 1.0066242218017578\n",
      "epoch: 2, iteration: 600, loss: 0.9464346170425415\n",
      "epoch: 2, iteration: 700, loss: 0.9798206090927124\n",
      "epoch: 2, iteration: 800, loss: 0.9593431949615479\n",
      "epoch: 2, iteration: 900, loss: 0.8741161227226257\n",
      "epoch: 2, iteration: 1000, loss: 0.8693792819976807\n",
      "epoch: 2, iteration: 1100, loss: 0.9248020648956299\n",
      "epoch: 2, iteration: 1200, loss: 0.8537525534629822\n",
      "epoch: 2, iteration: 1300, loss: 1.0558096170425415\n",
      "epoch: 2, iteration: 1400, loss: 0.9958515763282776\n",
      "epoch: 2, iteration: 1500, loss: 0.9786654114723206\n",
      "epoch: 2, iteration: 1600, loss: 0.8935521245002747\n",
      "epoch: 2, iteration: 1700, loss: 0.9076159000396729\n",
      "epoch: 2, iteration: 1800, loss: 0.9075286984443665\n",
      "epoch: 2, iteration: 1900, loss: 0.975199818611145\n",
      "epoch: 2,train_accuracy:0.5165935030728709, test_accuracy: 0.574\n",
      "epoch: 3, iteration: 0, loss: 0.9197753071784973\n",
      "epoch: 3, iteration: 100, loss: 0.9771041870117188\n",
      "epoch: 3, iteration: 200, loss: 0.9846729636192322\n",
      "epoch: 3, iteration: 300, loss: 0.9005404114723206\n",
      "epoch: 3, iteration: 400, loss: 1.0772687196731567\n",
      "epoch: 3, iteration: 500, loss: 1.0556352138519287\n",
      "epoch: 3, iteration: 600, loss: 1.0868852138519287\n",
      "epoch: 3, iteration: 700, loss: 0.9474154114723206\n",
      "epoch: 3, iteration: 800, loss: 0.9388659596443176\n",
      "epoch: 3, iteration: 900, loss: 0.8786128759384155\n",
      "epoch: 3, iteration: 1000, loss: 0.9593433141708374\n",
      "epoch: 3, iteration: 1100, loss: 0.9280931949615479\n",
      "epoch: 3, iteration: 1200, loss: 0.9378000497817993\n",
      "epoch: 3, iteration: 1300, loss: 0.911400318145752\n",
      "epoch: 3, iteration: 1400, loss: 0.9485706686973572\n",
      "epoch: 3, iteration: 1500, loss: 0.9076159000396729\n",
      "epoch: 3, iteration: 1600, loss: 0.9857409596443176\n",
      "epoch: 3, iteration: 1700, loss: 0.9749681949615479\n",
      "epoch: 3, iteration: 1800, loss: 1.0169909000396729\n",
      "epoch: 3, iteration: 1900, loss: 0.963127613067627\n",
      "epoch: 3,train_accuracy:0.5515045095378721, test_accuracy: 0.5688\n",
      "epoch: 4, iteration: 0, loss: 0.9339264035224915\n",
      "epoch: 4, iteration: 100, loss: 0.8354111909866333\n",
      "epoch: 4, iteration: 200, loss: 0.9916612505912781\n",
      "epoch: 4, iteration: 300, loss: 0.9496385455131531\n",
      "epoch: 4, iteration: 400, loss: 0.8569565415382385\n",
      "epoch: 4, iteration: 500, loss: 0.9593022465705872\n",
      "epoch: 4, iteration: 600, loss: 0.9868089556694031\n",
      "epoch: 4, iteration: 700, loss: 0.8704456090927124\n",
      "epoch: 4, iteration: 800, loss: 0.9496386051177979\n",
      "epoch: 4, iteration: 900, loss: 0.9210177659988403\n",
      "epoch: 4, iteration: 1000, loss: 0.8725815415382385\n",
      "epoch: 4, iteration: 1100, loss: 0.8763659596443176\n",
      "epoch: 4, iteration: 1200, loss: 0.8569565415382385\n",
      "epoch: 4, iteration: 1300, loss: 0.8681351542472839\n",
      "epoch: 4, iteration: 1400, loss: 0.8967560529708862\n",
      "epoch: 4, iteration: 1500, loss: 0.8930588960647583\n",
      "epoch: 4, iteration: 1600, loss: 0.9474154114723206\n",
      "epoch: 4, iteration: 1700, loss: 1.0012786388397217\n",
      "epoch: 4, iteration: 1800, loss: 0.9711838960647583\n",
      "epoch: 4, iteration: 1900, loss: 0.8821989893913269\n",
      "epoch: 4,train_accuracy:0.5788490701572352, test_accuracy: 0.5959\n",
      "epoch: 5, iteration: 0, loss: 0.9905060529708862\n",
      "epoch: 5, iteration: 100, loss: 0.9990555644035339\n",
      "epoch: 5, iteration: 200, loss: 0.9447861909866333\n",
      "epoch: 5, iteration: 300, loss: 0.9420698285102844\n",
      "epoch: 5, iteration: 400, loss: 0.9377107620239258\n",
      "epoch: 5, iteration: 500, loss: 0.8618088364601135\n",
      "epoch: 5, iteration: 600, loss: 0.9038315415382385\n",
      "epoch: 5, iteration: 700, loss: 0.9651771783828735\n",
      "epoch: 5, iteration: 800, loss: 0.9436309933662415\n",
      "epoch: 5, iteration: 900, loss: 0.8353239893913269\n",
      "epoch: 5, iteration: 1000, loss: 0.9038314819335938\n",
      "epoch: 5, iteration: 1100, loss: 0.9197753071784973\n",
      "epoch: 5, iteration: 1200, loss: 0.8978239297866821\n",
      "epoch: 5, iteration: 1300, loss: 0.8951948285102844\n",
      "epoch: 5, iteration: 1400, loss: 0.8353239297866821\n",
      "epoch: 5, iteration: 1500, loss: 0.8267744779586792\n",
      "epoch: 5, iteration: 1600, loss: 0.9510253071784973\n",
      "epoch: 5, iteration: 1700, loss: 0.8989791870117188\n",
      "epoch: 5, iteration: 1800, loss: 0.9134489893913269\n",
      "epoch: 5, iteration: 1900, loss: 0.9663315415382385\n",
      "epoch: 5,train_accuracy:0.6039827599968074, test_accuracy: 0.6205\n",
      "epoch: 6, iteration: 0, loss: 0.9819565415382385\n",
      "epoch: 6, iteration: 100, loss: 0.9759489893913269\n",
      "epoch: 6, iteration: 200, loss: 0.8687971234321594\n",
      "epoch: 6, iteration: 300, loss: 0.9819564819335938\n",
      "epoch: 6, iteration: 400, loss: 0.8821989893913269\n",
      "epoch: 6, iteration: 500, loss: 0.951774537563324\n",
      "epoch: 6, iteration: 600, loss: 0.8929716348648071\n",
      "epoch: 6, iteration: 700, loss: 0.9878768920898438\n",
      "epoch: 6, iteration: 800, loss: 0.8844221234321594\n",
      "epoch: 6, iteration: 900, loss: 0.8736494779586792\n",
      "epoch: 6, iteration: 1000, loss: 0.8267744779586792\n",
      "epoch: 6, iteration: 1100, loss: 0.8751235008239746\n",
      "epoch: 6, iteration: 1200, loss: 0.9398466944694519\n",
      "epoch: 6, iteration: 1300, loss: 0.9146041870117188\n",
      "epoch: 6, iteration: 1400, loss: 0.8617216348648071\n",
      "epoch: 6, iteration: 1500, loss: 0.9544868469238281\n",
      "epoch: 6, iteration: 1600, loss: 0.9085966944694519\n",
      "epoch: 6, iteration: 1700, loss: 0.9673994779586792\n",
      "epoch: 6, iteration: 1800, loss: 1.0045697689056396\n",
      "epoch: 6, iteration: 1900, loss: 0.8256193399429321\n",
      "epoch: 6,train_accuracy:0.627584005108149, test_accuracy: 0.6282\n",
      "epoch: 7, iteration: 0, loss: 0.9915740489959717\n",
      "epoch: 7, iteration: 100, loss: 0.8844221234321594\n",
      "epoch: 7, iteration: 200, loss: 0.8546461462974548\n",
      "epoch: 7, iteration: 300, loss: 0.9759489893913269\n",
      "epoch: 7, iteration: 400, loss: 0.8785018920898438\n",
      "epoch: 7, iteration: 500, loss: 0.8881192803382874\n",
      "epoch: 7, iteration: 600, loss: 0.9361494779586792\n",
      "epoch: 7, iteration: 700, loss: 0.9075286388397217\n",
      "epoch: 7, iteration: 800, loss: 0.894126832485199\n",
      "epoch: 7, iteration: 900, loss: 0.8594985008239746\n",
      "epoch: 7, iteration: 1000, loss: 0.867729127407074\n",
      "epoch: 7, iteration: 1100, loss: 0.909751832485199\n",
      "epoch: 7, iteration: 1200, loss: 0.9253768920898438\n",
      "epoch: 7, iteration: 1300, loss: 0.972251832485199\n",
      "epoch: 7, iteration: 1400, loss: 0.941001832485199\n",
      "epoch: 7, iteration: 1500, loss: 0.9146041870117188\n",
      "epoch: 7, iteration: 1600, loss: 0.9387787580490112\n",
      "epoch: 7, iteration: 1700, loss: 0.941001832485199\n",
      "epoch: 7, iteration: 1800, loss: 0.8531721830368042\n",
      "epoch: 7, iteration: 1900, loss: 0.8762786984443665\n",
      "epoch: 7,train_accuracy:0.62226035597414, test_accuracy: 0.6309\n",
      "epoch: 8, iteration: 0, loss: 0.8773466944694519\n",
      "epoch: 8, iteration: 100, loss: 0.9566268920898438\n",
      "epoch: 8, iteration: 200, loss: 0.9495513439178467\n",
      "epoch: 8, iteration: 300, loss: 0.8989791870117188\n",
      "epoch: 8, iteration: 400, loss: 0.9317031502723694\n",
      "epoch: 8, iteration: 500, loss: 0.9544036984443665\n",
      "epoch: 8, iteration: 600, loss: 0.9435437917709351\n",
      "epoch: 8, iteration: 700, loss: 0.7858197689056396\n",
      "epoch: 8, iteration: 800, loss: 0.9183014035224915\n",
      "epoch: 8, iteration: 900, loss: 0.8413315415382385\n",
      "epoch: 8, iteration: 1000, loss: 0.9726579189300537\n",
      "epoch: 8, iteration: 1100, loss: 0.9957644939422607\n",
      "epoch: 8, iteration: 1200, loss: 0.9604111909866333\n",
      "epoch: 8, iteration: 1300, loss: 0.8460966348648071\n",
      "epoch: 8, iteration: 1400, loss: 0.909751832485199\n",
      "epoch: 8, iteration: 1500, loss: 0.8510361313819885\n",
      "epoch: 8, iteration: 1600, loss: 0.831626832485199\n",
      "epoch: 8, iteration: 1700, loss: 0.8677291870117188\n",
      "epoch: 8, iteration: 1800, loss: 0.8871385455131531\n",
      "epoch: 8, iteration: 1900, loss: 0.8908356428146362\n",
      "epoch: 8,train_accuracy:0.6180062255567085, test_accuracy: 0.6256\n",
      "epoch: 9, iteration: 0, loss: 0.8687971234321594\n",
      "epoch: 9, iteration: 100, loss: 0.889274537563324\n",
      "epoch: 9, iteration: 200, loss: 1.0660018920898438\n",
      "epoch: 9, iteration: 300, loss: 0.8580244779586792\n",
      "epoch: 9, iteration: 400, loss: 0.9781721830368042\n",
      "epoch: 9, iteration: 500, loss: 0.8580244779586792\n",
      "epoch: 9, iteration: 600, loss: 0.894126832485199\n",
      "epoch: 9, iteration: 700, loss: 0.8989791870117188\n",
      "epoch: 9, iteration: 800, loss: 0.9253768920898438\n",
      "epoch: 9, iteration: 900, loss: 1.0083540678024292\n",
      "epoch: 9, iteration: 1000, loss: 0.9937971830368042\n",
      "epoch: 9, iteration: 1100, loss: 0.9410018920898438\n",
      "epoch: 9, iteration: 1200, loss: 0.8762211203575134\n",
      "epoch: 9, iteration: 1300, loss: 0.8833541870117188\n",
      "epoch: 9, iteration: 1400, loss: 0.9625471830368042\n",
      "epoch: 9, iteration: 1500, loss: 0.9760362505912781\n",
      "epoch: 9, iteration: 1600, loss: 0.8138659596443176\n",
      "epoch: 9, iteration: 1700, loss: 0.8257064819335938\n",
      "epoch: 9, iteration: 1800, loss: 0.9878768920898438\n",
      "epoch: 9, iteration: 1900, loss: 0.8941268920898438\n",
      "epoch: 9,train_accuracy:0.6160906696464203, test_accuracy: 0.6234\n",
      "epoch: 10, iteration: 0, loss: 0.789604127407074\n",
      "epoch: 10, iteration: 100, loss: 0.9086838960647583\n",
      "epoch: 10, iteration: 200, loss: 0.8882064819335938\n",
      "epoch: 10, iteration: 300, loss: 0.7632065415382385\n",
      "epoch: 10, iteration: 400, loss: 0.9571065306663513\n",
      "epoch: 10, iteration: 500, loss: 0.9205244779586792\n",
      "epoch: 10, iteration: 600, loss: 1.0541611909866333\n",
      "epoch: 10, iteration: 700, loss: 0.873649537563324\n",
      "epoch: 10, iteration: 800, loss: 0.9194565415382385\n",
      "epoch: 10, iteration: 900, loss: 0.9146041870117188\n",
      "epoch: 10, iteration: 1000, loss: 0.8569565415382385\n",
      "epoch: 10, iteration: 1100, loss: 0.862876832485199\n",
      "epoch: 10, iteration: 1200, loss: 0.894126832485199\n",
      "epoch: 10, iteration: 1300, loss: 0.8208541870117188\n",
      "epoch: 10, iteration: 1400, loss: 0.8677291870117188\n",
      "epoch: 10, iteration: 1500, loss: 1.0035017728805542\n",
      "epoch: 10, iteration: 1600, loss: 0.9399338364601135\n",
      "epoch: 10, iteration: 1700, loss: 0.9243088960647583\n",
      "epoch: 10, iteration: 1800, loss: 0.9722518920898438\n",
      "epoch: 10, iteration: 1900, loss: 0.941001832485199\n",
      "epoch: 10,train_accuracy:0.6186128182616331, test_accuracy: 0.6262\n",
      "epoch: 11, iteration: 0, loss: 0.9868088960647583\n",
      "epoch: 11, iteration: 100, loss: 0.9194565415382385\n",
      "epoch: 11, iteration: 200, loss: 0.9146041870117188\n",
      "epoch: 11, iteration: 300, loss: 0.956626832485199\n",
      "epoch: 11, iteration: 400, loss: 0.8100814819335938\n",
      "epoch: 11, iteration: 500, loss: 0.7906721234321594\n",
      "epoch: 11, iteration: 600, loss: 0.956626832485199\n",
      "epoch: 11, iteration: 700, loss: 0.8941268920898438\n",
      "epoch: 11, iteration: 800, loss: 0.8736494779586792\n",
      "epoch: 11, iteration: 900, loss: 0.8687971234321594\n",
      "epoch: 11, iteration: 1000, loss: 1.0191267728805542\n",
      "epoch: 11, iteration: 1100, loss: 0.820854127407074\n",
      "epoch: 11, iteration: 1200, loss: 1.0396041870117188\n",
      "epoch: 11, iteration: 1300, loss: 0.8219221234321594\n",
      "epoch: 11, iteration: 1400, loss: 0.8569565415382385\n",
      "epoch: 11, iteration: 1500, loss: 0.983024537563324\n",
      "epoch: 11, iteration: 1600, loss: 0.9625471830368042\n",
      "epoch: 11, iteration: 1700, loss: 0.7642744779586792\n",
      "epoch: 11, iteration: 1800, loss: 0.8111494779586792\n",
      "epoch: 11, iteration: 1900, loss: 0.9048994779586792\n",
      "epoch: 11,train_accuracy:0.6235134487987868, test_accuracy: 0.6451\n",
      "epoch: 12, iteration: 0, loss: 0.8795698285102844\n",
      "epoch: 12, iteration: 100, loss: 0.9458542466163635\n",
      "epoch: 12, iteration: 200, loss: 0.9722517728805542\n",
      "epoch: 12, iteration: 300, loss: 0.8375471234321594\n",
      "epoch: 12, iteration: 400, loss: 0.8892744779586792\n",
      "epoch: 12, iteration: 500, loss: 0.8062971234321594\n",
      "epoch: 12, iteration: 600, loss: 0.9517744779586792\n",
      "epoch: 12, iteration: 700, loss: 0.9937971830368042\n",
      "epoch: 12, iteration: 800, loss: 0.9156721234321594\n",
      "epoch: 12, iteration: 900, loss: 0.9108197689056396\n",
      "epoch: 12, iteration: 1000, loss: 0.9733197689056396\n",
      "epoch: 12, iteration: 1100, loss: 0.8375471234321594\n",
      "epoch: 12, iteration: 1200, loss: 1.0552291870117188\n",
      "epoch: 12, iteration: 1300, loss: 0.9361494779586792\n",
      "epoch: 12, iteration: 1400, loss: 0.9420698285102844\n",
      "epoch: 12, iteration: 1500, loss: 0.7858197689056396\n",
      "epoch: 12, iteration: 1600, loss: 0.9000471830368042\n",
      "epoch: 12, iteration: 1700, loss: 0.9781721830368042\n",
      "epoch: 12, iteration: 1800, loss: 0.9781721234321594\n",
      "epoch: 12, iteration: 1900, loss: 0.9361494779586792\n",
      "epoch: 12,train_accuracy:0.6410008779631255, test_accuracy: 0.6445\n",
      "epoch: 13, iteration: 0, loss: 0.956626832485199\n",
      "epoch: 13, iteration: 100, loss: 0.8267744779586792\n",
      "epoch: 13, iteration: 200, loss: 0.9469221234321594\n",
      "epoch: 13, iteration: 300, loss: 0.8795698881149292\n",
      "epoch: 13, iteration: 400, loss: 0.9097518920898438\n",
      "epoch: 13, iteration: 500, loss: 0.862876832485199\n",
      "epoch: 13, iteration: 600, loss: 1.0094221830368042\n",
      "epoch: 13, iteration: 700, loss: 0.9576948285102844\n",
      "epoch: 13, iteration: 800, loss: 0.936149537563324\n",
      "epoch: 13, iteration: 900, loss: 0.9469221234321594\n",
      "epoch: 13, iteration: 1000, loss: 0.9264448285102844\n",
      "epoch: 13, iteration: 1100, loss: 0.9108198285102844\n",
      "epoch: 13, iteration: 1200, loss: 0.9205244779586792\n",
      "epoch: 13, iteration: 1300, loss: 0.7906721234321594\n",
      "epoch: 13, iteration: 1400, loss: 0.873649537563324\n",
      "epoch: 13, iteration: 1500, loss: 0.8892744779586792\n",
      "epoch: 13, iteration: 1600, loss: 0.8892744779586792\n",
      "epoch: 13, iteration: 1700, loss: 0.9937971234321594\n",
      "epoch: 13, iteration: 1800, loss: 0.8219221234321594\n",
      "epoch: 13, iteration: 1900, loss: 0.8170698285102844\n",
      "epoch: 13,train_accuracy:0.6412083965200734, test_accuracy: 0.6453\n",
      "epoch: 14, iteration: 0, loss: 1.0094221830368042\n",
      "epoch: 14, iteration: 100, loss: 0.9420698285102844\n",
      "epoch: 14, iteration: 200, loss: 1.0045697689056396\n",
      "epoch: 14, iteration: 300, loss: 0.9469221234321594\n",
      "epoch: 14, iteration: 400, loss: 0.9673994779586792\n",
      "epoch: 14, iteration: 500, loss: 0.8844221830368042\n",
      "epoch: 14, iteration: 600, loss: 0.8951948285102844\n",
      "epoch: 14, iteration: 700, loss: 0.9420697689056396\n",
      "epoch: 14, iteration: 800, loss: 0.8531721234321594\n",
      "epoch: 14, iteration: 900, loss: 0.9000471830368042\n",
      "epoch: 14, iteration: 1000, loss: 0.9673994779586792\n",
      "epoch: 14, iteration: 1100, loss: 0.9000471234321594\n",
      "epoch: 14, iteration: 1200, loss: 0.9108197689056396\n",
      "epoch: 14, iteration: 1300, loss: 0.9420697689056396\n",
      "epoch: 14, iteration: 1400, loss: 0.8795697689056396\n",
      "epoch: 14, iteration: 1500, loss: 0.9156721234321594\n",
      "epoch: 14, iteration: 1600, loss: 0.8951948285102844\n",
      "epoch: 14, iteration: 1700, loss: 0.9566268920898438\n",
      "epoch: 14, iteration: 1800, loss: 0.8941268920898438\n",
      "epoch: 14, iteration: 1900, loss: 0.8326947093009949\n",
      "epoch: 14,train_accuracy:0.6410567483438423, test_accuracy: 0.6449\n",
      "epoch: 15, iteration: 0, loss: 0.8844221234321594\n",
      "epoch: 15, iteration: 100, loss: 0.9000471830368042\n",
      "epoch: 15, iteration: 200, loss: 0.8687971830368042\n",
      "epoch: 15, iteration: 300, loss: 0.9108198285102844\n",
      "epoch: 15, iteration: 400, loss: 0.8951947689056396\n",
      "epoch: 15, iteration: 500, loss: 0.7847518920898438\n",
      "epoch: 15, iteration: 600, loss: 0.8844221830368042\n",
      "epoch: 15, iteration: 700, loss: 0.9937971234321594\n",
      "epoch: 15, iteration: 800, loss: 1.0406721830368042\n",
      "epoch: 15, iteration: 900, loss: 0.9673994779586792\n",
      "epoch: 15, iteration: 1000, loss: 0.9108198285102844\n",
      "epoch: 15, iteration: 1100, loss: 0.9517744779586792\n",
      "epoch: 15, iteration: 1200, loss: 0.9733198285102844\n",
      "epoch: 15, iteration: 1300, loss: 0.9469221234321594\n",
      "epoch: 15, iteration: 1400, loss: 0.8483198285102844\n",
      "epoch: 15, iteration: 1500, loss: 0.9722517728805542\n",
      "epoch: 15, iteration: 1600, loss: 0.9361494779586792\n",
      "epoch: 15, iteration: 1700, loss: 0.894126832485199\n",
      "epoch: 15, iteration: 1800, loss: 0.9937971830368042\n",
      "epoch: 15, iteration: 1900, loss: 0.8951948285102844\n",
      "epoch: 15,train_accuracy:0.6419666374012292, test_accuracy: 0.6457\n",
      "epoch: 16, iteration: 0, loss: 0.9264448285102844\n",
      "epoch: 16, iteration: 100, loss: 0.9781721830368042\n",
      "epoch: 16, iteration: 200, loss: 0.8062971234321594\n",
      "epoch: 16, iteration: 300, loss: 0.9889448881149292\n",
      "epoch: 16, iteration: 400, loss: 0.9469221234321594\n",
      "epoch: 16, iteration: 500, loss: 0.925376832485199\n",
      "epoch: 16, iteration: 600, loss: 0.8531721830368042\n",
      "epoch: 16, iteration: 700, loss: 1.0514447689056396\n",
      "epoch: 16, iteration: 800, loss: 0.9312971830368042\n",
      "epoch: 16, iteration: 900, loss: 0.9000471234321594\n",
      "epoch: 16, iteration: 1000, loss: 0.9108198285102844\n",
      "epoch: 16, iteration: 1100, loss: 0.8483198285102844\n",
      "epoch: 16, iteration: 1200, loss: 0.889274537563324\n",
      "epoch: 16, iteration: 1300, loss: 1.0045698881149292\n",
      "epoch: 16, iteration: 1400, loss: 0.9937971830368042\n",
      "epoch: 16, iteration: 1500, loss: 0.8326948285102844\n",
      "epoch: 16, iteration: 1600, loss: 0.9312971830368042\n",
      "epoch: 16, iteration: 1700, loss: 0.9156721234321594\n",
      "epoch: 16, iteration: 1800, loss: 0.9733198881149292\n",
      "epoch: 16, iteration: 1900, loss: 0.9264448285102844\n",
      "epoch: 16,train_accuracy:0.6419666374012292, test_accuracy: 0.646\n",
      "epoch: 17, iteration: 0, loss: 0.8951947689056396\n",
      "epoch: 17, iteration: 100, loss: 0.8014447689056396\n",
      "epoch: 17, iteration: 200, loss: 0.8219221234321594\n",
      "epoch: 17, iteration: 300, loss: 0.9733198285102844\n",
      "epoch: 17, iteration: 400, loss: 0.8170697689056396\n",
      "epoch: 17, iteration: 500, loss: 0.8795698285102844\n",
      "epoch: 17, iteration: 600, loss: 0.9312971830368042\n",
      "epoch: 17, iteration: 700, loss: 0.8062971234321594\n",
      "epoch: 17, iteration: 800, loss: 0.8639447689056396\n",
      "epoch: 17, iteration: 900, loss: 0.9625471830368042\n",
      "epoch: 17, iteration: 1000, loss: 0.9205244183540344\n",
      "epoch: 17, iteration: 1100, loss: 0.9108198285102844\n",
      "epoch: 17, iteration: 1200, loss: 0.847251832485199\n",
      "epoch: 17, iteration: 1300, loss: 0.9156721234321594\n",
      "epoch: 17, iteration: 1400, loss: 1.0250471830368042\n",
      "epoch: 17, iteration: 1500, loss: 0.9108198285102844\n",
      "epoch: 17, iteration: 1600, loss: 0.8639448285102844\n",
      "epoch: 17, iteration: 1700, loss: 0.8951948881149292\n",
      "epoch: 17, iteration: 1800, loss: 0.8375471234321594\n",
      "epoch: 17, iteration: 1900, loss: 0.8795697689056396\n",
      "epoch: 17,train_accuracy:0.6421182855774603, test_accuracy: 0.6456\n",
      "epoch: 18, iteration: 0, loss: 0.894126832485199\n",
      "epoch: 18, iteration: 100, loss: 0.8951948285102844\n",
      "epoch: 18, iteration: 200, loss: 0.9264448285102844\n",
      "epoch: 18, iteration: 300, loss: 0.9108198285102844\n",
      "epoch: 18, iteration: 400, loss: 0.904899537563324\n",
      "epoch: 18, iteration: 500, loss: 0.9937971830368042\n",
      "epoch: 18, iteration: 600, loss: 0.9733198881149292\n",
      "epoch: 18, iteration: 700, loss: 0.9420698285102844\n",
      "epoch: 18, iteration: 800, loss: 0.9469221830368042\n",
      "epoch: 18, iteration: 900, loss: 0.7798994779586792\n",
      "epoch: 18, iteration: 1000, loss: 0.9420698881149292\n",
      "epoch: 18, iteration: 1100, loss: 0.7437970638275146\n",
      "epoch: 18, iteration: 1200, loss: 1.0875471830368042\n",
      "epoch: 18, iteration: 1300, loss: 0.9108198285102844\n",
      "epoch: 18, iteration: 1400, loss: 0.8219221234321594\n",
      "epoch: 18, iteration: 1500, loss: 0.8687971830368042\n",
      "epoch: 18, iteration: 1600, loss: 0.8170697689056396\n",
      "epoch: 18, iteration: 1700, loss: 0.8639447689056396\n",
      "epoch: 18, iteration: 1800, loss: 0.9048994779586792\n",
      "epoch: 18, iteration: 1900, loss: 0.9420698285102844\n",
      "epoch: 18,train_accuracy:0.6421422300263389, test_accuracy: 0.646\n",
      "epoch: 19, iteration: 0, loss: 0.858024537563324\n",
      "epoch: 19, iteration: 100, loss: 0.9000471234321594\n",
      "epoch: 19, iteration: 200, loss: 0.8951948881149292\n",
      "epoch: 19, iteration: 300, loss: 0.8639448285102844\n",
      "epoch: 19, iteration: 400, loss: 0.9915739893913269\n",
      "epoch: 19, iteration: 500, loss: 0.9733197689056396\n",
      "epoch: 19, iteration: 600, loss: 0.9000471234321594\n",
      "epoch: 19, iteration: 700, loss: 0.8375471234321594\n",
      "epoch: 19, iteration: 800, loss: 1.0514448881149292\n",
      "epoch: 19, iteration: 900, loss: 0.9733197689056396\n",
      "epoch: 19, iteration: 1000, loss: 0.8639447689056396\n",
      "epoch: 19, iteration: 1100, loss: 0.8531721234321594\n",
      "epoch: 19, iteration: 1200, loss: 0.9420698285102844\n",
      "epoch: 19, iteration: 1300, loss: 0.9469221830368042\n",
      "epoch: 19, iteration: 1400, loss: 0.9156721830368042\n",
      "epoch: 19, iteration: 1500, loss: 0.8951948285102844\n",
      "epoch: 19, iteration: 1600, loss: 0.9469221830368042\n",
      "epoch: 19, iteration: 1700, loss: 0.9312971234321594\n",
      "epoch: 19, iteration: 1800, loss: 0.936149537563324\n",
      "epoch: 19, iteration: 1900, loss: 0.987876832485199\n",
      "epoch: 19,train_accuracy:0.6421661744752175, test_accuracy: 0.6458\n"
     ]
    }
   ],
   "source": [
    "for i_epoch in range(20):\n",
    "    train(model, train_loader, optimizer, i_epoch, device)\n",
    "    test(model, valid_loader, i_epoch, device)\n"
   ],
   "metadata": {
    "collapsed": false
   }
  },
  {
   "cell_type": "code",
   "execution_count": 573,
   "outputs": [
    {
     "data": {
      "text/plain": "<matplotlib.legend.Legend at 0x7fa51c65eb90>"
     },
     "execution_count": 573,
     "metadata": {},
     "output_type": "execute_result"
    },
    {
     "data": {
      "text/plain": "<Figure size 640x480 with 1 Axes>",
      "image/png": "[encoded data removed]"
     },
     "metadata": {},
     "output_type": "display_data"
    }
   ],
   "source": [
    "#그래프 확인\n",
    "plt.plot(loss_value, label='Training Loss')\n",
    "plt.title('Training Loss')\n",
    "plt.legend()"
   ],
   "metadata": {
    "collapsed": false
   }
  },
  {
   "cell_type": "code",
   "execution_count": 574,
   "outputs": [
    {
     "data": {
      "text/plain": "<matplotlib.legend.Legend at 0x7fa4ea5cab50>"
     },
     "execution_count": 574,
     "metadata": {},
     "output_type": "execute_result"
    },
    {
     "data": {
      "text/plain": "<Figure size 640x480 with 1 Axes>",
      "image/png": "[encoded data removed]"
     },
     "metadata": {},
     "output_type": "display_data"
    }
   ],
   "source": [
    "plt.plot(train_accuracy_value, label='Train Accuracy', c = 'b')\n",
    "plt.plot(test_accuracy_value, label='Test Accuracy', c= 'r')\n",
    "plt.title('Accuracy')\n",
    "plt.xlabel('Epoch')\n",
    "plt.legend()"
   ],
   "metadata": {
    "collapsed": false
   }
  },
  {
   "cell_type": "code",
   "execution_count": 575,
   "outputs": [
    {
     "data": {
      "text/plain": "20"
     },
     "execution_count": 575,
     "metadata": {},
     "output_type": "execute_result"
    }
   ],
   "source": [
    "len(train_accuracy_value)"
   ],
   "metadata": {
    "collapsed": false
   }
  },
  {
   "cell_type": "code",
   "execution_count": 576,
   "outputs": [
    {
     "name": "stdout",
     "output_type": "stream",
     "text": [
      "0.6458\n"
     ]
    }
   ],
   "source": [
    "print(test_accuracy_value[-1])"
   ],
   "metadata": {
    "collapsed": false
   }
  },
  {
   "cell_type": "code",
   "execution_count": 577,
   "outputs": [
    {
     "name": "stdout",
     "output_type": "stream",
     "text": [
      "====================================================\n",
      "Model's state_dict for epoch : 19\n",
      "fc.0.weight \t torch.Size([16, 83])\n",
      "fc.0.bias \t torch.Size([16])\n",
      "fc.2.weight \t torch.Size([3, 16])\n",
      "fc.2.bias \t torch.Size([3])\n",
      "train acc :  0.6421661744752175 test acc:  0.6458\n",
      "====================================================\n"
     ]
    }
   ],
   "source": [
    "\n",
    "print('====================================================')\n",
    "print(\"Model's state_dict for epoch :\", i_epoch)\n",
    "for param_tensor in model.state_dict():\n",
    "  print(param_tensor, \"\\t\", model.state_dict()[param_tensor].size())\n",
    "\n",
    "print(\"train acc : \", train_accuracy_value[-1] , \"test acc: \", test_accuracy_value[-1])\n",
    "\n",
    "print('====================================================')\n"
   ],
   "metadata": {
    "collapsed": false
   }
  },
  {
   "cell_type": "code",
   "execution_count": null,
   "outputs": [],
   "source": [
    "# train note\n",
    "'''\n",
    "====================================================\n",
    "# Model's state_dict for epoch : 9\n",
    "# fc.0.weight \t torch.Size([32, 83])\n",
    "# fc.0.bias \t torch.Size([32])\n",
    "# fc.2.weight \t torch.Size([3, 32])\n",
    "# fc.2.bias \t torch.Size([3])\n",
    "# train acc :  0.6476494532684173 test acc:  0.655\n",
    "====================================================\n",
    "'''\n",
    "'''\n",
    "====================================================\n",
    "Model's state_dict for epoch : 19\n",
    "fc.0.weight \t torch.Size([16, 83])\n",
    "fc.0.bias \t torch.Size([16])\n",
    "fc.2.weight \t torch.Size([3, 16])\n",
    "fc.2.bias \t torch.Size([3])\n",
    "train acc :  0.6568361401548408 test acc:  0.6659\n",
    "====================================================\n",
    ",,,\n",
    "====================================================\n",
    "Model's state_dict for epoch : 19\n",
    "fc.0.weight \t torch.Size([32, 83])\n",
    "fc.0.bias \t torch.Size([32])\n",
    "fc.2.weight \t torch.Size([32, 32])\n",
    "fc.2.bias \t torch.Size([32])\n",
    "fc.4.weight \t torch.Size([32, 32])\n",
    "fc.4.bias \t torch.Size([32])\n",
    "fc.6.weight \t torch.Size([3, 32])\n",
    "fc.6.bias \t torch.Size([3])\n",
    "train acc :  0.6598212147817064 test acc:  0.6682\n",
    "====================================================\n",
    "'''\n",
    "'''\n",
    "====================================================\n",
    "Model's state_dict for epoch : 19\n",
    "fc.0.weight \t torch.Size([16, 83])\n",
    "fc.0.bias \t torch.Size([16])\n",
    "fc.2.weight \t torch.Size([16, 16])\n",
    "fc.2.bias \t torch.Size([16])\n",
    "fc.4.weight \t torch.Size([16, 16])\n",
    "fc.4.bias \t torch.Size([16])\n",
    "fc.6.weight \t torch.Size([3, 16])\n",
    "fc.6.bias \t torch.Size([3])\n",
    "train acc :  0.6593103998722962 test acc:  0.6634\n",
    "====================================================\n",
    "'''\n",
    "'''\n",
    "====================================================\n",
    "Model's state_dict for epoch : 19\n",
    "fc.0.weight \t torch.Size([16, 83])\n",
    "fc.0.bias \t torch.Size([16])\n",
    "fc.2.weight \t torch.Size([16, 16])\n",
    "fc.2.bias \t torch.Size([16])\n",
    "fc.4.weight \t torch.Size([3, 16])\n",
    "fc.4.bias \t torch.Size([3])\n",
    "train acc :  0.6694867906457019 test acc:  0.6759\n",
    "====================================================\n",
    "'''\n",
    "'''\n",
    "====================================================\n",
    "Model's state_dict for epoch : 19\n",
    "fc.0.weight \t torch.Size([8, 83])\n",
    "fc.0.bias \t torch.Size([8])\n",
    "fc.2.weight \t torch.Size([8, 8])\n",
    "fc.2.bias \t torch.Size([8])\n",
    "fc.4.weight \t torch.Size([3, 8])\n",
    "fc.4.bias \t torch.Size([3])\n",
    "train acc :  0.6532604357889696 test acc:  0.6633\n",
    "====================================================\n",
    "'''\n",
    "'''\n",
    "====================================================\n",
    "Model's state_dict for epoch : 19\n",
    "fc.0.weight \t torch.Size([8, 83])\n",
    "fc.0.bias \t torch.Size([8])\n",
    "fc.2.weight \t torch.Size([3, 8])\n",
    "fc.2.bias \t torch.Size([3])\n",
    "train acc :  0.6157394843962009 test acc:  0.6255\n",
    "====================================================\n",
    "'''"
   ],
   "metadata": {
    "collapsed": false,
    "pycharm": {
     "is_executing": true
    }
   }
  },
  {
   "cell_type": "markdown",
   "source": [
    "### adaboost"
   ],
   "metadata": {
    "collapsed": false
   }
  },
  {
   "cell_type": "code",
   "execution_count": 6,
   "outputs": [],
   "source": [
    "y_train = np.array(y_train).ravel()\n",
    "y_valid = np.array(y_valid).ravel()"
   ],
   "metadata": {
    "collapsed": false
   }
  },
  {
   "cell_type": "code",
   "execution_count": 7,
   "outputs": [
    {
     "name": "stdout",
     "output_type": "stream",
     "text": [
      "x_train.shape:  (125290, 83)\n",
      "x_valid.shape:  (10000, 83)\n",
      "y_train.shape:  (125290,)\n",
      "y_valid.shape:  (10000,)\n"
     ]
    }
   ],
   "source": [
    "# check data shape\n",
    "print(\"x_train.shape: \", x_train.shape)\n",
    "print(\"x_valid.shape: \", x_valid.shape)\n",
    "print(\"y_train.shape: \", y_train.shape)\n",
    "print(\"y_valid.shape: \", y_valid.shape)"
   ],
   "metadata": {
    "collapsed": false
   }
  },
  {
   "cell_type": "code",
   "execution_count": null,
   "outputs": [],
   "source": [
    "# train note\n",
    "# model training time:  20.83764910697937\n",
    "\n",
    "start_T = time.time()\n",
    "adaboost = AdaBoostClassifier()\n",
    "adaboost.fit(x_train, y_train)\n",
    "end_T = time.time()\n",
    "print(\"model training time: \", end_T - start_T)\n",
    "\n",
    "# prediction and evaluation\n",
    "# train data\n",
    "train_pred_y = adaboost.predict(x_train)\n",
    "print('Accuracy: {:.2f}'.format(accuracy_score(y_train, train_pred_y)))\n",
    "print(confusion_matrix(y_train, train_pred_y))\n",
    "print(classification_report(y_train, train_pred_y))\n",
    "\n",
    "# valid data\n",
    "valid_pred_y = adaboost.predict(x_valid)\n",
    "print('Accuracy: {:.2f}'.format(accuracy_score(y_valid, valid_pred_y)))\n",
    "print(confusion_matrix(y_valid, valid_pred_y))\n",
    "print(classification_report(y_valid, valid_pred_y))"
   ],
   "metadata": {
    "collapsed": false,
    "pycharm": {
     "is_executing": true
    }
   }
  },
  {
   "cell_type": "code",
   "execution_count": 8,
   "outputs": [],
   "source": [
    "# optuna로 최적화해보기\n",
    "import optuna\n",
    "from optuna import Trial\n",
    "from optuna.samplers import TPESampler\n",
    "from sklearn.metrics import f1_score\n",
    "import plotly"
   ],
   "metadata": {
    "collapsed": false
   }
  },
  {
   "cell_type": "code",
   "execution_count": 9,
   "outputs": [],
   "source": [
    "def objectAdaboost(trial : Trial, x_train, y_train, x_test, y_test):\n",
    "    param = {\n",
    "        'n_estimators' : trial.suggest_int('n_estimators', 100, 1000),\n",
    "        'learning_rate' : round(trial.suggest_float('learning_rate', 0.1, 3.0), 3),\n",
    "    }\n",
    "\n",
    "    adaboost = AdaBoostClassifier(**param)\n",
    "    adaboost.fit(x_train, y_train)\n",
    "\n",
    "    score = f1_score(adaboost.predict(x_test), y_test, average = 'micro')\n",
    "\n",
    "    return score"
   ],
   "metadata": {
    "collapsed": false
   }
  },
  {
   "cell_type": "code",
   "execution_count": null,
   "outputs": [
    {
     "name": "stderr",
     "output_type": "stream",
     "text": [
      "\u001B[32m[I 2023-01-29 16:38:05,702]\u001B[0m A new study created in memory with name: no-name-ba571969-26fd-4cab-908e-748f29ce285a\u001B[0m\n"
     ]
    }
   ],
   "source": [
    "study = optuna.create_study(direction = 'maximize', sampler = TPESampler())\n",
    "study.optimize(lambda trial : objectAdaboost(trial, x_train, y_train, x_valid, y_valid), n_trials = 10)\n",
    "print('Best trial : score {}, \\nparams {}'.format(study.best_trial.value, study.best_trial.params))\n"
   ],
   "metadata": {
    "collapsed": false,
    "pycharm": {
     "is_executing": true
    }
   }
  },
  {
   "cell_type": "code",
   "execution_count": null,
   "outputs": [],
   "source": [
    "optuna.visualization.plot_param_importances(study) # 파라미터 중요도 확인 그래프\n",
    "optuna.visualization.plot_optimization_history(study) # 최적화 과정 시각화"
   ],
   "metadata": {
    "collapsed": false,
    "pycharm": {
     "is_executing": true
    }
   }
  },
  {
   "cell_type": "code",
   "execution_count": 38,
   "outputs": [],
   "source": [],
   "metadata": {
    "collapsed": false
   }
  }
 ],
 "metadata": {
  "kernelspec": {
   "display_name": "Python 3",
   "language": "python",
   "name": "python3"
  },
  "language_info": {
   "codemirror_mode": {
    "name": "ipython",
    "version": 2
   },
   "file_extension": ".py",
   "mimetype": "text/x-python",
   "name": "python",
   "nbconvert_exporter": "python",
   "pygments_lexer": "ipython2",
   "version": "2.7.6"
  }
 },
 "nbformat": 4,
 "nbformat_minor": 0
}
