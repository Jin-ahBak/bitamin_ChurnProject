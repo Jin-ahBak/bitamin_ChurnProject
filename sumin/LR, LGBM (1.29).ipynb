{
 "cells": [
  {
   "attachments": {},
   "cell_type": "markdown",
   "metadata": {},
   "source": [
    "### LGBM & Logistic regression"
   ]
  },
  {
   "cell_type": "code",
   "execution_count": 1,
   "metadata": {},
   "outputs": [],
   "source": [
    "# 패키지 불러오기\n",
    "import pandas as pd\n",
    "import numpy as np\n",
    "import time\n",
    "from sklearn.linear_model import LogisticRegression\n",
    "from sklearn.ensemble import RandomForestClassifier\n",
    "from sklearn.metrics import accuracy_score\n",
    "from sklearn.metrics import confusion_matrix\n",
    "from sklearn.metrics import classification_report\n",
    "from lightgbm import LGBMClassifier"
   ]
  },
  {
   "cell_type": "code",
   "execution_count": 48,
   "metadata": {},
   "outputs": [],
   "source": [
    "# 데이터 불러오기\n",
    "train_df = pd.read_csv(\"C:/Users/sumin/Bitamin/2학기/conference/bitamin_ChurnProject/data/preprocessed_data/train_data.csv\")\n",
    "valid_df = pd.read_csv(\"C:/Users/sumin/Bitamin/2학기/conference/bitamin_ChurnProject/data/preprocessed_data/valid_data.csv\")"
   ]
  },
  {
   "cell_type": "code",
   "execution_count": 51,
   "metadata": {},
   "outputs": [
    {
     "name": "stdout",
     "output_type": "stream",
     "text": [
      "x_train.shape:  (125290, 83)\n",
      "x_valid.shape:  (10000, 83)\n",
      "y_train.shape:  (125290,)\n",
      "y_valid.shape:  (10000,)\n"
     ]
    }
   ],
   "source": [
    "x_train = train_df.drop(columns = ['cust_no', 'label'])\n",
    "x_valid = valid_df.drop(columns = ['cust_no', 'label'])\n",
    "y_train = train_df['label']\n",
    "y_valid = valid_df['label']\n",
    "\n",
    "print(\"x_train.shape: \", x_train.shape)\n",
    "print(\"x_valid.shape: \", x_valid.shape)\n",
    "print(\"y_train.shape: \", y_train.shape)\n",
    "print(\"y_valid.shape: \", y_valid.shape)"
   ]
  },
  {
   "cell_type": "code",
   "execution_count": 9,
   "metadata": {},
   "outputs": [
    {
     "data": {
      "text/plain": [
       " 1.0    80014\n",
       " 0.0    26133\n",
       "-1.0    19143\n",
       "Name: label, dtype: int64"
      ]
     },
     "execution_count": 9,
     "metadata": {},
     "output_type": "execute_result"
    }
   ],
   "source": [
    "y_train.value_counts()"
   ]
  },
  {
   "attachments": {},
   "cell_type": "markdown",
   "metadata": {},
   "source": [
    "### 1. Logistic Regression"
   ]
  },
  {
   "cell_type": "code",
   "execution_count": 2,
   "metadata": {},
   "outputs": [
    {
     "ename": "NameError",
     "evalue": "name 'x_train' is not defined",
     "output_type": "error",
     "traceback": [
      "\u001b[1;31m---------------------------------------------------------------------------\u001b[0m",
      "\u001b[1;31mNameError\u001b[0m                                 Traceback (most recent call last)",
      "Cell \u001b[1;32mIn[2], line 2\u001b[0m\n\u001b[0;32m      1\u001b[0m \u001b[39m# data for train\u001b[39;00m\n\u001b[1;32m----> 2\u001b[0m tmp_train \u001b[39m=\u001b[39m x_train\u001b[39m.\u001b[39mdropna()\n\u001b[0;32m      3\u001b[0m tmp_train_x \u001b[39m=\u001b[39m tmp_train\u001b[39m.\u001b[39mdrop(\u001b[39m'\u001b[39m\u001b[39mI1\u001b[39m\u001b[39m'\u001b[39m, axis \u001b[39m=\u001b[39m \u001b[39m1\u001b[39m)\n\u001b[0;32m      4\u001b[0m tmp_train_y \u001b[39m=\u001b[39m tmp_train[\u001b[39m'\u001b[39m\u001b[39mI1\u001b[39m\u001b[39m'\u001b[39m]\n",
      "\u001b[1;31mNameError\u001b[0m: name 'x_train' is not defined"
     ]
    }
   ],
   "source": [
    "# data for train\n",
    "tmp_train = x_train.dropna()\n",
    "tmp_train_x = tmp_train.drop('I1', axis = 1)\n",
    "tmp_train_y = tmp_train['I1']\n",
    "\n",
    "tmp_valid = x_valid.dropna()\n",
    "tmp_valid_x = tmp_valid.drop('I1', axis = 1)\n",
    "tmp_valid_y = tmp_valid['I1']\n",
    "\n",
    "# model training\n",
    "# (train note)\n",
    "# logistic regression : no convergence\n",
    "# random forest(default) : train acc = 1.0 , valid acc = 0.65\n",
    "# random forest(n_estimators = 100, max_depth = 15) : train acc = 0.77, valid acc = 0.63\n",
    "# random forest(n_estimators = 500(default), max_depth = 15) : train acc = 0.77, valid acc = 0.64\n",
    "start_T = time.time()\n",
    "rf = RandomForestClassifier(max_depth = 15)\n",
    "rf.fit(tmp_train_x, tmp_train_y)\n",
    "end_T = time.time()\n",
    "\n",
    "print(\"model training time : \", end_T - start_T)\n",
    "\n",
    "# prediction and evaluation\n",
    "# train data\n",
    "tmp_train_pred_y = rf.predict(tmp_train_x)\n",
    "print('Accuracy: {:.2f}'.format(accuracy_score(tmp_train_y, tmp_train_pred_y)))\n",
    "print(confusion_matrix(tmp_train_y, tmp_train_pred_y))\n",
    "print(classification_report(tmp_train_y, tmp_train_pred_y))\n",
    "\n",
    "# valid data\n",
    "tmp_valid_pred_y = rf.predict(tmp_valid_x)\n",
    "print('Accuracy: {:.2f}'.format(accuracy_score(tmp_valid_y, tmp_valid_pred_y)))\n",
    "print(confusion_matrix(tmp_valid_y, tmp_valid_pred_y))\n",
    "print(classification_report(tmp_valid_y, tmp_valid_pred_y))"
   ]
  },
  {
   "cell_type": "code",
   "execution_count": 12,
   "metadata": {},
   "outputs": [],
   "source": [
    "# data having null data\n",
    "x_train.loc[x_train.I1.isna(), 'I1'] = rf.predict(x_train[x_train.I1.isna()].drop('I1', axis = 1))\n",
    "x_valid.loc[x_valid.I1.isna(), 'I1'] = rf.predict(x_valid[x_valid.I1.isna()].drop('I1', axis = 1))"
   ]
  },
  {
   "cell_type": "code",
   "execution_count": 14,
   "metadata": {},
   "outputs": [],
   "source": [
    "# tmp data save\n",
    "x_train.to_csv('C:/Users/sumin/Bitamin/2학기/conference/bitamin_ChurnProject/data/x_train.csv', index = None)\n",
    "x_valid.to_csv('C:/Users/sumin/Bitamin/2학기/conference/bitamin_ChurnProject/data/x_valid.csv', index = None)\n",
    "y_train.to_csv('C:/Users/sumin/Bitamin/2학기/conference/bitamin_ChurnProject/data/y_train.csv', index = None)\n",
    "y_valid.to_csv('C:/Users/sumin/Bitamin/2학기/conference/bitamin_ChurnProject/data/y_valid.csv', index = None)"
   ]
  },
  {
   "cell_type": "code",
   "execution_count": 45,
   "metadata": {},
   "outputs": [],
   "source": [
    "x_train = pd.read_csv('C:/Users/sumin/Bitamin/2학기/conference/bitamin_ChurnProject/data/x_train.csv')\n",
    "x_valid = pd.read_csv('C:/Users/sumin/Bitamin/2학기/conference/bitamin_ChurnProject/data/x_valid.csv')\n",
    "y_train = pd.read_csv('C:/Users/sumin/Bitamin/2학기/conference/bitamin_ChurnProject/data/y_train.csv')\n",
    "y_valid = pd.read_csv('C:/Users/sumin/Bitamin/2학기/conference/bitamin_ChurnProject/data/y_valid.csv')"
   ]
  },
  {
   "attachments": {},
   "cell_type": "markdown",
   "metadata": {},
   "source": [
    "#### modeling"
   ]
  },
  {
   "cell_type": "code",
   "execution_count": 46,
   "metadata": {},
   "outputs": [],
   "source": [
    "y_train = np.array(y_train).ravel()\n",
    "y_valid = np.array(y_valid).ravel()"
   ]
  },
  {
   "cell_type": "code",
   "execution_count": 47,
   "metadata": {},
   "outputs": [
    {
     "name": "stderr",
     "output_type": "stream",
     "text": [
      "c:\\ProgramData\\Anaconda3\\lib\\site-packages\\sklearn\\linear_model\\_logistic.py:814: ConvergenceWarning:\n",
      "\n",
      "lbfgs failed to converge (status=1):\n",
      "STOP: TOTAL NO. of ITERATIONS REACHED LIMIT.\n",
      "\n",
      "Increase the number of iterations (max_iter) or scale the data as shown in:\n",
      "    https://scikit-learn.org/stable/modules/preprocessing.html\n",
      "Please also refer to the documentation for alternative solver options:\n",
      "    https://scikit-learn.org/stable/modules/linear_model.html#logistic-regression\n",
      "\n"
     ]
    },
    {
     "name": "stdout",
     "output_type": "stream",
     "text": [
      "model training time:  24.298033714294434\n",
      "Accuracy: 0.64\n",
      "[[  242   156 18745]\n",
      " [   44   259 25830]\n",
      " [  119   397 79498]]\n",
      "              precision    recall  f1-score   support\n",
      "\n",
      "        -1.0       0.60      0.01      0.02     19143\n",
      "         0.0       0.32      0.01      0.02     26133\n",
      "         1.0       0.64      0.99      0.78     80014\n",
      "\n",
      "    accuracy                           0.64    125290\n",
      "   macro avg       0.52      0.34      0.27    125290\n",
      "weighted avg       0.57      0.64      0.51    125290\n",
      "\n",
      "Accuracy: 0.64\n",
      "[[  17    7 1527]\n",
      " [   1   17 1992]\n",
      " [   6   29 6404]]\n",
      "              precision    recall  f1-score   support\n",
      "\n",
      "        -1.0       0.71      0.01      0.02      1551\n",
      "         0.0       0.32      0.01      0.02      2010\n",
      "         1.0       0.65      0.99      0.78      6439\n",
      "\n",
      "    accuracy                           0.64     10000\n",
      "   macro avg       0.56      0.34      0.27     10000\n",
      "weighted avg       0.59      0.64      0.51     10000\n",
      "\n"
     ]
    }
   ],
   "source": [
    "start_T = time.time()\n",
    "lr = LogisticRegression(solver='lbfgs', multi_class='multinomial', C = 0.895, max_iter = 242) # 다항분류\n",
    "lr.fit(x_train, y_train)\n",
    "end_T = time.time()\n",
    "print(\"model training time: \", end_T - start_T)\n",
    "\n",
    "# prediction and evaluation\n",
    "# train data\n",
    "train_pred_y = lr.predict(x_train)\n",
    "print('Accuracy: {:.2f}'.format(accuracy_score(y_train, train_pred_y)))\n",
    "print(confusion_matrix(y_train, train_pred_y))\n",
    "print(classification_report(y_train, train_pred_y))\n",
    "\n",
    "# valid data\n",
    "valid_pred_y = lr.predict(x_valid)\n",
    "print('Accuracy: {:.2f}'.format(accuracy_score(y_valid, valid_pred_y)))\n",
    "print(confusion_matrix(y_valid, valid_pred_y))\n",
    "print(classification_report(y_valid, valid_pred_y))"
   ]
  },
  {
   "cell_type": "code",
   "execution_count": 7,
   "metadata": {},
   "outputs": [
    {
     "name": "stdout",
     "output_type": "stream",
     "text": [
      "Collecting optunaNote: you may need to restart the kernel to use updated packages.\n"
     ]
    },
    {
     "name": "stderr",
     "output_type": "stream",
     "text": [
      "WARNING: Ignoring invalid distribution -nsim (c:\\programdata\\anaconda3\\lib\\site-packages)\n",
      "WARNING: Ignoring invalid distribution -llib3 (c:\\programdata\\anaconda3\\lib\\site-packages)\n",
      "WARNING: Ignoring invalid distribution -rllib3 (c:\\programdata\\anaconda3\\lib\\site-packages)\n",
      "WARNING: Ignoring invalid distribution - (c:\\programdata\\anaconda3\\lib\\site-packages)\n",
      "WARNING: Ignoring invalid distribution -ensim (c:\\programdata\\anaconda3\\lib\\site-packages)\n",
      "WARNING: Ignoring invalid distribution -nsim (c:\\programdata\\anaconda3\\lib\\site-packages)\n",
      "WARNING: Ignoring invalid distribution -llib3 (c:\\programdata\\anaconda3\\lib\\site-packages)\n",
      "WARNING: Ignoring invalid distribution -rllib3 (c:\\programdata\\anaconda3\\lib\\site-packages)\n",
      "WARNING: Ignoring invalid distribution - (c:\\programdata\\anaconda3\\lib\\site-packages)\n",
      "WARNING: Ignoring invalid distribution -ensim (c:\\programdata\\anaconda3\\lib\\site-packages)\n",
      "WARNING: Ignoring invalid distribution -nsim (c:\\programdata\\anaconda3\\lib\\site-packages)\n",
      "WARNING: Ignoring invalid distribution -llib3 (c:\\programdata\\anaconda3\\lib\\site-packages)\n",
      "WARNING: Ignoring invalid distribution -rllib3 (c:\\programdata\\anaconda3\\lib\\site-packages)\n",
      "WARNING: Ignoring invalid distribution - (c:\\programdata\\anaconda3\\lib\\site-packages)\n",
      "WARNING: Ignoring invalid distribution -ensim (c:\\programdata\\anaconda3\\lib\\site-packages)\n",
      "WARNING: Ignoring invalid distribution -nsim (c:\\programdata\\anaconda3\\lib\\site-packages)\n",
      "WARNING: Ignoring invalid distribution -llib3 (c:\\programdata\\anaconda3\\lib\\site-packages)\n",
      "WARNING: Ignoring invalid distribution -rllib3 (c:\\programdata\\anaconda3\\lib\\site-packages)\n",
      "WARNING: Ignoring invalid distribution - (c:\\programdata\\anaconda3\\lib\\site-packages)\n",
      "WARNING: Ignoring invalid distribution -ensim (c:\\programdata\\anaconda3\\lib\\site-packages)\n",
      "WARNING: Ignoring invalid distribution -nsim (c:\\programdata\\anaconda3\\lib\\site-packages)\n",
      "WARNING: Ignoring invalid distribution -llib3 (c:\\programdata\\anaconda3\\lib\\site-packages)\n",
      "WARNING: Ignoring invalid distribution -rllib3 (c:\\programdata\\anaconda3\\lib\\site-packages)\n",
      "WARNING: Ignoring invalid distribution - (c:\\programdata\\anaconda3\\lib\\site-packages)\n",
      "WARNING: Ignoring invalid distribution -ensim (c:\\programdata\\anaconda3\\lib\\site-packages)\n",
      "WARNING: Ignoring invalid distribution -nsim (c:\\programdata\\anaconda3\\lib\\site-packages)\n",
      "WARNING: Ignoring invalid distribution -llib3 (c:\\programdata\\anaconda3\\lib\\site-packages)\n",
      "WARNING: Ignoring invalid distribution -rllib3 (c:\\programdata\\anaconda3\\lib\\site-packages)\n",
      "WARNING: Ignoring invalid distribution - (c:\\programdata\\anaconda3\\lib\\site-packages)\n",
      "WARNING: Ignoring invalid distribution -ensim (c:\\programdata\\anaconda3\\lib\\site-packages)\n",
      "WARNING: Ignoring invalid distribution -nsim (c:\\programdata\\anaconda3\\lib\\site-packages)\n",
      "WARNING: Ignoring invalid distribution -llib3 (c:\\programdata\\anaconda3\\lib\\site-packages)\n",
      "WARNING: Ignoring invalid distribution -rllib3 (c:\\programdata\\anaconda3\\lib\\site-packages)\n",
      "WARNING: Ignoring invalid distribution - (c:\\programdata\\anaconda3\\lib\\site-packages)\n",
      "WARNING: Ignoring invalid distribution -ensim (c:\\programdata\\anaconda3\\lib\\site-packages)\n",
      "WARNING: Ignoring invalid distribution -nsim (c:\\programdata\\anaconda3\\lib\\site-packages)\n",
      "WARNING: Ignoring invalid distribution -llib3 (c:\\programdata\\anaconda3\\lib\\site-packages)\n",
      "WARNING: Ignoring invalid distribution -rllib3 (c:\\programdata\\anaconda3\\lib\\site-packages)\n",
      "WARNING: Ignoring invalid distribution - (c:\\programdata\\anaconda3\\lib\\site-packages)\n",
      "WARNING: Ignoring invalid distribution -ensim (c:\\programdata\\anaconda3\\lib\\site-packages)\n",
      "WARNING: Ignoring invalid distribution -nsim (c:\\programdata\\anaconda3\\lib\\site-packages)\n",
      "WARNING: Ignoring invalid distribution -llib3 (c:\\programdata\\anaconda3\\lib\\site-packages)\n",
      "WARNING: Ignoring invalid distribution -rllib3 (c:\\programdata\\anaconda3\\lib\\site-packages)\n",
      "WARNING: Ignoring invalid distribution - (c:\\programdata\\anaconda3\\lib\\site-packages)\n",
      "WARNING: Ignoring invalid distribution -ensim (c:\\programdata\\anaconda3\\lib\\site-packages)\n",
      "WARNING: Ignoring invalid distribution -nsim (c:\\programdata\\anaconda3\\lib\\site-packages)\n",
      "WARNING: Ignoring invalid distribution -llib3 (c:\\programdata\\anaconda3\\lib\\site-packages)\n",
      "WARNING: Ignoring invalid distribution -rllib3 (c:\\programdata\\anaconda3\\lib\\site-packages)\n",
      "WARNING: Ignoring invalid distribution - (c:\\programdata\\anaconda3\\lib\\site-packages)\n",
      "WARNING: Ignoring invalid distribution -ensim (c:\\programdata\\anaconda3\\lib\\site-packages)\n",
      "WARNING: Ignoring invalid distribution -nsim (c:\\programdata\\anaconda3\\lib\\site-packages)\n",
      "WARNING: Ignoring invalid distribution -llib3 (c:\\programdata\\anaconda3\\lib\\site-packages)\n",
      "WARNING: Ignoring invalid distribution -rllib3 (c:\\programdata\\anaconda3\\lib\\site-packages)\n",
      "WARNING: Ignoring invalid distribution - (c:\\programdata\\anaconda3\\lib\\site-packages)\n",
      "WARNING: Ignoring invalid distribution -ensim (c:\\programdata\\anaconda3\\lib\\site-packages)\n"
     ]
    },
    {
     "name": "stdout",
     "output_type": "stream",
     "text": [
      "\n",
      "  Downloading optuna-3.1.0-py3-none-any.whl (365 kB)\n",
      "     ------------------------------------ 365.3/365.3 kB 541.2 kB/s eta 0:00:00\n",
      "Requirement already satisfied: PyYAML in c:\\programdata\\anaconda3\\lib\\site-packages (from optuna) (6.0)\n",
      "Requirement already satisfied: tqdm in c:\\programdata\\anaconda3\\lib\\site-packages (from optuna) (4.64.1)\n",
      "Collecting cmaes>=0.9.1\n",
      "  Downloading cmaes-0.9.1-py3-none-any.whl (21 kB)\n",
      "Requirement already satisfied: numpy in c:\\users\\sumin\\appdata\\roaming\\python\\python39\\site-packages (from optuna) (1.22.4)\n",
      "Requirement already satisfied: packaging>=20.0 in c:\\users\\sumin\\appdata\\roaming\\python\\python39\\site-packages (from optuna) (21.3)\n",
      "Collecting alembic>=1.5.0\n",
      "  Downloading alembic-1.9.2-py3-none-any.whl (210 kB)\n",
      "     -------------------------------------- 210.6/210.6 kB 1.6 MB/s eta 0:00:00\n",
      "Requirement already satisfied: sqlalchemy>=1.3.0 in c:\\programdata\\anaconda3\\lib\\site-packages (from optuna) (1.4.39)\n",
      "Collecting colorlog\n",
      "  Downloading colorlog-6.7.0-py2.py3-none-any.whl (11 kB)\n",
      "Collecting Mako\n",
      "  Downloading Mako-1.2.4-py3-none-any.whl (78 kB)\n",
      "     -------------------------------------- 78.7/78.7 kB 728.0 kB/s eta 0:00:00\n",
      "Requirement already satisfied: pyparsing!=3.0.5,>=2.0.2 in c:\\programdata\\anaconda3\\lib\\site-packages (from packaging>=20.0->optuna) (3.0.9)\n",
      "Requirement already satisfied: greenlet!=0.4.17 in c:\\programdata\\anaconda3\\lib\\site-packages (from sqlalchemy>=1.3.0->optuna) (2.0.1)\n",
      "Requirement already satisfied: colorama in c:\\programdata\\anaconda3\\lib\\site-packages (from colorlog->optuna) (0.4.6)\n",
      "Requirement already satisfied: MarkupSafe>=0.9.2 in c:\\programdata\\anaconda3\\lib\\site-packages (from Mako->alembic>=1.5.0->optuna) (2.0.1)\n",
      "Installing collected packages: Mako, colorlog, cmaes, alembic, optuna\n",
      "Successfully installed Mako-1.2.4 alembic-1.9.2 cmaes-0.9.1 colorlog-6.7.0 optuna-3.1.0\n"
     ]
    }
   ],
   "source": [
    "pip install optuna"
   ]
  },
  {
   "cell_type": "code",
   "execution_count": 33,
   "metadata": {},
   "outputs": [],
   "source": [
    "import optuna\n",
    "from optuna import Trial, visualization\n",
    "from optuna.samplers import TPESampler\n",
    "\n",
    "from sklearn.metrics import f1_score"
   ]
  },
  {
   "cell_type": "code",
   "execution_count": 41,
   "metadata": {},
   "outputs": [],
   "source": [
    "def objectiveLR(trial: Trial, x_train, y_trian, x_test, y_test):\n",
    "    param = {\n",
    "        'C' : round(trial.suggest_float('C', 0.01, 1) , 3),\n",
    "        'max_iter':trial.suggest_int('max_iter', 100, 500),\n",
    "        'solver' : 'lbfgs',\n",
    "        'multi_class' : 'multinomial',\n",
    "        'random_state': 42\n",
    "    }\n",
    "\n",
    "    model = LogisticRegression(**param)\n",
    "    lr_model = model.fit(x_train, y_train)\n",
    "    score = f1_score(lr_model.predict(x_test), y_test, average = 'micro')\n",
    "\n",
    "    return score"
   ]
  },
  {
   "cell_type": "code",
   "execution_count": 42,
   "metadata": {},
   "outputs": [
    {
     "name": "stderr",
     "output_type": "stream",
     "text": [
      "\u001b[32m[I 2023-01-29 18:04:36,917]\u001b[0m A new study created in memory with name: no-name-27f02f1b-d4e1-4f6a-9797-891a5b9d1db5\u001b[0m\n",
      "c:\\ProgramData\\Anaconda3\\lib\\site-packages\\sklearn\\linear_model\\_logistic.py:814: ConvergenceWarning: lbfgs failed to converge (status=1):\n",
      "STOP: TOTAL NO. of ITERATIONS REACHED LIMIT.\n",
      "\n",
      "Increase the number of iterations (max_iter) or scale the data as shown in:\n",
      "    https://scikit-learn.org/stable/modules/preprocessing.html\n",
      "Please also refer to the documentation for alternative solver options:\n",
      "    https://scikit-learn.org/stable/modules/linear_model.html#logistic-regression\n",
      "  n_iter_i = _check_optimize_result(\n",
      "\u001b[32m[I 2023-01-29 18:04:58,080]\u001b[0m Trial 0 finished with value: 0.6438 and parameters: {'C': 0.8949785766893603, 'max_iter': 242}. Best is trial 0 with value: 0.6438.\u001b[0m\n",
      "c:\\ProgramData\\Anaconda3\\lib\\site-packages\\sklearn\\linear_model\\_logistic.py:814: ConvergenceWarning: lbfgs failed to converge (status=1):\n",
      "STOP: TOTAL NO. of ITERATIONS REACHED LIMIT.\n",
      "\n",
      "Increase the number of iterations (max_iter) or scale the data as shown in:\n",
      "    https://scikit-learn.org/stable/modules/preprocessing.html\n",
      "Please also refer to the documentation for alternative solver options:\n",
      "    https://scikit-learn.org/stable/modules/linear_model.html#logistic-regression\n",
      "  n_iter_i = _check_optimize_result(\n",
      "\u001b[32m[I 2023-01-29 18:05:11,292]\u001b[0m Trial 1 finished with value: 0.6434 and parameters: {'C': 0.15893104376106743, 'max_iter': 145}. Best is trial 0 with value: 0.6438.\u001b[0m\n",
      "c:\\ProgramData\\Anaconda3\\lib\\site-packages\\sklearn\\linear_model\\_logistic.py:814: ConvergenceWarning: lbfgs failed to converge (status=1):\n",
      "STOP: TOTAL NO. of ITERATIONS REACHED LIMIT.\n",
      "\n",
      "Increase the number of iterations (max_iter) or scale the data as shown in:\n",
      "    https://scikit-learn.org/stable/modules/preprocessing.html\n",
      "Please also refer to the documentation for alternative solver options:\n",
      "    https://scikit-learn.org/stable/modules/linear_model.html#logistic-regression\n",
      "  n_iter_i = _check_optimize_result(\n",
      "\u001b[32m[I 2023-01-29 18:05:43,466]\u001b[0m Trial 2 finished with value: 0.6436 and parameters: {'C': 0.4886461674254787, 'max_iter': 344}. Best is trial 0 with value: 0.6438.\u001b[0m\n",
      "c:\\ProgramData\\Anaconda3\\lib\\site-packages\\sklearn\\linear_model\\_logistic.py:814: ConvergenceWarning: lbfgs failed to converge (status=1):\n",
      "STOP: TOTAL NO. of ITERATIONS REACHED LIMIT.\n",
      "\n",
      "Increase the number of iterations (max_iter) or scale the data as shown in:\n",
      "    https://scikit-learn.org/stable/modules/preprocessing.html\n",
      "Please also refer to the documentation for alternative solver options:\n",
      "    https://scikit-learn.org/stable/modules/linear_model.html#logistic-regression\n",
      "  n_iter_i = _check_optimize_result(\n",
      "\u001b[32m[I 2023-01-29 18:06:00,497]\u001b[0m Trial 3 finished with value: 0.6437 and parameters: {'C': 0.855036619274465, 'max_iter': 165}. Best is trial 0 with value: 0.6438.\u001b[0m\n",
      "c:\\ProgramData\\Anaconda3\\lib\\site-packages\\sklearn\\linear_model\\_logistic.py:814: ConvergenceWarning: lbfgs failed to converge (status=1):\n",
      "STOP: TOTAL NO. of ITERATIONS REACHED LIMIT.\n",
      "\n",
      "Increase the number of iterations (max_iter) or scale the data as shown in:\n",
      "    https://scikit-learn.org/stable/modules/preprocessing.html\n",
      "Please also refer to the documentation for alternative solver options:\n",
      "    https://scikit-learn.org/stable/modules/linear_model.html#logistic-regression\n",
      "  n_iter_i = _check_optimize_result(\n",
      "\u001b[32m[I 2023-01-29 18:06:37,131]\u001b[0m Trial 4 finished with value: 0.6438 and parameters: {'C': 0.8784588809439859, 'max_iter': 431}. Best is trial 0 with value: 0.6438.\u001b[0m\n",
      "c:\\ProgramData\\Anaconda3\\lib\\site-packages\\sklearn\\linear_model\\_logistic.py:814: ConvergenceWarning: lbfgs failed to converge (status=1):\n",
      "STOP: TOTAL NO. of ITERATIONS REACHED LIMIT.\n",
      "\n",
      "Increase the number of iterations (max_iter) or scale the data as shown in:\n",
      "    https://scikit-learn.org/stable/modules/preprocessing.html\n",
      "Please also refer to the documentation for alternative solver options:\n",
      "    https://scikit-learn.org/stable/modules/linear_model.html#logistic-regression\n",
      "  n_iter_i = _check_optimize_result(\n",
      "\u001b[32m[I 2023-01-29 18:07:05,514]\u001b[0m Trial 5 finished with value: 0.6437 and parameters: {'C': 0.6439540203201893, 'max_iter': 299}. Best is trial 0 with value: 0.6438.\u001b[0m\n",
      "c:\\ProgramData\\Anaconda3\\lib\\site-packages\\sklearn\\linear_model\\_logistic.py:814: ConvergenceWarning: lbfgs failed to converge (status=1):\n",
      "STOP: TOTAL NO. of ITERATIONS REACHED LIMIT.\n",
      "\n",
      "Increase the number of iterations (max_iter) or scale the data as shown in:\n",
      "    https://scikit-learn.org/stable/modules/preprocessing.html\n",
      "Please also refer to the documentation for alternative solver options:\n",
      "    https://scikit-learn.org/stable/modules/linear_model.html#logistic-regression\n",
      "  n_iter_i = _check_optimize_result(\n",
      "\u001b[32m[I 2023-01-29 18:07:18,333]\u001b[0m Trial 6 finished with value: 0.6433 and parameters: {'C': 0.02496457508968941, 'max_iter': 111}. Best is trial 0 with value: 0.6438.\u001b[0m\n",
      "c:\\ProgramData\\Anaconda3\\lib\\site-packages\\sklearn\\linear_model\\_logistic.py:814: ConvergenceWarning: lbfgs failed to converge (status=1):\n",
      "STOP: TOTAL NO. of ITERATIONS REACHED LIMIT.\n",
      "\n",
      "Increase the number of iterations (max_iter) or scale the data as shown in:\n",
      "    https://scikit-learn.org/stable/modules/preprocessing.html\n",
      "Please also refer to the documentation for alternative solver options:\n",
      "    https://scikit-learn.org/stable/modules/linear_model.html#logistic-regression\n",
      "  n_iter_i = _check_optimize_result(\n",
      "\u001b[32m[I 2023-01-29 18:07:33,616]\u001b[0m Trial 7 finished with value: 0.6436 and parameters: {'C': 0.24539297873100877, 'max_iter': 156}. Best is trial 0 with value: 0.6438.\u001b[0m\n",
      "c:\\ProgramData\\Anaconda3\\lib\\site-packages\\sklearn\\linear_model\\_logistic.py:814: ConvergenceWarning: lbfgs failed to converge (status=1):\n",
      "STOP: TOTAL NO. of ITERATIONS REACHED LIMIT.\n",
      "\n",
      "Increase the number of iterations (max_iter) or scale the data as shown in:\n",
      "    https://scikit-learn.org/stable/modules/preprocessing.html\n",
      "Please also refer to the documentation for alternative solver options:\n",
      "    https://scikit-learn.org/stable/modules/linear_model.html#logistic-regression\n",
      "  n_iter_i = _check_optimize_result(\n",
      "\u001b[32m[I 2023-01-29 18:08:01,704]\u001b[0m Trial 8 finished with value: 0.6436 and parameters: {'C': 0.8092440767106555, 'max_iter': 214}. Best is trial 0 with value: 0.6438.\u001b[0m\n",
      "c:\\ProgramData\\Anaconda3\\lib\\site-packages\\sklearn\\linear_model\\_logistic.py:814: ConvergenceWarning: lbfgs failed to converge (status=1):\n",
      "STOP: TOTAL NO. of ITERATIONS REACHED LIMIT.\n",
      "\n",
      "Increase the number of iterations (max_iter) or scale the data as shown in:\n",
      "    https://scikit-learn.org/stable/modules/preprocessing.html\n",
      "Please also refer to the documentation for alternative solver options:\n",
      "    https://scikit-learn.org/stable/modules/linear_model.html#logistic-regression\n",
      "  n_iter_i = _check_optimize_result(\n",
      "\u001b[32m[I 2023-01-29 18:08:17,216]\u001b[0m Trial 9 finished with value: 0.6434 and parameters: {'C': 0.8450332511809493, 'max_iter': 166}. Best is trial 0 with value: 0.6438.\u001b[0m\n"
     ]
    },
    {
     "name": "stdout",
     "output_type": "stream",
     "text": [
      "Best trial: score 0.6438,\n",
      "params {'C': 0.8949785766893603, 'max_iter': 242}\n"
     ]
    }
   ],
   "source": [
    "study = optuna.create_study(direction='maximize',sampler=TPESampler())\n",
    "study.optimize(lambda trial : objectiveLR(trial, x_train,  y_train, x_valid, y_valid), n_trials=10)\n",
    "print('Best trial: score {},\\nparams {}'.format(study.best_trial.value,study.best_trial.params))\n",
    "\n",
    "### Best trial: score 0.6438,\n",
    "### params {'C': 0.8949785766893603, 'max_iter': 242}"
   ]
  },
  {
   "cell_type": "code",
   "execution_count": 43,
   "metadata": {},
   "outputs": [
    {
     "data": {
      "application/vnd.plotly.v1+json": {
       "config": {
        "plotlyServerURL": "https://plot.ly"
       },
       "data": [
        {
         "mode": "markers",
         "name": "Objective Value",
         "type": "scatter",
         "x": [
          0,
          1,
          2,
          3,
          4,
          5,
          6,
          7,
          8,
          9
         ],
         "y": [
          0.6438,
          0.6434,
          0.6436,
          0.6437,
          0.6438,
          0.6437,
          0.6433,
          0.6436,
          0.6436,
          0.6434
         ]
        },
        {
         "name": "Best Value",
         "type": "scatter",
         "x": [
          0,
          1,
          2,
          3,
          4,
          5,
          6,
          7,
          8,
          9
         ],
         "y": [
          0.6438,
          0.6438,
          0.6438,
          0.6438,
          0.6438,
          0.6438,
          0.6438,
          0.6438,
          0.6438,
          0.6438
         ]
        }
       ],
       "layout": {
        "template": {
         "data": {
          "bar": [
           {
            "error_x": {
             "color": "#2a3f5f"
            },
            "error_y": {
             "color": "#2a3f5f"
            },
            "marker": {
             "line": {
              "color": "#E5ECF6",
              "width": 0.5
             },
             "pattern": {
              "fillmode": "overlay",
              "size": 10,
              "solidity": 0.2
             }
            },
            "type": "bar"
           }
          ],
          "barpolar": [
           {
            "marker": {
             "line": {
              "color": "#E5ECF6",
              "width": 0.5
             },
             "pattern": {
              "fillmode": "overlay",
              "size": 10,
              "solidity": 0.2
             }
            },
            "type": "barpolar"
           }
          ],
          "carpet": [
           {
            "aaxis": {
             "endlinecolor": "#2a3f5f",
             "gridcolor": "white",
             "linecolor": "white",
             "minorgridcolor": "white",
             "startlinecolor": "#2a3f5f"
            },
            "baxis": {
             "endlinecolor": "#2a3f5f",
             "gridcolor": "white",
             "linecolor": "white",
             "minorgridcolor": "white",
             "startlinecolor": "#2a3f5f"
            },
            "type": "carpet"
           }
          ],
          "choropleth": [
           {
            "colorbar": {
             "outlinewidth": 0,
             "ticks": ""
            },
            "type": "choropleth"
           }
          ],
          "contour": [
           {
            "colorbar": {
             "outlinewidth": 0,
             "ticks": ""
            },
            "colorscale": [
             [
              0,
              "#0d0887"
             ],
             [
              0.1111111111111111,
              "#46039f"
             ],
             [
              0.2222222222222222,
              "#7201a8"
             ],
             [
              0.3333333333333333,
              "#9c179e"
             ],
             [
              0.4444444444444444,
              "#bd3786"
             ],
             [
              0.5555555555555556,
              "#d8576b"
             ],
             [
              0.6666666666666666,
              "#ed7953"
             ],
             [
              0.7777777777777778,
              "#fb9f3a"
             ],
             [
              0.8888888888888888,
              "#fdca26"
             ],
             [
              1,
              "#f0f921"
             ]
            ],
            "type": "contour"
           }
          ],
          "contourcarpet": [
           {
            "colorbar": {
             "outlinewidth": 0,
             "ticks": ""
            },
            "type": "contourcarpet"
           }
          ],
          "heatmap": [
           {
            "colorbar": {
             "outlinewidth": 0,
             "ticks": ""
            },
            "colorscale": [
             [
              0,
              "#0d0887"
             ],
             [
              0.1111111111111111,
              "#46039f"
             ],
             [
              0.2222222222222222,
              "#7201a8"
             ],
             [
              0.3333333333333333,
              "#9c179e"
             ],
             [
              0.4444444444444444,
              "#bd3786"
             ],
             [
              0.5555555555555556,
              "#d8576b"
             ],
             [
              0.6666666666666666,
              "#ed7953"
             ],
             [
              0.7777777777777778,
              "#fb9f3a"
             ],
             [
              0.8888888888888888,
              "#fdca26"
             ],
             [
              1,
              "#f0f921"
             ]
            ],
            "type": "heatmap"
           }
          ],
          "heatmapgl": [
           {
            "colorbar": {
             "outlinewidth": 0,
             "ticks": ""
            },
            "colorscale": [
             [
              0,
              "#0d0887"
             ],
             [
              0.1111111111111111,
              "#46039f"
             ],
             [
              0.2222222222222222,
              "#7201a8"
             ],
             [
              0.3333333333333333,
              "#9c179e"
             ],
             [
              0.4444444444444444,
              "#bd3786"
             ],
             [
              0.5555555555555556,
              "#d8576b"
             ],
             [
              0.6666666666666666,
              "#ed7953"
             ],
             [
              0.7777777777777778,
              "#fb9f3a"
             ],
             [
              0.8888888888888888,
              "#fdca26"
             ],
             [
              1,
              "#f0f921"
             ]
            ],
            "type": "heatmapgl"
           }
          ],
          "histogram": [
           {
            "marker": {
             "pattern": {
              "fillmode": "overlay",
              "size": 10,
              "solidity": 0.2
             }
            },
            "type": "histogram"
           }
          ],
          "histogram2d": [
           {
            "colorbar": {
             "outlinewidth": 0,
             "ticks": ""
            },
            "colorscale": [
             [
              0,
              "#0d0887"
             ],
             [
              0.1111111111111111,
              "#46039f"
             ],
             [
              0.2222222222222222,
              "#7201a8"
             ],
             [
              0.3333333333333333,
              "#9c179e"
             ],
             [
              0.4444444444444444,
              "#bd3786"
             ],
             [
              0.5555555555555556,
              "#d8576b"
             ],
             [
              0.6666666666666666,
              "#ed7953"
             ],
             [
              0.7777777777777778,
              "#fb9f3a"
             ],
             [
              0.8888888888888888,
              "#fdca26"
             ],
             [
              1,
              "#f0f921"
             ]
            ],
            "type": "histogram2d"
           }
          ],
          "histogram2dcontour": [
           {
            "colorbar": {
             "outlinewidth": 0,
             "ticks": ""
            },
            "colorscale": [
             [
              0,
              "#0d0887"
             ],
             [
              0.1111111111111111,
              "#46039f"
             ],
             [
              0.2222222222222222,
              "#7201a8"
             ],
             [
              0.3333333333333333,
              "#9c179e"
             ],
             [
              0.4444444444444444,
              "#bd3786"
             ],
             [
              0.5555555555555556,
              "#d8576b"
             ],
             [
              0.6666666666666666,
              "#ed7953"
             ],
             [
              0.7777777777777778,
              "#fb9f3a"
             ],
             [
              0.8888888888888888,
              "#fdca26"
             ],
             [
              1,
              "#f0f921"
             ]
            ],
            "type": "histogram2dcontour"
           }
          ],
          "mesh3d": [
           {
            "colorbar": {
             "outlinewidth": 0,
             "ticks": ""
            },
            "type": "mesh3d"
           }
          ],
          "parcoords": [
           {
            "line": {
             "colorbar": {
              "outlinewidth": 0,
              "ticks": ""
             }
            },
            "type": "parcoords"
           }
          ],
          "pie": [
           {
            "automargin": true,
            "type": "pie"
           }
          ],
          "scatter": [
           {
            "fillpattern": {
             "fillmode": "overlay",
             "size": 10,
             "solidity": 0.2
            },
            "type": "scatter"
           }
          ],
          "scatter3d": [
           {
            "line": {
             "colorbar": {
              "outlinewidth": 0,
              "ticks": ""
             }
            },
            "marker": {
             "colorbar": {
              "outlinewidth": 0,
              "ticks": ""
             }
            },
            "type": "scatter3d"
           }
          ],
          "scattercarpet": [
           {
            "marker": {
             "colorbar": {
              "outlinewidth": 0,
              "ticks": ""
             }
            },
            "type": "scattercarpet"
           }
          ],
          "scattergeo": [
           {
            "marker": {
             "colorbar": {
              "outlinewidth": 0,
              "ticks": ""
             }
            },
            "type": "scattergeo"
           }
          ],
          "scattergl": [
           {
            "marker": {
             "colorbar": {
              "outlinewidth": 0,
              "ticks": ""
             }
            },
            "type": "scattergl"
           }
          ],
          "scattermapbox": [
           {
            "marker": {
             "colorbar": {
              "outlinewidth": 0,
              "ticks": ""
             }
            },
            "type": "scattermapbox"
           }
          ],
          "scatterpolar": [
           {
            "marker": {
             "colorbar": {
              "outlinewidth": 0,
              "ticks": ""
             }
            },
            "type": "scatterpolar"
           }
          ],
          "scatterpolargl": [
           {
            "marker": {
             "colorbar": {
              "outlinewidth": 0,
              "ticks": ""
             }
            },
            "type": "scatterpolargl"
           }
          ],
          "scatterternary": [
           {
            "marker": {
             "colorbar": {
              "outlinewidth": 0,
              "ticks": ""
             }
            },
            "type": "scatterternary"
           }
          ],
          "surface": [
           {
            "colorbar": {
             "outlinewidth": 0,
             "ticks": ""
            },
            "colorscale": [
             [
              0,
              "#0d0887"
             ],
             [
              0.1111111111111111,
              "#46039f"
             ],
             [
              0.2222222222222222,
              "#7201a8"
             ],
             [
              0.3333333333333333,
              "#9c179e"
             ],
             [
              0.4444444444444444,
              "#bd3786"
             ],
             [
              0.5555555555555556,
              "#d8576b"
             ],
             [
              0.6666666666666666,
              "#ed7953"
             ],
             [
              0.7777777777777778,
              "#fb9f3a"
             ],
             [
              0.8888888888888888,
              "#fdca26"
             ],
             [
              1,
              "#f0f921"
             ]
            ],
            "type": "surface"
           }
          ],
          "table": [
           {
            "cells": {
             "fill": {
              "color": "#EBF0F8"
             },
             "line": {
              "color": "white"
             }
            },
            "header": {
             "fill": {
              "color": "#C8D4E3"
             },
             "line": {
              "color": "white"
             }
            },
            "type": "table"
           }
          ]
         },
         "layout": {
          "annotationdefaults": {
           "arrowcolor": "#2a3f5f",
           "arrowhead": 0,
           "arrowwidth": 1
          },
          "autotypenumbers": "strict",
          "coloraxis": {
           "colorbar": {
            "outlinewidth": 0,
            "ticks": ""
           }
          },
          "colorscale": {
           "diverging": [
            [
             0,
             "#8e0152"
            ],
            [
             0.1,
             "#c51b7d"
            ],
            [
             0.2,
             "#de77ae"
            ],
            [
             0.3,
             "#f1b6da"
            ],
            [
             0.4,
             "#fde0ef"
            ],
            [
             0.5,
             "#f7f7f7"
            ],
            [
             0.6,
             "#e6f5d0"
            ],
            [
             0.7,
             "#b8e186"
            ],
            [
             0.8,
             "#7fbc41"
            ],
            [
             0.9,
             "#4d9221"
            ],
            [
             1,
             "#276419"
            ]
           ],
           "sequential": [
            [
             0,
             "#0d0887"
            ],
            [
             0.1111111111111111,
             "#46039f"
            ],
            [
             0.2222222222222222,
             "#7201a8"
            ],
            [
             0.3333333333333333,
             "#9c179e"
            ],
            [
             0.4444444444444444,
             "#bd3786"
            ],
            [
             0.5555555555555556,
             "#d8576b"
            ],
            [
             0.6666666666666666,
             "#ed7953"
            ],
            [
             0.7777777777777778,
             "#fb9f3a"
            ],
            [
             0.8888888888888888,
             "#fdca26"
            ],
            [
             1,
             "#f0f921"
            ]
           ],
           "sequentialminus": [
            [
             0,
             "#0d0887"
            ],
            [
             0.1111111111111111,
             "#46039f"
            ],
            [
             0.2222222222222222,
             "#7201a8"
            ],
            [
             0.3333333333333333,
             "#9c179e"
            ],
            [
             0.4444444444444444,
             "#bd3786"
            ],
            [
             0.5555555555555556,
             "#d8576b"
            ],
            [
             0.6666666666666666,
             "#ed7953"
            ],
            [
             0.7777777777777778,
             "#fb9f3a"
            ],
            [
             0.8888888888888888,
             "#fdca26"
            ],
            [
             1,
             "#f0f921"
            ]
           ]
          },
          "colorway": [
           "#636efa",
           "#EF553B",
           "#00cc96",
           "#ab63fa",
           "#FFA15A",
           "#19d3f3",
           "#FF6692",
           "#B6E880",
           "#FF97FF",
           "#FECB52"
          ],
          "font": {
           "color": "#2a3f5f"
          },
          "geo": {
           "bgcolor": "white",
           "lakecolor": "white",
           "landcolor": "#E5ECF6",
           "showlakes": true,
           "showland": true,
           "subunitcolor": "white"
          },
          "hoverlabel": {
           "align": "left"
          },
          "hovermode": "closest",
          "mapbox": {
           "style": "light"
          },
          "paper_bgcolor": "white",
          "plot_bgcolor": "#E5ECF6",
          "polar": {
           "angularaxis": {
            "gridcolor": "white",
            "linecolor": "white",
            "ticks": ""
           },
           "bgcolor": "#E5ECF6",
           "radialaxis": {
            "gridcolor": "white",
            "linecolor": "white",
            "ticks": ""
           }
          },
          "scene": {
           "xaxis": {
            "backgroundcolor": "#E5ECF6",
            "gridcolor": "white",
            "gridwidth": 2,
            "linecolor": "white",
            "showbackground": true,
            "ticks": "",
            "zerolinecolor": "white"
           },
           "yaxis": {
            "backgroundcolor": "#E5ECF6",
            "gridcolor": "white",
            "gridwidth": 2,
            "linecolor": "white",
            "showbackground": true,
            "ticks": "",
            "zerolinecolor": "white"
           },
           "zaxis": {
            "backgroundcolor": "#E5ECF6",
            "gridcolor": "white",
            "gridwidth": 2,
            "linecolor": "white",
            "showbackground": true,
            "ticks": "",
            "zerolinecolor": "white"
           }
          },
          "shapedefaults": {
           "line": {
            "color": "#2a3f5f"
           }
          },
          "ternary": {
           "aaxis": {
            "gridcolor": "white",
            "linecolor": "white",
            "ticks": ""
           },
           "baxis": {
            "gridcolor": "white",
            "linecolor": "white",
            "ticks": ""
           },
           "bgcolor": "#E5ECF6",
           "caxis": {
            "gridcolor": "white",
            "linecolor": "white",
            "ticks": ""
           }
          },
          "title": {
           "x": 0.05
          },
          "xaxis": {
           "automargin": true,
           "gridcolor": "white",
           "linecolor": "white",
           "ticks": "",
           "title": {
            "standoff": 15
           },
           "zerolinecolor": "white",
           "zerolinewidth": 2
          },
          "yaxis": {
           "automargin": true,
           "gridcolor": "white",
           "linecolor": "white",
           "ticks": "",
           "title": {
            "standoff": 15
           },
           "zerolinecolor": "white",
           "zerolinewidth": 2
          }
         }
        },
        "title": {
         "text": "Optimization History Plot"
        },
        "xaxis": {
         "title": {
          "text": "Trial"
         }
        },
        "yaxis": {
         "title": {
          "text": "Objective Value"
         }
        }
       }
      }
     },
     "metadata": {},
     "output_type": "display_data"
    }
   ],
   "source": [
    "optuna.visualization.plot_param_importances(study) # 파라미터 중요도 확인 그래프\n",
    "optuna.visualization.plot_optimization_history(study) # 최적화 과정 시각화"
   ]
  },
  {
   "attachments": {},
   "cell_type": "markdown",
   "metadata": {},
   "source": [
    "### 2. LightGBM"
   ]
  },
  {
   "attachments": {},
   "cell_type": "markdown",
   "metadata": {},
   "source": [
    "* 하이퍼파라미터 튜닝방안  \n",
    "    learning_rate를 줄이면서 n_estimator 크게 하기  \n",
    "    num_leaves 개수 중심으로 min_data_in_leaf, max_depth를 함께 조절하며 모델의 복잡도 줄이기  \n",
    "    * num_leaves를 늘리면 정확도 높아지지만 트리가 깊어지고 과적합되기 쉽다.\n",
    "    * min_data_in_leaf를 크게 설정하면 트리가 깊어지는 것을 방지한다.\n",
    "    * max_depth는 명시적으로 깊이를 제한하며 과적합을 개선하는데 사용된다.  "
   ]
  },
  {
   "cell_type": "code",
   "execution_count": 54,
   "metadata": {},
   "outputs": [],
   "source": [
    "# use_missing = False => Training loss에 기반해 결측치를 채움\n",
    "lgb_clf = LGBMClassifier(\n",
    "    n_estimators = 922, # 100\n",
    "    min_data_in_leaf = 12, # 20\n",
    "    objective = 'multiclass',\n",
    "    learning_rate = 0.47727,\n",
    "    # max_depth = 1,\n",
    "    # num_leaves = 31, # 31\n",
    "    # boosting = \"gbdt\",\n",
    "    use_missing = False\n",
    ")"
   ]
  },
  {
   "cell_type": "code",
   "execution_count": 55,
   "metadata": {},
   "outputs": [
    {
     "name": "stdout",
     "output_type": "stream",
     "text": [
      "[LightGBM] [Warning] min_data_in_leaf is set=12, min_child_samples=20 will be ignored. Current value: min_data_in_leaf=12\n",
      "[10]\ttraining's multi_logloss: 0.644474\tvalid_1's multi_logloss: 0.659082\n",
      "[20]\ttraining's multi_logloss: 0.61972\tvalid_1's multi_logloss: 0.655396\n",
      "[30]\ttraining's multi_logloss: 0.599632\tvalid_1's multi_logloss: 0.65422\n",
      "[40]\ttraining's multi_logloss: 0.583756\tvalid_1's multi_logloss: 0.657826\n",
      "[50]\ttraining's multi_logloss: 0.569225\tvalid_1's multi_logloss: 0.658982\n",
      "[60]\ttraining's multi_logloss: 0.555717\tvalid_1's multi_logloss: 0.660402\n",
      "[70]\ttraining's multi_logloss: 0.543474\tvalid_1's multi_logloss: 0.660904\n",
      "[80]\ttraining's multi_logloss: 0.532195\tvalid_1's multi_logloss: 0.663552\n",
      "[90]\ttraining's multi_logloss: 0.519411\tvalid_1's multi_logloss: 0.664531\n",
      "[100]\ttraining's multi_logloss: 0.509097\tvalid_1's multi_logloss: 0.666741\n",
      "[110]\ttraining's multi_logloss: 0.498338\tvalid_1's multi_logloss: 0.668446\n",
      "[120]\ttraining's multi_logloss: 0.487119\tvalid_1's multi_logloss: 0.669323\n",
      "[130]\ttraining's multi_logloss: 0.476606\tvalid_1's multi_logloss: 0.67071\n",
      "[140]\ttraining's multi_logloss: 0.466929\tvalid_1's multi_logloss: 0.672587\n",
      "[150]\ttraining's multi_logloss: 0.458984\tvalid_1's multi_logloss: 0.677519\n",
      "[160]\ttraining's multi_logloss: 0.450148\tvalid_1's multi_logloss: 0.680499\n",
      "[170]\ttraining's multi_logloss: 0.441066\tvalid_1's multi_logloss: 0.682208\n",
      "[180]\ttraining's multi_logloss: 0.431805\tvalid_1's multi_logloss: 0.684803\n",
      "[190]\ttraining's multi_logloss: 0.425299\tvalid_1's multi_logloss: 0.691756\n",
      "[200]\ttraining's multi_logloss: 0.416438\tvalid_1's multi_logloss: 0.693253\n",
      "[210]\ttraining's multi_logloss: 0.408835\tvalid_1's multi_logloss: 0.694528\n",
      "[220]\ttraining's multi_logloss: 0.401174\tvalid_1's multi_logloss: 0.696213\n",
      "[230]\ttraining's multi_logloss: 0.394003\tvalid_1's multi_logloss: 0.698151\n",
      "[240]\ttraining's multi_logloss: 0.386131\tvalid_1's multi_logloss: 0.700531\n",
      "[250]\ttraining's multi_logloss: 0.380216\tvalid_1's multi_logloss: 0.702044\n",
      "[260]\ttraining's multi_logloss: 0.374315\tvalid_1's multi_logloss: 0.703174\n",
      "[270]\ttraining's multi_logloss: 0.367342\tvalid_1's multi_logloss: 0.703907\n",
      "[280]\ttraining's multi_logloss: 0.361723\tvalid_1's multi_logloss: 0.705532\n",
      "[290]\ttraining's multi_logloss: 0.355346\tvalid_1's multi_logloss: 0.706516\n",
      "[300]\ttraining's multi_logloss: 0.348298\tvalid_1's multi_logloss: 0.708413\n",
      "[310]\ttraining's multi_logloss: 0.341323\tvalid_1's multi_logloss: 0.711141\n",
      "[320]\ttraining's multi_logloss: 0.334505\tvalid_1's multi_logloss: 0.711952\n",
      "[330]\ttraining's multi_logloss: 0.32851\tvalid_1's multi_logloss: 0.714258\n",
      "[340]\ttraining's multi_logloss: 0.322511\tvalid_1's multi_logloss: 0.716016\n",
      "[350]\ttraining's multi_logloss: 0.316207\tvalid_1's multi_logloss: 0.717087\n",
      "[360]\ttraining's multi_logloss: 0.310816\tvalid_1's multi_logloss: 0.718159\n",
      "[370]\ttraining's multi_logloss: 0.305183\tvalid_1's multi_logloss: 0.720938\n",
      "[380]\ttraining's multi_logloss: 0.304135\tvalid_1's multi_logloss: 0.726039\n",
      "[390]\ttraining's multi_logloss: 0.295906\tvalid_1's multi_logloss: 0.722826\n",
      "[400]\ttraining's multi_logloss: 0.290541\tvalid_1's multi_logloss: 0.72428\n",
      "[410]\ttraining's multi_logloss: 0.287941\tvalid_1's multi_logloss: 0.733551\n",
      "[420]\ttraining's multi_logloss: 0.28329\tvalid_1's multi_logloss: 0.734148\n",
      "[430]\ttraining's multi_logloss: 0.277542\tvalid_1's multi_logloss: 0.735424\n",
      "[440]\ttraining's multi_logloss: 0.272249\tvalid_1's multi_logloss: 0.736649\n",
      "[450]\ttraining's multi_logloss: 0.265908\tvalid_1's multi_logloss: 0.735591\n",
      "[460]\ttraining's multi_logloss: 0.261036\tvalid_1's multi_logloss: 0.736593\n",
      "[470]\ttraining's multi_logloss: 0.256104\tvalid_1's multi_logloss: 0.73844\n",
      "[480]\ttraining's multi_logloss: 0.25218\tvalid_1's multi_logloss: 0.738908\n",
      "[490]\ttraining's multi_logloss: 0.248421\tvalid_1's multi_logloss: 0.740366\n",
      "[500]\ttraining's multi_logloss: 0.243742\tvalid_1's multi_logloss: 0.74124\n",
      "[510]\ttraining's multi_logloss: 0.239896\tvalid_1's multi_logloss: 0.742843\n",
      "[520]\ttraining's multi_logloss: 0.235588\tvalid_1's multi_logloss: 0.745455\n",
      "[530]\ttraining's multi_logloss: 0.231975\tvalid_1's multi_logloss: 0.746763\n",
      "[540]\ttraining's multi_logloss: 0.228134\tvalid_1's multi_logloss: 0.748624\n",
      "[550]\ttraining's multi_logloss: 0.224243\tvalid_1's multi_logloss: 0.750213\n",
      "[560]\ttraining's multi_logloss: 0.219865\tvalid_1's multi_logloss: 0.752377\n",
      "[570]\ttraining's multi_logloss: 0.215815\tvalid_1's multi_logloss: 0.754385\n",
      "[580]\ttraining's multi_logloss: 0.212376\tvalid_1's multi_logloss: 0.755414\n",
      "[590]\ttraining's multi_logloss: 0.208349\tvalid_1's multi_logloss: 0.757157\n",
      "[600]\ttraining's multi_logloss: 0.205422\tvalid_1's multi_logloss: 0.761487\n",
      "[610]\ttraining's multi_logloss: 0.202587\tvalid_1's multi_logloss: 0.77014\n",
      "[620]\ttraining's multi_logloss: 0.199018\tvalid_1's multi_logloss: 0.77683\n",
      "[630]\ttraining's multi_logloss: 0.199348\tvalid_1's multi_logloss: 0.786259\n",
      "[640]\ttraining's multi_logloss: 0.193432\tvalid_1's multi_logloss: 0.780632\n",
      "[650]\ttraining's multi_logloss: 0.191303\tvalid_1's multi_logloss: 0.782573\n",
      "[660]\ttraining's multi_logloss: 0.188332\tvalid_1's multi_logloss: 0.788202\n",
      "[670]\ttraining's multi_logloss: 0.199536\tvalid_1's multi_logloss: 0.817075\n",
      "[680]\ttraining's multi_logloss: 0.202935\tvalid_1's multi_logloss: 0.832588\n",
      "[690]\ttraining's multi_logloss: 0.216805\tvalid_1's multi_logloss: 0.870293\n",
      "[700]\ttraining's multi_logloss: 0.253948\tvalid_1's multi_logloss: 0.948032\n",
      "[710]\ttraining's multi_logloss: 0.34272\tvalid_1's multi_logloss: 0.981657\n",
      "[720]\ttraining's multi_logloss: 0.396337\tvalid_1's multi_logloss: 1.05233\n",
      "[730]\ttraining's multi_logloss: 0.513658\tvalid_1's multi_logloss: 1.15007\n",
      "[740]\ttraining's multi_logloss: 0.70917\tvalid_1's multi_logloss: 1.3731\n",
      "[750]\ttraining's multi_logloss: 0.595183\tvalid_1's multi_logloss: 1.23508\n",
      "[760]\ttraining's multi_logloss: 0.639003\tvalid_1's multi_logloss: 1.25954\n",
      "[770]\ttraining's multi_logloss: 0.726417\tvalid_1's multi_logloss: 1.37857\n",
      "[780]\ttraining's multi_logloss: 0.764867\tvalid_1's multi_logloss: 1.43867\n",
      "[790]\ttraining's multi_logloss: 0.803513\tvalid_1's multi_logloss: 1.48437\n",
      "[800]\ttraining's multi_logloss: 0.872076\tvalid_1's multi_logloss: 1.61876\n",
      "[810]\ttraining's multi_logloss: 0.915589\tvalid_1's multi_logloss: 1.70109\n",
      "[820]\ttraining's multi_logloss: 0.963786\tvalid_1's multi_logloss: 1.7137\n",
      "[830]\ttraining's multi_logloss: 0.992828\tvalid_1's multi_logloss: 1.7073\n",
      "[840]\ttraining's multi_logloss: 1.1018\tvalid_1's multi_logloss: 1.87672\n",
      "[850]\ttraining's multi_logloss: 1.11579\tvalid_1's multi_logloss: 1.80841\n",
      "[860]\ttraining's multi_logloss: 1.23051\tvalid_1's multi_logloss: 1.91195\n",
      "[870]\ttraining's multi_logloss: 1.27428\tvalid_1's multi_logloss: 1.93475\n",
      "[880]\ttraining's multi_logloss: 1.33079\tvalid_1's multi_logloss: 2.02759\n",
      "[890]\ttraining's multi_logloss: 1.38778\tvalid_1's multi_logloss: 2.03874\n",
      "[900]\ttraining's multi_logloss: 1.44911\tvalid_1's multi_logloss: 2.16127\n",
      "[910]\ttraining's multi_logloss: 1.40162\tvalid_1's multi_logloss: 2.10332\n",
      "[920]\ttraining's multi_logloss: 1.66359\tvalid_1's multi_logloss: 2.37524\n",
      "model training time:  57.04824423789978\n"
     ]
    }
   ],
   "source": [
    "# model train\n",
    "start_T = time.time()\n",
    "lgb_clf.fit(x_train, y_train, \n",
    "    eval_set=[(x_train, y_train), (x_valid, y_valid)],\n",
    "    verbose = 10)\n",
    "end_T = time.time()\n",
    "print(\"model training time: \", end_T - start_T)"
   ]
  },
  {
   "cell_type": "code",
   "execution_count": 69,
   "metadata": {},
   "outputs": [
    {
     "name": "stdout",
     "output_type": "stream",
     "text": [
      "Accuracy: 0.73\n",
      "[[10543  1932  6668]\n",
      " [ 2006  6305 17822]\n",
      " [ 2202  2576 75236]]\n",
      "              precision    recall  f1-score   support\n",
      "\n",
      "        -1.0       0.71      0.55      0.62     19143\n",
      "         0.0       0.58      0.24      0.34     26133\n",
      "         1.0       0.75      0.94      0.84     80014\n",
      "\n",
      "    accuracy                           0.73    125290\n",
      "   macro avg       0.68      0.58      0.60    125290\n",
      "weighted avg       0.71      0.73      0.70    125290\n",
      "\n",
      "Accuracy: 0.72\n",
      "[[ 828  160  563]\n",
      " [ 180  398 1432]\n",
      " [ 196  238 6005]]\n",
      "              precision    recall  f1-score   support\n",
      "\n",
      "        -1.0       0.69      0.53      0.60      1551\n",
      "         0.0       0.50      0.20      0.28      2010\n",
      "         1.0       0.75      0.93      0.83      6439\n",
      "\n",
      "    accuracy                           0.72     10000\n",
      "   macro avg       0.65      0.55      0.57     10000\n",
      "weighted avg       0.69      0.72      0.69     10000\n",
      "\n"
     ]
    }
   ],
   "source": [
    "# model evaluation\n",
    "# train data\n",
    "train_pred_y = lgb_clf.predict(x_train)\n",
    "print('Accuracy: {:.2f}'.format(accuracy_score(y_train, train_pred_y)))\n",
    "print(confusion_matrix(y_train, train_pred_y))\n",
    "print(classification_report(y_train, train_pred_y))\n",
    "\n",
    "# valid data\n",
    "valid_pred_y = lgb_clf.predict(x_valid)\n",
    "print('Accuracy: {:.2f}'.format(accuracy_score(y_valid, valid_pred_y)))\n",
    "print(confusion_matrix(y_valid, valid_pred_y))\n",
    "print(classification_report(y_valid, valid_pred_y))"
   ]
  },
  {
   "cell_type": "code",
   "execution_count": 70,
   "metadata": {},
   "outputs": [
    {
     "data": {
      "text/plain": [
       "<AxesSubplot: title={'center': 'Feature importance'}, xlabel='Feature importance', ylabel='Features'>"
      ]
     },
     "execution_count": 70,
     "metadata": {},
     "output_type": "execute_result"
    },
    {
     "data": {
      "image/png": "[encoded data removed]",
      "text/plain": [
       "<Figure size 600x600 with 1 Axes>"
      ]
     },
     "metadata": {},
     "output_type": "display_data"
    }
   ],
   "source": [
    "# feature importance 시각화\n",
    "from lightgbm import plot_importance\n",
    "import matplotlib.pyplot as plt\n",
    "%matplotlib inline\n",
    "\n",
    "f, ax = plt.subplots(figsize=(6, 6))\n",
    "plot_importance(lgb_clf, max_num_features=10, ax=ax)"
   ]
  },
  {
   "cell_type": "code",
   "execution_count": 52,
   "metadata": {},
   "outputs": [],
   "source": [
    "# 하이퍼파라미터 \n",
    "def objectLGBM(trial : Trial, x_train, y_train, x_test, y_test):\n",
    "    param = {\n",
    "        'n_estimators' : trial.suggest_int('n_estimators', 100, 1000),\n",
    "        'min_data_in_leaf' : trial.suggest_int('min_data_in_leaf', 10, 50),\n",
    "        'learning_rate' : round(trial.suggest_float('learning_rate', 0.1, 3.0), 3),\n",
    "        'max_depth' : trial.suggest_int('max_depth', 1, 3),\n",
    "        'num_leaves' : trial.suggest_int('num_leaves', 20, 50),\n",
    "        'objective' : 'multiclass',\n",
    "        'use_missing' : False\n",
    "    }\n",
    "\n",
    "    LGBM = LGBMClassifier(**param)\n",
    "    LGBM.fit(x_train, y_train)\n",
    "\n",
    "    score = f1_score(LGBM.predict(x_test), y_test, average = 'micro')\n",
    "\n",
    "    return score\n"
   ]
  },
  {
   "cell_type": "code",
   "execution_count": 53,
   "metadata": {},
   "outputs": [
    {
     "name": "stderr",
     "output_type": "stream",
     "text": [
      "\u001b[32m[I 2023-01-29 18:19:22,789]\u001b[0m A new study created in memory with name: no-name-1aa02dcf-b153-44db-b7f9-bd4cdaa3b498\u001b[0m\n"
     ]
    },
    {
     "name": "stdout",
     "output_type": "stream",
     "text": [
      "[LightGBM] [Warning] min_data_in_leaf is set=23, min_child_samples=20 will be ignored. Current value: min_data_in_leaf=23\n"
     ]
    },
    {
     "name": "stderr",
     "output_type": "stream",
     "text": [
      "\u001b[32m[I 2023-01-29 18:19:32,449]\u001b[0m Trial 0 finished with value: 0.5242 and parameters: {'n_estimators': 343, 'min_data_in_leaf': 23, 'learning_rate': 2.6269658842714865, 'max_depth': 2, 'num_leaves': 50}. Best is trial 0 with value: 0.5242.\u001b[0m\n"
     ]
    },
    {
     "name": "stdout",
     "output_type": "stream",
     "text": [
      "[LightGBM] [Warning] min_data_in_leaf is set=28, min_child_samples=20 will be ignored. Current value: min_data_in_leaf=28\n"
     ]
    },
    {
     "name": "stderr",
     "output_type": "stream",
     "text": [
      "\u001b[32m[I 2023-01-29 18:19:44,804]\u001b[0m Trial 1 finished with value: 0.2725 and parameters: {'n_estimators': 339, 'min_data_in_leaf': 28, 'learning_rate': 1.369412534146072, 'max_depth': 3, 'num_leaves': 24}. Best is trial 0 with value: 0.5242.\u001b[0m\n"
     ]
    },
    {
     "name": "stdout",
     "output_type": "stream",
     "text": [
      "[LightGBM] [Warning] min_data_in_leaf is set=48, min_child_samples=20 will be ignored. Current value: min_data_in_leaf=48\n"
     ]
    },
    {
     "name": "stderr",
     "output_type": "stream",
     "text": [
      "\u001b[32m[I 2023-01-29 18:20:06,671]\u001b[0m Trial 2 finished with value: 0.548 and parameters: {'n_estimators': 578, 'min_data_in_leaf': 48, 'learning_rate': 1.2418722148597563, 'max_depth': 3, 'num_leaves': 30}. Best is trial 2 with value: 0.548.\u001b[0m\n"
     ]
    },
    {
     "name": "stdout",
     "output_type": "stream",
     "text": [
      "[LightGBM] [Warning] min_data_in_leaf is set=12, min_child_samples=20 will be ignored. Current value: min_data_in_leaf=12\n"
     ]
    },
    {
     "name": "stderr",
     "output_type": "stream",
     "text": [
      "\u001b[32m[I 2023-01-29 18:20:25,729]\u001b[0m Trial 3 finished with value: 0.7017 and parameters: {'n_estimators': 922, 'min_data_in_leaf': 12, 'learning_rate': 0.47726876805428375, 'max_depth': 1, 'num_leaves': 31}. Best is trial 3 with value: 0.7017.\u001b[0m\n"
     ]
    },
    {
     "name": "stdout",
     "output_type": "stream",
     "text": [
      "[LightGBM] [Warning] min_data_in_leaf is set=42, min_child_samples=20 will be ignored. Current value: min_data_in_leaf=42\n"
     ]
    },
    {
     "name": "stderr",
     "output_type": "stream",
     "text": [
      "\u001b[32m[I 2023-01-29 18:20:42,141]\u001b[0m Trial 4 finished with value: 0.4976 and parameters: {'n_estimators': 722, 'min_data_in_leaf': 42, 'learning_rate': 1.8210865098948272, 'max_depth': 3, 'num_leaves': 42}. Best is trial 3 with value: 0.7017.\u001b[0m\n"
     ]
    },
    {
     "name": "stdout",
     "output_type": "stream",
     "text": [
      "[LightGBM] [Warning] min_data_in_leaf is set=42, min_child_samples=20 will be ignored. Current value: min_data_in_leaf=42\n"
     ]
    },
    {
     "name": "stderr",
     "output_type": "stream",
     "text": [
      "\u001b[32m[I 2023-01-29 18:20:50,781]\u001b[0m Trial 5 finished with value: 0.6421 and parameters: {'n_estimators': 256, 'min_data_in_leaf': 42, 'learning_rate': 1.4949436718806617, 'max_depth': 1, 'num_leaves': 44}. Best is trial 3 with value: 0.7017.\u001b[0m\n"
     ]
    },
    {
     "name": "stdout",
     "output_type": "stream",
     "text": [
      "[LightGBM] [Warning] min_data_in_leaf is set=19, min_child_samples=20 will be ignored. Current value: min_data_in_leaf=19\n"
     ]
    },
    {
     "name": "stderr",
     "output_type": "stream",
     "text": [
      "\u001b[32m[I 2023-01-29 18:21:18,426]\u001b[0m Trial 6 finished with value: 0.4996 and parameters: {'n_estimators': 966, 'min_data_in_leaf': 19, 'learning_rate': 1.527369343316057, 'max_depth': 3, 'num_leaves': 28}. Best is trial 3 with value: 0.7017.\u001b[0m\n"
     ]
    },
    {
     "name": "stdout",
     "output_type": "stream",
     "text": [
      "[LightGBM] [Warning] min_data_in_leaf is set=34, min_child_samples=20 will be ignored. Current value: min_data_in_leaf=34\n"
     ]
    },
    {
     "name": "stderr",
     "output_type": "stream",
     "text": [
      "\u001b[32m[I 2023-01-29 18:21:25,870]\u001b[0m Trial 7 finished with value: 0.6247 and parameters: {'n_estimators': 324, 'min_data_in_leaf': 34, 'learning_rate': 1.8767180290056198, 'max_depth': 3, 'num_leaves': 35}. Best is trial 3 with value: 0.7017.\u001b[0m\n"
     ]
    },
    {
     "name": "stdout",
     "output_type": "stream",
     "text": [
      "[LightGBM] [Warning] min_data_in_leaf is set=36, min_child_samples=20 will be ignored. Current value: min_data_in_leaf=36\n"
     ]
    },
    {
     "name": "stderr",
     "output_type": "stream",
     "text": [
      "\u001b[32m[I 2023-01-29 18:21:34,425]\u001b[0m Trial 8 finished with value: 0.3387 and parameters: {'n_estimators': 422, 'min_data_in_leaf': 36, 'learning_rate': 1.9730316792609723, 'max_depth': 2, 'num_leaves': 41}. Best is trial 3 with value: 0.7017.\u001b[0m\n"
     ]
    },
    {
     "name": "stdout",
     "output_type": "stream",
     "text": [
      "[LightGBM] [Warning] min_data_in_leaf is set=27, min_child_samples=20 will be ignored. Current value: min_data_in_leaf=27\n"
     ]
    },
    {
     "name": "stderr",
     "output_type": "stream",
     "text": [
      "\u001b[32m[I 2023-01-29 18:21:38,149]\u001b[0m Trial 9 finished with value: 0.1945 and parameters: {'n_estimators': 132, 'min_data_in_leaf': 27, 'learning_rate': 2.4043647605406626, 'max_depth': 3, 'num_leaves': 44}. Best is trial 3 with value: 0.7017.\u001b[0m\n"
     ]
    },
    {
     "name": "stdout",
     "output_type": "stream",
     "text": [
      "Best trial : score 0.7017, \n",
      "params {'n_estimators': 922, 'min_data_in_leaf': 12, 'learning_rate': 0.47726876805428375, 'max_depth': 1, 'num_leaves': 31}\n"
     ]
    }
   ],
   "source": [
    "study = optuna.create_study(direction = 'maximize', sampler = TPESampler())\n",
    "study.optimize(lambda trial : objectLGBM(trial, x_train, y_train, x_valid, y_valid), n_trials = 10)\n",
    "print('Best trial : score {}, \\nparams {}'.format(study.best_trial.value, study.best_trial.params))\n",
    "\n",
    "## Best trial : score 0.7017, \n",
    "## params {'n_estimators': 922, 'min_data_in_leaf': 12, 'learning_rate': 0.47726876805428375, 'max_depth': 1, 'num_leaves': 31}"
   ]
  },
  {
   "cell_type": "code",
   "execution_count": 56,
   "metadata": {},
   "outputs": [
    {
     "data": {
      "application/vnd.plotly.v1+json": {
       "config": {
        "plotlyServerURL": "https://plot.ly"
       },
       "data": [
        {
         "mode": "markers",
         "name": "Objective Value",
         "type": "scatter",
         "x": [
          0,
          1,
          2,
          3,
          4,
          5,
          6,
          7,
          8,
          9
         ],
         "y": [
          0.5242,
          0.2725,
          0.548,
          0.7017,
          0.4976,
          0.6421,
          0.4996,
          0.6247,
          0.3387,
          0.1945
         ]
        },
        {
         "name": "Best Value",
         "type": "scatter",
         "x": [
          0,
          1,
          2,
          3,
          4,
          5,
          6,
          7,
          8,
          9
         ],
         "y": [
          0.5242,
          0.5242,
          0.548,
          0.7017,
          0.7017,
          0.7017,
          0.7017,
          0.7017,
          0.7017,
          0.7017
         ]
        }
       ],
       "layout": {
        "template": {
         "data": {
          "bar": [
           {
            "error_x": {
             "color": "#2a3f5f"
            },
            "error_y": {
             "color": "#2a3f5f"
            },
            "marker": {
             "line": {
              "color": "#E5ECF6",
              "width": 0.5
             },
             "pattern": {
              "fillmode": "overlay",
              "size": 10,
              "solidity": 0.2
             }
            },
            "type": "bar"
           }
          ],
          "barpolar": [
           {
            "marker": {
             "line": {
              "color": "#E5ECF6",
              "width": 0.5
             },
             "pattern": {
              "fillmode": "overlay",
              "size": 10,
              "solidity": 0.2
             }
            },
            "type": "barpolar"
           }
          ],
          "carpet": [
           {
            "aaxis": {
             "endlinecolor": "#2a3f5f",
             "gridcolor": "white",
             "linecolor": "white",
             "minorgridcolor": "white",
             "startlinecolor": "#2a3f5f"
            },
            "baxis": {
             "endlinecolor": "#2a3f5f",
             "gridcolor": "white",
             "linecolor": "white",
             "minorgridcolor": "white",
             "startlinecolor": "#2a3f5f"
            },
            "type": "carpet"
           }
          ],
          "choropleth": [
           {
            "colorbar": {
             "outlinewidth": 0,
             "ticks": ""
            },
            "type": "choropleth"
           }
          ],
          "contour": [
           {
            "colorbar": {
             "outlinewidth": 0,
             "ticks": ""
            },
            "colorscale": [
             [
              0,
              "#0d0887"
             ],
             [
              0.1111111111111111,
              "#46039f"
             ],
             [
              0.2222222222222222,
              "#7201a8"
             ],
             [
              0.3333333333333333,
              "#9c179e"
             ],
             [
              0.4444444444444444,
              "#bd3786"
             ],
             [
              0.5555555555555556,
              "#d8576b"
             ],
             [
              0.6666666666666666,
              "#ed7953"
             ],
             [
              0.7777777777777778,
              "#fb9f3a"
             ],
             [
              0.8888888888888888,
              "#fdca26"
             ],
             [
              1,
              "#f0f921"
             ]
            ],
            "type": "contour"
           }
          ],
          "contourcarpet": [
           {
            "colorbar": {
             "outlinewidth": 0,
             "ticks": ""
            },
            "type": "contourcarpet"
           }
          ],
          "heatmap": [
           {
            "colorbar": {
             "outlinewidth": 0,
             "ticks": ""
            },
            "colorscale": [
             [
              0,
              "#0d0887"
             ],
             [
              0.1111111111111111,
              "#46039f"
             ],
             [
              0.2222222222222222,
              "#7201a8"
             ],
             [
              0.3333333333333333,
              "#9c179e"
             ],
             [
              0.4444444444444444,
              "#bd3786"
             ],
             [
              0.5555555555555556,
              "#d8576b"
             ],
             [
              0.6666666666666666,
              "#ed7953"
             ],
             [
              0.7777777777777778,
              "#fb9f3a"
             ],
             [
              0.8888888888888888,
              "#fdca26"
             ],
             [
              1,
              "#f0f921"
             ]
            ],
            "type": "heatmap"
           }
          ],
          "heatmapgl": [
           {
            "colorbar": {
             "outlinewidth": 0,
             "ticks": ""
            },
            "colorscale": [
             [
              0,
              "#0d0887"
             ],
             [
              0.1111111111111111,
              "#46039f"
             ],
             [
              0.2222222222222222,
              "#7201a8"
             ],
             [
              0.3333333333333333,
              "#9c179e"
             ],
             [
              0.4444444444444444,
              "#bd3786"
             ],
             [
              0.5555555555555556,
              "#d8576b"
             ],
             [
              0.6666666666666666,
              "#ed7953"
             ],
             [
              0.7777777777777778,
              "#fb9f3a"
             ],
             [
              0.8888888888888888,
              "#fdca26"
             ],
             [
              1,
              "#f0f921"
             ]
            ],
            "type": "heatmapgl"
           }
          ],
          "histogram": [
           {
            "marker": {
             "pattern": {
              "fillmode": "overlay",
              "size": 10,
              "solidity": 0.2
             }
            },
            "type": "histogram"
           }
          ],
          "histogram2d": [
           {
            "colorbar": {
             "outlinewidth": 0,
             "ticks": ""
            },
            "colorscale": [
             [
              0,
              "#0d0887"
             ],
             [
              0.1111111111111111,
              "#46039f"
             ],
             [
              0.2222222222222222,
              "#7201a8"
             ],
             [
              0.3333333333333333,
              "#9c179e"
             ],
             [
              0.4444444444444444,
              "#bd3786"
             ],
             [
              0.5555555555555556,
              "#d8576b"
             ],
             [
              0.6666666666666666,
              "#ed7953"
             ],
             [
              0.7777777777777778,
              "#fb9f3a"
             ],
             [
              0.8888888888888888,
              "#fdca26"
             ],
             [
              1,
              "#f0f921"
             ]
            ],
            "type": "histogram2d"
           }
          ],
          "histogram2dcontour": [
           {
            "colorbar": {
             "outlinewidth": 0,
             "ticks": ""
            },
            "colorscale": [
             [
              0,
              "#0d0887"
             ],
             [
              0.1111111111111111,
              "#46039f"
             ],
             [
              0.2222222222222222,
              "#7201a8"
             ],
             [
              0.3333333333333333,
              "#9c179e"
             ],
             [
              0.4444444444444444,
              "#bd3786"
             ],
             [
              0.5555555555555556,
              "#d8576b"
             ],
             [
              0.6666666666666666,
              "#ed7953"
             ],
             [
              0.7777777777777778,
              "#fb9f3a"
             ],
             [
              0.8888888888888888,
              "#fdca26"
             ],
             [
              1,
              "#f0f921"
             ]
            ],
            "type": "histogram2dcontour"
           }
          ],
          "mesh3d": [
           {
            "colorbar": {
             "outlinewidth": 0,
             "ticks": ""
            },
            "type": "mesh3d"
           }
          ],
          "parcoords": [
           {
            "line": {
             "colorbar": {
              "outlinewidth": 0,
              "ticks": ""
             }
            },
            "type": "parcoords"
           }
          ],
          "pie": [
           {
            "automargin": true,
            "type": "pie"
           }
          ],
          "scatter": [
           {
            "fillpattern": {
             "fillmode": "overlay",
             "size": 10,
             "solidity": 0.2
            },
            "type": "scatter"
           }
          ],
          "scatter3d": [
           {
            "line": {
             "colorbar": {
              "outlinewidth": 0,
              "ticks": ""
             }
            },
            "marker": {
             "colorbar": {
              "outlinewidth": 0,
              "ticks": ""
             }
            },
            "type": "scatter3d"
           }
          ],
          "scattercarpet": [
           {
            "marker": {
             "colorbar": {
              "outlinewidth": 0,
              "ticks": ""
             }
            },
            "type": "scattercarpet"
           }
          ],
          "scattergeo": [
           {
            "marker": {
             "colorbar": {
              "outlinewidth": 0,
              "ticks": ""
             }
            },
            "type": "scattergeo"
           }
          ],
          "scattergl": [
           {
            "marker": {
             "colorbar": {
              "outlinewidth": 0,
              "ticks": ""
             }
            },
            "type": "scattergl"
           }
          ],
          "scattermapbox": [
           {
            "marker": {
             "colorbar": {
              "outlinewidth": 0,
              "ticks": ""
             }
            },
            "type": "scattermapbox"
           }
          ],
          "scatterpolar": [
           {
            "marker": {
             "colorbar": {
              "outlinewidth": 0,
              "ticks": ""
             }
            },
            "type": "scatterpolar"
           }
          ],
          "scatterpolargl": [
           {
            "marker": {
             "colorbar": {
              "outlinewidth": 0,
              "ticks": ""
             }
            },
            "type": "scatterpolargl"
           }
          ],
          "scatterternary": [
           {
            "marker": {
             "colorbar": {
              "outlinewidth": 0,
              "ticks": ""
             }
            },
            "type": "scatterternary"
           }
          ],
          "surface": [
           {
            "colorbar": {
             "outlinewidth": 0,
             "ticks": ""
            },
            "colorscale": [
             [
              0,
              "#0d0887"
             ],
             [
              0.1111111111111111,
              "#46039f"
             ],
             [
              0.2222222222222222,
              "#7201a8"
             ],
             [
              0.3333333333333333,
              "#9c179e"
             ],
             [
              0.4444444444444444,
              "#bd3786"
             ],
             [
              0.5555555555555556,
              "#d8576b"
             ],
             [
              0.6666666666666666,
              "#ed7953"
             ],
             [
              0.7777777777777778,
              "#fb9f3a"
             ],
             [
              0.8888888888888888,
              "#fdca26"
             ],
             [
              1,
              "#f0f921"
             ]
            ],
            "type": "surface"
           }
          ],
          "table": [
           {
            "cells": {
             "fill": {
              "color": "#EBF0F8"
             },
             "line": {
              "color": "white"
             }
            },
            "header": {
             "fill": {
              "color": "#C8D4E3"
             },
             "line": {
              "color": "white"
             }
            },
            "type": "table"
           }
          ]
         },
         "layout": {
          "annotationdefaults": {
           "arrowcolor": "#2a3f5f",
           "arrowhead": 0,
           "arrowwidth": 1
          },
          "autotypenumbers": "strict",
          "coloraxis": {
           "colorbar": {
            "outlinewidth": 0,
            "ticks": ""
           }
          },
          "colorscale": {
           "diverging": [
            [
             0,
             "#8e0152"
            ],
            [
             0.1,
             "#c51b7d"
            ],
            [
             0.2,
             "#de77ae"
            ],
            [
             0.3,
             "#f1b6da"
            ],
            [
             0.4,
             "#fde0ef"
            ],
            [
             0.5,
             "#f7f7f7"
            ],
            [
             0.6,
             "#e6f5d0"
            ],
            [
             0.7,
             "#b8e186"
            ],
            [
             0.8,
             "#7fbc41"
            ],
            [
             0.9,
             "#4d9221"
            ],
            [
             1,
             "#276419"
            ]
           ],
           "sequential": [
            [
             0,
             "#0d0887"
            ],
            [
             0.1111111111111111,
             "#46039f"
            ],
            [
             0.2222222222222222,
             "#7201a8"
            ],
            [
             0.3333333333333333,
             "#9c179e"
            ],
            [
             0.4444444444444444,
             "#bd3786"
            ],
            [
             0.5555555555555556,
             "#d8576b"
            ],
            [
             0.6666666666666666,
             "#ed7953"
            ],
            [
             0.7777777777777778,
             "#fb9f3a"
            ],
            [
             0.8888888888888888,
             "#fdca26"
            ],
            [
             1,
             "#f0f921"
            ]
           ],
           "sequentialminus": [
            [
             0,
             "#0d0887"
            ],
            [
             0.1111111111111111,
             "#46039f"
            ],
            [
             0.2222222222222222,
             "#7201a8"
            ],
            [
             0.3333333333333333,
             "#9c179e"
            ],
            [
             0.4444444444444444,
             "#bd3786"
            ],
            [
             0.5555555555555556,
             "#d8576b"
            ],
            [
             0.6666666666666666,
             "#ed7953"
            ],
            [
             0.7777777777777778,
             "#fb9f3a"
            ],
            [
             0.8888888888888888,
             "#fdca26"
            ],
            [
             1,
             "#f0f921"
            ]
           ]
          },
          "colorway": [
           "#636efa",
           "#EF553B",
           "#00cc96",
           "#ab63fa",
           "#FFA15A",
           "#19d3f3",
           "#FF6692",
           "#B6E880",
           "#FF97FF",
           "#FECB52"
          ],
          "font": {
           "color": "#2a3f5f"
          },
          "geo": {
           "bgcolor": "white",
           "lakecolor": "white",
           "landcolor": "#E5ECF6",
           "showlakes": true,
           "showland": true,
           "subunitcolor": "white"
          },
          "hoverlabel": {
           "align": "left"
          },
          "hovermode": "closest",
          "mapbox": {
           "style": "light"
          },
          "paper_bgcolor": "white",
          "plot_bgcolor": "#E5ECF6",
          "polar": {
           "angularaxis": {
            "gridcolor": "white",
            "linecolor": "white",
            "ticks": ""
           },
           "bgcolor": "#E5ECF6",
           "radialaxis": {
            "gridcolor": "white",
            "linecolor": "white",
            "ticks": ""
           }
          },
          "scene": {
           "xaxis": {
            "backgroundcolor": "#E5ECF6",
            "gridcolor": "white",
            "gridwidth": 2,
            "linecolor": "white",
            "showbackground": true,
            "ticks": "",
            "zerolinecolor": "white"
           },
           "yaxis": {
            "backgroundcolor": "#E5ECF6",
            "gridcolor": "white",
            "gridwidth": 2,
            "linecolor": "white",
            "showbackground": true,
            "ticks": "",
            "zerolinecolor": "white"
           },
           "zaxis": {
            "backgroundcolor": "#E5ECF6",
            "gridcolor": "white",
            "gridwidth": 2,
            "linecolor": "white",
            "showbackground": true,
            "ticks": "",
            "zerolinecolor": "white"
           }
          },
          "shapedefaults": {
           "line": {
            "color": "#2a3f5f"
           }
          },
          "ternary": {
           "aaxis": {
            "gridcolor": "white",
            "linecolor": "white",
            "ticks": ""
           },
           "baxis": {
            "gridcolor": "white",
            "linecolor": "white",
            "ticks": ""
           },
           "bgcolor": "#E5ECF6",
           "caxis": {
            "gridcolor": "white",
            "linecolor": "white",
            "ticks": ""
           }
          },
          "title": {
           "x": 0.05
          },
          "xaxis": {
           "automargin": true,
           "gridcolor": "white",
           "linecolor": "white",
           "ticks": "",
           "title": {
            "standoff": 15
           },
           "zerolinecolor": "white",
           "zerolinewidth": 2
          },
          "yaxis": {
           "automargin": true,
           "gridcolor": "white",
           "linecolor": "white",
           "ticks": "",
           "title": {
            "standoff": 15
           },
           "zerolinecolor": "white",
           "zerolinewidth": 2
          }
         }
        },
        "title": {
         "text": "Optimization History Plot"
        },
        "xaxis": {
         "title": {
          "text": "Trial"
         }
        },
        "yaxis": {
         "title": {
          "text": "Objective Value"
         }
        }
       }
      }
     },
     "metadata": {},
     "output_type": "display_data"
    }
   ],
   "source": [
    "optuna.visualization.plot_param_importances(study) # 파라미터 중요도 확인 그래프\n",
    "optuna.visualization.plot_optimization_history(study) # 최적화 과정 시각화"
   ]
  },
  {
   "cell_type": "code",
   "execution_count": null,
   "metadata": {},
   "outputs": [],
   "source": []
  },
  {
   "cell_type": "code",
   "execution_count": null,
   "metadata": {},
   "outputs": [],
   "source": []
  }
 ],
 "metadata": {
  "kernelspec": {
   "display_name": "base",
   "language": "python",
   "name": "python3"
  },
  "language_info": {
   "codemirror_mode": {
    "name": "ipython",
    "version": 3
   },
   "file_extension": ".py",
   "mimetype": "text/x-python",
   "name": "python",
   "nbconvert_exporter": "python",
   "pygments_lexer": "ipython3",
   "version": "3.9.15"
  },
  "orig_nbformat": 4,
  "vscode": {
   "interpreter": {
    "hash": "ad2bdc8ecc057115af97d19610ffacc2b4e99fae6737bb82f5d7fb13d2f2c186"
   }
  }
 },
 "nbformat": 4,
 "nbformat_minor": 2
}
